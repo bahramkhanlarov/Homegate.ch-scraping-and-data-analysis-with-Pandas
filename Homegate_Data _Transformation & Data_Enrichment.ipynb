{
 "cells": [
  {
   "cell_type": "markdown",
   "id": "ec463c18",
   "metadata": {},
   "source": [
    "# ETL Process - Data Transformation & Data Enrichment"
   ]
  },
  {
   "cell_type": "code",
   "execution_count": 225,
   "id": "c0f6d6ba",
   "metadata": {},
   "outputs": [],
   "source": [
    "import pandas as pd\n",
    "# Read data from .csv file\n",
    "df = pd.read_csv('/Users/bkhan/switchdrive/2nd semester courses/CIP/scrapings/Homegate scraping/Geneva_listings_src.csv')"
   ]
  },
  {
   "cell_type": "code",
   "execution_count": 226,
   "id": "a81b56dc",
   "metadata": {},
   "outputs": [
    {
     "data": {
      "text/plain": [
       "price      object\n",
       "size       object\n",
       "rooms      object\n",
       "address    object\n",
       "dtype: object"
      ]
     },
     "execution_count": 226,
     "metadata": {},
     "output_type": "execute_result"
    }
   ],
   "source": [
    "# all of our variables are object type\n",
    "df.dtypes"
   ]
  },
  {
   "cell_type": "code",
   "execution_count": 227,
   "id": "38aac515",
   "metadata": {},
   "outputs": [
    {
     "data": {
      "text/html": [
       "<div>\n",
       "<style scoped>\n",
       "    .dataframe tbody tr th:only-of-type {\n",
       "        vertical-align: middle;\n",
       "    }\n",
       "\n",
       "    .dataframe tbody tr th {\n",
       "        vertical-align: top;\n",
       "    }\n",
       "\n",
       "    .dataframe thead th {\n",
       "        text-align: right;\n",
       "    }\n",
       "</style>\n",
       "<table border=\"1\" class=\"dataframe\">\n",
       "  <thead>\n",
       "    <tr style=\"text-align: right;\">\n",
       "      <th></th>\n",
       "      <th>price</th>\n",
       "      <th>size</th>\n",
       "      <th>rooms</th>\n",
       "      <th>address</th>\n",
       "    </tr>\n",
       "  </thead>\n",
       "  <tbody>\n",
       "    <tr>\n",
       "      <th>0</th>\n",
       "      <td>4,150.–</td>\n",
       "      <td>104m2</td>\n",
       "      <td>2.5rm</td>\n",
       "      <td>Rue de l'Athénée 38, 1206 Genf</td>\n",
       "    </tr>\n",
       "    <tr>\n",
       "      <th>1</th>\n",
       "      <td>1,250.–</td>\n",
       "      <td>26m2</td>\n",
       "      <td>1rm</td>\n",
       "      <td>Rue de la Dôle 15, 1203 Genève</td>\n",
       "    </tr>\n",
       "    <tr>\n",
       "      <th>2</th>\n",
       "      <td>4,000.–</td>\n",
       "      <td>90m2</td>\n",
       "      <td>2.5rm</td>\n",
       "      <td>Rue de l'Athénée 36, 1206 Genève</td>\n",
       "    </tr>\n",
       "    <tr>\n",
       "      <th>3</th>\n",
       "      <td>3,100.–</td>\n",
       "      <td>82m2</td>\n",
       "      <td>4rm</td>\n",
       "      <td>Rue Liotard, 1202 Geneva</td>\n",
       "    </tr>\n",
       "    <tr>\n",
       "      <th>4</th>\n",
       "      <td>1,580.–</td>\n",
       "      <td>NaN</td>\n",
       "      <td>2.5rm</td>\n",
       "      <td>Rue de Lyon, 1201 Genève</td>\n",
       "    </tr>\n",
       "  </tbody>\n",
       "</table>\n",
       "</div>"
      ],
      "text/plain": [
       "     price   size  rooms                           address\n",
       "0  4,150.–  104m2  2.5rm    Rue de l'Athénée 38, 1206 Genf\n",
       "1  1,250.–   26m2    1rm    Rue de la Dôle 15, 1203 Genève\n",
       "2  4,000.–   90m2  2.5rm  Rue de l'Athénée 36, 1206 Genève\n",
       "3  3,100.–   82m2    4rm          Rue Liotard, 1202 Geneva\n",
       "4  1,580.–    NaN  2.5rm          Rue de Lyon, 1201 Genève"
      ]
     },
     "execution_count": 227,
     "metadata": {},
     "output_type": "execute_result"
    }
   ],
   "source": [
    "# Preview top 5 rows using head()\n",
    "df.head()\n"
   ]
  },
  {
   "cell_type": "code",
   "execution_count": 228,
   "id": "c5dd2a0b",
   "metadata": {},
   "outputs": [
    {
     "name": "stdout",
     "output_type": "stream",
     "text": [
      "<class 'pandas.core.frame.DataFrame'>\n",
      "RangeIndex: 405 entries, 0 to 404\n",
      "Data columns (total 4 columns):\n",
      " #   Column   Non-Null Count  Dtype \n",
      "---  ------   --------------  ----- \n",
      " 0   price    384 non-null    object\n",
      " 1   size     342 non-null    object\n",
      " 2   rooms    396 non-null    object\n",
      " 3   address  405 non-null    object\n",
      "dtypes: object(4)\n",
      "memory usage: 12.8+ KB\n"
     ]
    }
   ],
   "source": [
    "# Lets first understand the basic information about this data\n",
    "df.info()"
   ]
  },
  {
   "cell_type": "code",
   "execution_count": 229,
   "id": "79e5999c",
   "metadata": {},
   "outputs": [
    {
     "data": {
      "text/plain": [
       "(405, 4)"
      ]
     },
     "execution_count": 229,
     "metadata": {},
     "output_type": "execute_result"
    }
   ],
   "source": [
    "# we have 400 rows and 4 variables\n",
    "df.shape"
   ]
  },
  {
   "cell_type": "code",
   "execution_count": 230,
   "id": "48ec7eee",
   "metadata": {},
   "outputs": [
    {
     "name": "stdout",
     "output_type": "stream",
     "text": [
      "Price\n",
      "Size\n",
      "Rooms\n",
      "Address\n"
     ]
    }
   ],
   "source": [
    "\n",
    "# Convert Column Labels to first letter capital in Dataframe\n",
    "df.columns = df.columns.str.title()\n",
    "for col in df.columns:\n",
    "    print(col)"
   ]
  },
  {
   "cell_type": "code",
   "execution_count": 231,
   "id": "458dbe9e",
   "metadata": {},
   "outputs": [
    {
     "data": {
      "text/html": [
       "<div>\n",
       "<style scoped>\n",
       "    .dataframe tbody tr th:only-of-type {\n",
       "        vertical-align: middle;\n",
       "    }\n",
       "\n",
       "    .dataframe tbody tr th {\n",
       "        vertical-align: top;\n",
       "    }\n",
       "\n",
       "    .dataframe thead th {\n",
       "        text-align: right;\n",
       "    }\n",
       "</style>\n",
       "<table border=\"1\" class=\"dataframe\">\n",
       "  <thead>\n",
       "    <tr style=\"text-align: right;\">\n",
       "      <th></th>\n",
       "      <th>Rent</th>\n",
       "      <th>SurfaceArea</th>\n",
       "      <th>NumRooms</th>\n",
       "      <th>Address</th>\n",
       "    </tr>\n",
       "  </thead>\n",
       "  <tbody>\n",
       "    <tr>\n",
       "      <th>0</th>\n",
       "      <td>4,150.–</td>\n",
       "      <td>104m2</td>\n",
       "      <td>2.5rm</td>\n",
       "      <td>Rue de l'Athénée 38, 1206 Genf</td>\n",
       "    </tr>\n",
       "    <tr>\n",
       "      <th>1</th>\n",
       "      <td>1,250.–</td>\n",
       "      <td>26m2</td>\n",
       "      <td>1rm</td>\n",
       "      <td>Rue de la Dôle 15, 1203 Genève</td>\n",
       "    </tr>\n",
       "    <tr>\n",
       "      <th>2</th>\n",
       "      <td>4,000.–</td>\n",
       "      <td>90m2</td>\n",
       "      <td>2.5rm</td>\n",
       "      <td>Rue de l'Athénée 36, 1206 Genève</td>\n",
       "    </tr>\n",
       "    <tr>\n",
       "      <th>3</th>\n",
       "      <td>3,100.–</td>\n",
       "      <td>82m2</td>\n",
       "      <td>4rm</td>\n",
       "      <td>Rue Liotard, 1202 Geneva</td>\n",
       "    </tr>\n",
       "    <tr>\n",
       "      <th>4</th>\n",
       "      <td>1,580.–</td>\n",
       "      <td>NaN</td>\n",
       "      <td>2.5rm</td>\n",
       "      <td>Rue de Lyon, 1201 Genève</td>\n",
       "    </tr>\n",
       "    <tr>\n",
       "      <th>...</th>\n",
       "      <td>...</td>\n",
       "      <td>...</td>\n",
       "      <td>...</td>\n",
       "      <td>...</td>\n",
       "    </tr>\n",
       "    <tr>\n",
       "      <th>400</th>\n",
       "      <td>3,335.–</td>\n",
       "      <td>88m2</td>\n",
       "      <td>4.5rm</td>\n",
       "      <td>Chemin De La Chevillarde 44, 1208 Ginevra</td>\n",
       "    </tr>\n",
       "    <tr>\n",
       "      <th>401</th>\n",
       "      <td>4,160.–</td>\n",
       "      <td>NaN</td>\n",
       "      <td>5rm</td>\n",
       "      <td>Avenue du Bouchet 20A, 1209 Le Grand-Saconnex</td>\n",
       "    </tr>\n",
       "    <tr>\n",
       "      <th>402</th>\n",
       "      <td>1,600.–</td>\n",
       "      <td>32m2</td>\n",
       "      <td>2rm</td>\n",
       "      <td>Rue Benjamin-Soullier 5, 1202 Genf</td>\n",
       "    </tr>\n",
       "    <tr>\n",
       "      <th>403</th>\n",
       "      <td>750.–</td>\n",
       "      <td>15m2</td>\n",
       "      <td>NaN</td>\n",
       "      <td>Promenade de l'Europe, 1203 Genf</td>\n",
       "    </tr>\n",
       "    <tr>\n",
       "      <th>404</th>\n",
       "      <td>900.–</td>\n",
       "      <td>NaN</td>\n",
       "      <td>NaN</td>\n",
       "      <td>76 Rue Montchoisy, 1207 Genf</td>\n",
       "    </tr>\n",
       "  </tbody>\n",
       "</table>\n",
       "<p>405 rows × 4 columns</p>\n",
       "</div>"
      ],
      "text/plain": [
       "        Rent SurfaceArea NumRooms  \\\n",
       "0    4,150.–       104m2    2.5rm   \n",
       "1    1,250.–        26m2      1rm   \n",
       "2    4,000.–        90m2    2.5rm   \n",
       "3    3,100.–        82m2      4rm   \n",
       "4    1,580.–         NaN    2.5rm   \n",
       "..       ...         ...      ...   \n",
       "400  3,335.–        88m2    4.5rm   \n",
       "401  4,160.–         NaN      5rm   \n",
       "402  1,600.–        32m2      2rm   \n",
       "403    750.–        15m2      NaN   \n",
       "404    900.–         NaN      NaN   \n",
       "\n",
       "                                           Address  \n",
       "0                   Rue de l'Athénée 38, 1206 Genf  \n",
       "1                   Rue de la Dôle 15, 1203 Genève  \n",
       "2                 Rue de l'Athénée 36, 1206 Genève  \n",
       "3                         Rue Liotard, 1202 Geneva  \n",
       "4                         Rue de Lyon, 1201 Genève  \n",
       "..                                             ...  \n",
       "400      Chemin De La Chevillarde 44, 1208 Ginevra  \n",
       "401  Avenue du Bouchet 20A, 1209 Le Grand-Saconnex  \n",
       "402             Rue Benjamin-Soullier 5, 1202 Genf  \n",
       "403               Promenade de l'Europe, 1203 Genf  \n",
       "404                   76 Rue Montchoisy, 1207 Genf  \n",
       "\n",
       "[405 rows x 4 columns]"
      ]
     },
     "execution_count": 231,
     "metadata": {},
     "output_type": "execute_result"
    }
   ],
   "source": [
    "# Renaming columns names\n",
    "df.rename(columns = {'Price':'Rent','Size':'SurfaceArea','Rooms':'NumRooms'}, inplace = True)\n",
    "df\n",
    " "
   ]
  },
  {
   "cell_type": "code",
   "execution_count": 232,
   "id": "484fc762",
   "metadata": {},
   "outputs": [
    {
     "data": {
      "text/plain": [
       "0      104m2\n",
       "1       26m2\n",
       "2       90m2\n",
       "3       82m2\n",
       "4        NaN\n",
       "       ...  \n",
       "400     88m2\n",
       "401      NaN\n",
       "402     32m2\n",
       "403     15m2\n",
       "404      NaN\n",
       "Name: SurfaceArea, Length: 405, dtype: object"
      ]
     },
     "execution_count": 232,
     "metadata": {},
     "output_type": "execute_result"
    }
   ],
   "source": [
    "#Checking rent column\n",
    "df.iloc[:,1]"
   ]
  },
  {
   "cell_type": "code",
   "execution_count": 233,
   "id": "ee84b2d7",
   "metadata": {},
   "outputs": [
    {
     "data": {
      "text/plain": [
       "dtype('float64')"
      ]
     },
     "execution_count": 233,
     "metadata": {},
     "output_type": "execute_result"
    }
   ],
   "source": [
    "## cannot-convert-string-to-float cause of (.–)&(,) character, therefore applied following:\n",
    "#converting to float\n",
    "df['Rent'] = df['Rent'].replace('.–','',regex=True).replace(',','',regex=True).astype(str)\n",
    "df['Rent']=df['Rent'].astype(float)\n",
    "df['Rent'].dtypes\n",
    "\n",
    "\n",
    "\n",
    "                       "
   ]
  },
  {
   "cell_type": "code",
   "execution_count": 234,
   "id": "a5eb0c51",
   "metadata": {},
   "outputs": [
    {
     "data": {
      "text/plain": [
       "0      104.0\n",
       "1       26.0\n",
       "2       90.0\n",
       "3       82.0\n",
       "4        NaN\n",
       "       ...  \n",
       "400     88.0\n",
       "401      NaN\n",
       "402     32.0\n",
       "403     15.0\n",
       "404      NaN\n",
       "Name: SurfaceArea, Length: 405, dtype: float64"
      ]
     },
     "execution_count": 234,
     "metadata": {},
     "output_type": "execute_result"
    }
   ],
   "source": [
    "# Removing m2 from size column, converting to float\n",
    "df['SurfaceArea'] = df['SurfaceArea'].replace('m2','',regex=True).astype(str)\n",
    "df['SurfaceArea']=df['SurfaceArea'].astype(float)\n",
    "df['SurfaceArea']"
   ]
  },
  {
   "cell_type": "code",
   "execution_count": 235,
   "id": "d6b5e084",
   "metadata": {},
   "outputs": [
    {
     "data": {
      "text/plain": [
       "0      2.5\n",
       "1      1.0\n",
       "2      2.5\n",
       "3      4.0\n",
       "4      2.5\n",
       "      ... \n",
       "400    4.5\n",
       "401    5.0\n",
       "402    2.0\n",
       "403    NaN\n",
       "404    NaN\n",
       "Name: NumRooms, Length: 405, dtype: float64"
      ]
     },
     "execution_count": 235,
     "metadata": {},
     "output_type": "execute_result"
    }
   ],
   "source": [
    "# Converted to float\n",
    "df['NumRooms']=df['NumRooms'].replace('rm','',regex=True).astype(str)\n",
    "df['NumRooms']=df['NumRooms'].astype(float)\n",
    "df['NumRooms']"
   ]
  },
  {
   "cell_type": "code",
   "execution_count": 236,
   "id": "5c799ba9",
   "metadata": {},
   "outputs": [
    {
     "data": {
      "text/plain": [
       "0                   Rue de l'Athénée 38, 1206 Geneva\n",
       "1                     Rue de la Dôle 15, 1203 Geneva\n",
       "2                   Rue de l'Athénée 36, 1206 Geneva\n",
       "3                           Rue Liotard, 1202 Geneva\n",
       "4                           Rue de Lyon, 1201 Geneva\n",
       "                           ...                      \n",
       "400         Chemin De La Chevillarde 44, 1208 Geneva\n",
       "401    Avenue du Bouchet 20A, 1209 Le Grand-Saconnex\n",
       "402             Rue Benjamin-Soullier 5, 1202 Geneva\n",
       "403               Promenade de l'Europe, 1203 Geneva\n",
       "404                   76 Rue Montchoisy, 1207 Geneva\n",
       "Name: Address, Length: 405, dtype: object"
      ]
     },
     "execution_count": 236,
     "metadata": {},
     "output_type": "execute_result"
    }
   ],
   "source": [
    "# Genf and Genève german and french,spanish translation we replace with Geneva english one\n",
    "df['Address']=df['Address'].str.replace('Genf','Geneva').str.replace('Genève','Geneva').str.replace('Geneve','Geneva').str.replace('Ginevra','Geneva')\n",
    "df['Address']\n",
    "\n",
    "        "
   ]
  },
  {
   "cell_type": "code",
   "execution_count": 237,
   "id": "fb281f42",
   "metadata": {},
   "outputs": [
    {
     "data": {
      "text/plain": [
       "Rent           21\n",
       "SurfaceArea    63\n",
       "NumRooms        9\n",
       "Address         0\n",
       "dtype: int64"
      ]
     },
     "execution_count": 237,
     "metadata": {},
     "output_type": "execute_result"
    }
   ],
   "source": [
    "# checking missing values, we do observe Rent,SurfaceArea and NumRooms contain NAs\n",
    "\n",
    "df.isnull()\n",
    "df.isnull().sum()"
   ]
  },
  {
   "cell_type": "code",
   "execution_count": 238,
   "id": "90452bfa",
   "metadata": {},
   "outputs": [],
   "source": [
    "# We drop the missing values and NaNs in rows.\n",
    "df.dropna(subset=['Rent','SurfaceArea','NumRooms'],inplace=True)"
   ]
  },
  {
   "cell_type": "markdown",
   "id": "baba6da7",
   "metadata": {},
   "source": [
    "# Exploratory data analysis & Data Enrichment"
   ]
  },
  {
   "cell_type": "markdown",
   "id": "e3bd267e",
   "metadata": {},
   "source": [
    "## Adding new features"
   ]
  },
  {
   "cell_type": "code",
   "execution_count": 239,
   "id": "6438ada5",
   "metadata": {},
   "outputs": [],
   "source": [
    "# I create new columns, rent price per m2, per room and last not least AreaPerRoom to check room size of Apts propoed\n",
    "# price per room and price per surface area\n",
    "df['RentPerArea'] = df['Rent'] / df['SurfaceArea']\n",
    "df['RentPerRoom'] = df['Rent'] / df['NumRooms']\n",
    "df['AreaPerRoom'] = df['SurfaceArea'] / df['NumRooms']"
   ]
  },
  {
   "cell_type": "code",
   "execution_count": 240,
   "id": "c76979f3",
   "metadata": {},
   "outputs": [
    {
     "data": {
      "text/plain": [
       "<AxesSubplot:>"
      ]
     },
     "execution_count": 240,
     "metadata": {},
     "output_type": "execute_result"
    },
    {
     "data": {
      "image/png": "[encoded data removed]",
      "text/plain": [
       "<Figure size 432x288 with 1 Axes>"
      ]
     },
     "metadata": {
      "needs_background": "light"
     },
     "output_type": "display_data"
    }
   ],
   "source": [
    "# making boxplot, median rent price is around 2'500 CHF\n",
    "from matplotlib import pyplot as plt\n",
    "df.boxplot(rot = 45)"
   ]
  },
  {
   "cell_type": "code",
   "execution_count": 241,
   "id": "76292085",
   "metadata": {},
   "outputs": [],
   "source": [
    "# Creating function to explore outliers\n",
    "# Calculating quartile 1, 2 and the interquartile range\n",
    "\n",
    "def get_whiskers(df, col, WHIS):\n",
    "    des = df.describe()\n",
    "    q1 = des[col]['25%']\n",
    "    q3 = des[col]['75%']\n",
    "    iqr = q3 - q1\n",
    "    return [q1 - WHIS * iqr, q3 + WHIS * iqr]"
   ]
  },
  {
   "cell_type": "code",
   "execution_count": 242,
   "id": "9512918b",
   "metadata": {},
   "outputs": [
    {
     "data": {
      "text/plain": [
       "<AxesSubplot:>"
      ]
     },
     "execution_count": 242,
     "metadata": {},
     "output_type": "execute_result"
    },
    {
     "data": {
      "image/png": "[encoded data removed]",
      "text/plain": [
       "<Figure size 432x288 with 1 Axes>"
      ]
     },
     "metadata": {
      "needs_background": "light"
     },
     "output_type": "display_data"
    }
   ],
   "source": [
    "## Surface Area outliers\n",
    "df[['SurfaceArea']].boxplot()"
   ]
  },
  {
   "cell_type": "code",
   "execution_count": 243,
   "id": "9750f4ac",
   "metadata": {},
   "outputs": [
    {
     "data": {
      "text/plain": [
       "[-159.875, 322.125]"
      ]
     },
     "execution_count": 243,
     "metadata": {},
     "output_type": "execute_result"
    }
   ],
   "source": [
    "# WHIS value is adjusted based on the manual study of the outliers\n",
    "area_whiskers = get_whiskers(df, 'SurfaceArea', WHIS=3.5)  \n",
    "area_whiskers"
   ]
  },
  {
   "cell_type": "code",
   "execution_count": 244,
   "id": "9d5c50c8",
   "metadata": {},
   "outputs": [
    {
     "data": {
      "text/plain": [
       "1"
      ]
     },
     "execution_count": 244,
     "metadata": {},
     "output_type": "execute_result"
    }
   ],
   "source": [
    "# how many area outliers?\n",
    "area_outliers = (df['SurfaceArea'] > area_whiskers[1]) | (df['SurfaceArea'] < area_whiskers[0])\n",
    "area_outliers.sum() "
   ]
  },
  {
   "cell_type": "code",
   "execution_count": 245,
   "id": "19a89d48",
   "metadata": {},
   "outputs": [
    {
     "data": {
      "text/html": [
       "<div>\n",
       "<style scoped>\n",
       "    .dataframe tbody tr th:only-of-type {\n",
       "        vertical-align: middle;\n",
       "    }\n",
       "\n",
       "    .dataframe tbody tr th {\n",
       "        vertical-align: top;\n",
       "    }\n",
       "\n",
       "    .dataframe thead th {\n",
       "        text-align: right;\n",
       "    }\n",
       "</style>\n",
       "<table border=\"1\" class=\"dataframe\">\n",
       "  <thead>\n",
       "    <tr style=\"text-align: right;\">\n",
       "      <th></th>\n",
       "      <th>Rent</th>\n",
       "      <th>SurfaceArea</th>\n",
       "      <th>NumRooms</th>\n",
       "      <th>Address</th>\n",
       "      <th>RentPerArea</th>\n",
       "      <th>RentPerRoom</th>\n",
       "      <th>AreaPerRoom</th>\n",
       "    </tr>\n",
       "  </thead>\n",
       "  <tbody>\n",
       "    <tr>\n",
       "      <th>308</th>\n",
       "      <td>25000.0</td>\n",
       "      <td>360.0</td>\n",
       "      <td>9.0</td>\n",
       "      <td>Florissant, 1206 Geneva</td>\n",
       "      <td>69.444444</td>\n",
       "      <td>2777.777778</td>\n",
       "      <td>40.0</td>\n",
       "    </tr>\n",
       "  </tbody>\n",
       "</table>\n",
       "</div>"
      ],
      "text/plain": [
       "        Rent  SurfaceArea  NumRooms                  Address  RentPerArea  \\\n",
       "308  25000.0        360.0       9.0  Florissant, 1206 Geneva    69.444444   \n",
       "\n",
       "     RentPerRoom  AreaPerRoom  \n",
       "308  2777.777778         40.0  "
      ]
     },
     "execution_count": 245,
     "metadata": {},
     "output_type": "execute_result"
    }
   ],
   "source": [
    "df[area_outliers]"
   ]
  },
  {
   "cell_type": "markdown",
   "id": "cddc626c",
   "metadata": {},
   "source": [
    "## Rent per Area Outliers:"
   ]
  },
  {
   "cell_type": "code",
   "execution_count": 246,
   "id": "a5a08a86",
   "metadata": {},
   "outputs": [
    {
     "data": {
      "text/plain": [
       "[17.774390243902438, 61.33536585365854]"
      ]
     },
     "execution_count": 246,
     "metadata": {},
     "output_type": "execute_result"
    }
   ],
   "source": [
    "# it seems that having a price greater than 61CHF is not unusual for rooms for example.\n",
    "rentPerArea_whiskers = get_whiskers(df, 'RentPerArea', WHIS=1.5)\n",
    "rentPerArea_whiskers"
   ]
  },
  {
   "cell_type": "code",
   "execution_count": 247,
   "id": "341381b1",
   "metadata": {},
   "outputs": [
    {
     "name": "stdout",
     "output_type": "stream",
     "text": [
      "19\n"
     ]
    },
    {
     "data": {
      "text/html": [
       "<div>\n",
       "<style scoped>\n",
       "    .dataframe tbody tr th:only-of-type {\n",
       "        vertical-align: middle;\n",
       "    }\n",
       "\n",
       "    .dataframe tbody tr th {\n",
       "        vertical-align: top;\n",
       "    }\n",
       "\n",
       "    .dataframe thead th {\n",
       "        text-align: right;\n",
       "    }\n",
       "</style>\n",
       "<table border=\"1\" class=\"dataframe\">\n",
       "  <thead>\n",
       "    <tr style=\"text-align: right;\">\n",
       "      <th></th>\n",
       "      <th>Rent</th>\n",
       "      <th>SurfaceArea</th>\n",
       "      <th>NumRooms</th>\n",
       "      <th>Address</th>\n",
       "      <th>RentPerArea</th>\n",
       "      <th>RentPerRoom</th>\n",
       "      <th>AreaPerRoom</th>\n",
       "    </tr>\n",
       "  </thead>\n",
       "  <tbody>\n",
       "    <tr>\n",
       "      <th>22</th>\n",
       "      <td>1520.0</td>\n",
       "      <td>23.0</td>\n",
       "      <td>1.5</td>\n",
       "      <td>Rue de la Coulouvrenière 40, 1204 Geneva</td>\n",
       "      <td>66.086957</td>\n",
       "      <td>1013.333333</td>\n",
       "      <td>15.333333</td>\n",
       "    </tr>\n",
       "    <tr>\n",
       "      <th>32</th>\n",
       "      <td>1910.0</td>\n",
       "      <td>22.0</td>\n",
       "      <td>1.0</td>\n",
       "      <td>Rue des Vollandes 75, 1207 GENEVE</td>\n",
       "      <td>86.818182</td>\n",
       "      <td>1910.000000</td>\n",
       "      <td>22.000000</td>\n",
       "    </tr>\n",
       "    <tr>\n",
       "      <th>44</th>\n",
       "      <td>1200.0</td>\n",
       "      <td>16.0</td>\n",
       "      <td>1.0</td>\n",
       "      <td>Place Cornavin 14, 1201 Geneva</td>\n",
       "      <td>75.000000</td>\n",
       "      <td>1200.000000</td>\n",
       "      <td>16.000000</td>\n",
       "    </tr>\n",
       "    <tr>\n",
       "      <th>50</th>\n",
       "      <td>1440.0</td>\n",
       "      <td>21.0</td>\n",
       "      <td>1.0</td>\n",
       "      <td>Rue Pradier, 1201 Geneva</td>\n",
       "      <td>68.571429</td>\n",
       "      <td>1440.000000</td>\n",
       "      <td>21.000000</td>\n",
       "    </tr>\n",
       "    <tr>\n",
       "      <th>79</th>\n",
       "      <td>1730.0</td>\n",
       "      <td>26.0</td>\n",
       "      <td>1.0</td>\n",
       "      <td>Rue de la Servette 78, 1202 Geneva</td>\n",
       "      <td>66.538462</td>\n",
       "      <td>1730.000000</td>\n",
       "      <td>26.000000</td>\n",
       "    </tr>\n",
       "  </tbody>\n",
       "</table>\n",
       "</div>"
      ],
      "text/plain": [
       "      Rent  SurfaceArea  NumRooms                                   Address  \\\n",
       "22  1520.0         23.0       1.5  Rue de la Coulouvrenière 40, 1204 Geneva   \n",
       "32  1910.0         22.0       1.0         Rue des Vollandes 75, 1207 GENEVE   \n",
       "44  1200.0         16.0       1.0            Place Cornavin 14, 1201 Geneva   \n",
       "50  1440.0         21.0       1.0                  Rue Pradier, 1201 Geneva   \n",
       "79  1730.0         26.0       1.0        Rue de la Servette 78, 1202 Geneva   \n",
       "\n",
       "    RentPerArea  RentPerRoom  AreaPerRoom  \n",
       "22    66.086957  1013.333333    15.333333  \n",
       "32    86.818182  1910.000000    22.000000  \n",
       "44    75.000000  1200.000000    16.000000  \n",
       "50    68.571429  1440.000000    21.000000  \n",
       "79    66.538462  1730.000000    26.000000  "
      ]
     },
     "execution_count": 247,
     "metadata": {},
     "output_type": "execute_result"
    }
   ],
   "source": [
    "rentPerArea_outliers = (df['RentPerArea'] > rentPerArea_whiskers[1]) | (df['RentPerArea'] < rentPerArea_whiskers[0])\n",
    "print(rentPerArea_outliers.sum())\n",
    "df[rentPerArea_outliers].head()"
   ]
  },
  {
   "cell_type": "code",
   "execution_count": 248,
   "id": "7988136f",
   "metadata": {},
   "outputs": [],
   "source": [
    "# Remove Rent per Area outliers to get proper statistical analysis of rent (especially mean)\n",
    "df = df.drop(df[rentPerArea_outliers].index).reset_index()"
   ]
  },
  {
   "cell_type": "code",
   "execution_count": 249,
   "id": "b672515c",
   "metadata": {},
   "outputs": [
    {
     "data": {
      "text/plain": [
       "<matplotlib.collections.PathCollection at 0x7fe9106a35b0>"
      ]
     },
     "execution_count": 249,
     "metadata": {},
     "output_type": "execute_result"
    },
    {
     "data": {
      "image/png": "[encoded data removed]",
      "text/plain": [
       "<Figure size 432x288 with 1 Axes>"
      ]
     },
     "metadata": {
      "needs_background": "light"
     },
     "output_type": "display_data"
    }
   ],
   "source": [
    "# Plotting, majority gathered on price range 30-40CHF per m2, rental price of 2'500 CHF\n",
    "plt.scatter(x = df['RentPerArea'], y = df['Rent'])"
   ]
  },
  {
   "cell_type": "code",
   "execution_count": 250,
   "id": "cb93991c",
   "metadata": {},
   "outputs": [
    {
     "data": {
      "text/html": [
       "<div>\n",
       "<style scoped>\n",
       "    .dataframe tbody tr th:only-of-type {\n",
       "        vertical-align: middle;\n",
       "    }\n",
       "\n",
       "    .dataframe tbody tr th {\n",
       "        vertical-align: top;\n",
       "    }\n",
       "\n",
       "    .dataframe thead th {\n",
       "        text-align: right;\n",
       "    }\n",
       "</style>\n",
       "<table border=\"1\" class=\"dataframe\">\n",
       "  <thead>\n",
       "    <tr style=\"text-align: right;\">\n",
       "      <th></th>\n",
       "      <th>index</th>\n",
       "      <th>Rent</th>\n",
       "      <th>SurfaceArea</th>\n",
       "      <th>NumRooms</th>\n",
       "      <th>RentPerArea</th>\n",
       "      <th>RentPerRoom</th>\n",
       "      <th>AreaPerRoom</th>\n",
       "    </tr>\n",
       "  </thead>\n",
       "  <tbody>\n",
       "    <tr>\n",
       "      <th>count</th>\n",
       "      <td>297.000000</td>\n",
       "      <td>297.000000</td>\n",
       "      <td>297.000000</td>\n",
       "      <td>297.000000</td>\n",
       "      <td>297.000000</td>\n",
       "      <td>297.000000</td>\n",
       "      <td>297.000000</td>\n",
       "    </tr>\n",
       "    <tr>\n",
       "      <th>mean</th>\n",
       "      <td>196.552189</td>\n",
       "      <td>3622.158249</td>\n",
       "      <td>94.178451</td>\n",
       "      <td>3.983165</td>\n",
       "      <td>39.125928</td>\n",
       "      <td>895.497539</td>\n",
       "      <td>22.935586</td>\n",
       "    </tr>\n",
       "    <tr>\n",
       "      <th>std</th>\n",
       "      <td>117.288243</td>\n",
       "      <td>2384.066720</td>\n",
       "      <td>56.605186</td>\n",
       "      <td>1.694004</td>\n",
       "      <td>7.677983</td>\n",
       "      <td>297.304101</td>\n",
       "      <td>6.080549</td>\n",
       "    </tr>\n",
       "    <tr>\n",
       "      <th>min</th>\n",
       "      <td>0.000000</td>\n",
       "      <td>491.000000</td>\n",
       "      <td>13.000000</td>\n",
       "      <td>1.000000</td>\n",
       "      <td>19.831933</td>\n",
       "      <td>413.750000</td>\n",
       "      <td>13.000000</td>\n",
       "    </tr>\n",
       "    <tr>\n",
       "      <th>25%</th>\n",
       "      <td>97.000000</td>\n",
       "      <td>2160.000000</td>\n",
       "      <td>55.000000</td>\n",
       "      <td>3.000000</td>\n",
       "      <td>33.611111</td>\n",
       "      <td>697.000000</td>\n",
       "      <td>18.333333</td>\n",
       "    </tr>\n",
       "    <tr>\n",
       "      <th>50%</th>\n",
       "      <td>195.000000</td>\n",
       "      <td>2900.000000</td>\n",
       "      <td>80.000000</td>\n",
       "      <td>4.000000</td>\n",
       "      <td>37.972973</td>\n",
       "      <td>812.727273</td>\n",
       "      <td>22.000000</td>\n",
       "    </tr>\n",
       "    <tr>\n",
       "      <th>75%</th>\n",
       "      <td>295.000000</td>\n",
       "      <td>4170.000000</td>\n",
       "      <td>114.000000</td>\n",
       "      <td>5.000000</td>\n",
       "      <td>43.333333</td>\n",
       "      <td>1032.333333</td>\n",
       "      <td>26.000000</td>\n",
       "    </tr>\n",
       "    <tr>\n",
       "      <th>max</th>\n",
       "      <td>402.000000</td>\n",
       "      <td>18000.000000</td>\n",
       "      <td>320.000000</td>\n",
       "      <td>10.000000</td>\n",
       "      <td>61.267606</td>\n",
       "      <td>2150.000000</td>\n",
       "      <td>57.000000</td>\n",
       "    </tr>\n",
       "  </tbody>\n",
       "</table>\n",
       "</div>"
      ],
      "text/plain": [
       "            index          Rent  SurfaceArea    NumRooms  RentPerArea  \\\n",
       "count  297.000000    297.000000   297.000000  297.000000   297.000000   \n",
       "mean   196.552189   3622.158249    94.178451    3.983165    39.125928   \n",
       "std    117.288243   2384.066720    56.605186    1.694004     7.677983   \n",
       "min      0.000000    491.000000    13.000000    1.000000    19.831933   \n",
       "25%     97.000000   2160.000000    55.000000    3.000000    33.611111   \n",
       "50%    195.000000   2900.000000    80.000000    4.000000    37.972973   \n",
       "75%    295.000000   4170.000000   114.000000    5.000000    43.333333   \n",
       "max    402.000000  18000.000000   320.000000   10.000000    61.267606   \n",
       "\n",
       "       RentPerRoom  AreaPerRoom  \n",
       "count   297.000000   297.000000  \n",
       "mean    895.497539    22.935586  \n",
       "std     297.304101     6.080549  \n",
       "min     413.750000    13.000000  \n",
       "25%     697.000000    18.333333  \n",
       "50%     812.727273    22.000000  \n",
       "75%    1032.333333    26.000000  \n",
       "max    2150.000000    57.000000  "
      ]
     },
     "execution_count": 250,
     "metadata": {},
     "output_type": "execute_result"
    }
   ],
   "source": [
    "## Some statistical info\n",
    "stats = df.describe()\n",
    "stats"
   ]
  },
  {
   "cell_type": "code",
   "execution_count": 251,
   "id": "d33f74cb",
   "metadata": {},
   "outputs": [
    {
     "data": {
      "text/plain": [
       "3622.158249158249"
      ]
     },
     "execution_count": 251,
     "metadata": {},
     "output_type": "execute_result"
    }
   ],
   "source": [
    "stats['Rent']['mean']"
   ]
  },
  {
   "cell_type": "code",
   "execution_count": 252,
   "id": "5a809afb",
   "metadata": {},
   "outputs": [
    {
     "data": {
      "text/plain": [
       "count      297.000000\n",
       "mean      3622.158249\n",
       "std       2384.066720\n",
       "min        491.000000\n",
       "25%       2160.000000\n",
       "50%       2900.000000\n",
       "75%       4170.000000\n",
       "max      18000.000000\n",
       "Name: Rent, dtype: float64"
      ]
     },
     "execution_count": 252,
     "metadata": {},
     "output_type": "execute_result"
    }
   ],
   "source": [
    "# The mean rental price in Geneva is 3622 (3622.16) CHF per month.\n",
    "# The mean rental price per room in Geneva is 895.50 CHF per month.\n",
    "# The mean rental price per square meter in Geneva is 39.13 CHF per month.\n",
    "stats.Rent"
   ]
  },
  {
   "cell_type": "markdown",
   "id": "7a96cb57",
   "metadata": {},
   "source": [
    "# Rent and Zip Code"
   ]
  },
  {
   "cell_type": "markdown",
   "id": "764ba5da",
   "metadata": {},
   "source": [
    "## Extract Zip Code from Address"
   ]
  },
  {
   "cell_type": "code",
   "execution_count": 253,
   "id": "ba189b72",
   "metadata": {},
   "outputs": [],
   "source": [
    "#Function for extration ZipCode from Adress column\n",
    "\n",
    "def Extract_zip_code(address):\n",
    "    n = len(address)\n",
    "    l = len(\"Geneva\")\n",
    "    return int(address[-l - 5: - l -1])"
   ]
  },
  {
   "cell_type": "code",
   "execution_count": 254,
   "id": "5b9354fd",
   "metadata": {},
   "outputs": [],
   "source": [
    "for i in range(0, df.shape[0]):\n",
    "    address = df['Address'][i]\n",
    "    Extract_zip_code(address)"
   ]
  },
  {
   "cell_type": "code",
   "execution_count": 255,
   "id": "a44e03ed",
   "metadata": {},
   "outputs": [],
   "source": [
    "\n",
    "df['ZipCode'] = df['Address'].map(lambda x: Extract_zip_code(x))"
   ]
  },
  {
   "cell_type": "code",
   "execution_count": 256,
   "id": "46eda6dd",
   "metadata": {},
   "outputs": [],
   "source": [
    "city = list()\n",
    "\n",
    "for item in df['Address']:\n",
    "    city = item.split()[-1]\n",
    "    city.join(city)\n",
    "\n",
    "df['City'] = city\n"
   ]
  },
  {
   "cell_type": "code",
   "execution_count": 282,
   "id": "32339793",
   "metadata": {},
   "outputs": [
    {
     "data": {
      "text/plain": [
       "NumRooms  ZipCode\n",
       "1.0       1201       4\n",
       "          1208       3\n",
       "          1203       2\n",
       "          1202       1\n",
       "          1204       1\n",
       "                    ..\n",
       "7.5       1206       1\n",
       "8.0       1206       2\n",
       "9.0       1207       2\n",
       "10.0      1206       2\n",
       "          1205       1\n",
       "Name: ZipCode, Length: 93, dtype: int64"
      ]
     },
     "execution_count": 282,
     "metadata": {},
     "output_type": "execute_result"
    }
   ],
   "source": [
    "df.groupby('NumRooms').ZipCode.value_counts()"
   ]
  },
  {
   "cell_type": "code",
   "execution_count": 258,
   "id": "83918239",
   "metadata": {},
   "outputs": [
    {
     "data": {
      "text/html": [
       "<style type=\"text/css\">\n",
       "</style>\n",
       "<table id=\"T_4918f_\">\n",
       "  <thead>\n",
       "    <tr>\n",
       "      <th class=\"col_heading level0 col0\" >index</th>\n",
       "      <th class=\"col_heading level0 col1\" >Rent</th>\n",
       "      <th class=\"col_heading level0 col2\" >SurfaceArea</th>\n",
       "      <th class=\"col_heading level0 col3\" >NumRooms</th>\n",
       "      <th class=\"col_heading level0 col4\" >Address</th>\n",
       "      <th class=\"col_heading level0 col5\" >RentPerArea</th>\n",
       "      <th class=\"col_heading level0 col6\" >RentPerRoom</th>\n",
       "      <th class=\"col_heading level0 col7\" >AreaPerRoom</th>\n",
       "      <th class=\"col_heading level0 col8\" >ZipCode</th>\n",
       "      <th class=\"col_heading level0 col9\" >City</th>\n",
       "    </tr>\n",
       "  </thead>\n",
       "  <tbody>\n",
       "    <tr>\n",
       "      <td id=\"T_4918f_row0_col0\" class=\"data row0 col0\" >0</td>\n",
       "      <td id=\"T_4918f_row0_col1\" class=\"data row0 col1\" >4150.000000</td>\n",
       "      <td id=\"T_4918f_row0_col2\" class=\"data row0 col2\" >104.000000</td>\n",
       "      <td id=\"T_4918f_row0_col3\" class=\"data row0 col3\" >2.500000</td>\n",
       "      <td id=\"T_4918f_row0_col4\" class=\"data row0 col4\" >Rue de l'Athénée 38, 1206 Geneva</td>\n",
       "      <td id=\"T_4918f_row0_col5\" class=\"data row0 col5\" >39.903846</td>\n",
       "      <td id=\"T_4918f_row0_col6\" class=\"data row0 col6\" >1660.000000</td>\n",
       "      <td id=\"T_4918f_row0_col7\" class=\"data row0 col7\" >41.600000</td>\n",
       "      <td id=\"T_4918f_row0_col8\" class=\"data row0 col8\" >1206</td>\n",
       "      <td id=\"T_4918f_row0_col9\" class=\"data row0 col9\" >Geneva</td>\n",
       "    </tr>\n",
       "    <tr>\n",
       "      <td id=\"T_4918f_row1_col0\" class=\"data row1 col0\" >1</td>\n",
       "      <td id=\"T_4918f_row1_col1\" class=\"data row1 col1\" >1250.000000</td>\n",
       "      <td id=\"T_4918f_row1_col2\" class=\"data row1 col2\" >26.000000</td>\n",
       "      <td id=\"T_4918f_row1_col3\" class=\"data row1 col3\" >1.000000</td>\n",
       "      <td id=\"T_4918f_row1_col4\" class=\"data row1 col4\" >Rue de la Dôle 15, 1203 Geneva</td>\n",
       "      <td id=\"T_4918f_row1_col5\" class=\"data row1 col5\" >48.076923</td>\n",
       "      <td id=\"T_4918f_row1_col6\" class=\"data row1 col6\" >1250.000000</td>\n",
       "      <td id=\"T_4918f_row1_col7\" class=\"data row1 col7\" >26.000000</td>\n",
       "      <td id=\"T_4918f_row1_col8\" class=\"data row1 col8\" >1203</td>\n",
       "      <td id=\"T_4918f_row1_col9\" class=\"data row1 col9\" >Geneva</td>\n",
       "    </tr>\n",
       "    <tr>\n",
       "      <td id=\"T_4918f_row2_col0\" class=\"data row2 col0\" >2</td>\n",
       "      <td id=\"T_4918f_row2_col1\" class=\"data row2 col1\" >4000.000000</td>\n",
       "      <td id=\"T_4918f_row2_col2\" class=\"data row2 col2\" >90.000000</td>\n",
       "      <td id=\"T_4918f_row2_col3\" class=\"data row2 col3\" >2.500000</td>\n",
       "      <td id=\"T_4918f_row2_col4\" class=\"data row2 col4\" >Rue de l'Athénée 36, 1206 Geneva</td>\n",
       "      <td id=\"T_4918f_row2_col5\" class=\"data row2 col5\" >44.444444</td>\n",
       "      <td id=\"T_4918f_row2_col6\" class=\"data row2 col6\" >1600.000000</td>\n",
       "      <td id=\"T_4918f_row2_col7\" class=\"data row2 col7\" >36.000000</td>\n",
       "      <td id=\"T_4918f_row2_col8\" class=\"data row2 col8\" >1206</td>\n",
       "      <td id=\"T_4918f_row2_col9\" class=\"data row2 col9\" >Geneva</td>\n",
       "    </tr>\n",
       "    <tr>\n",
       "      <td id=\"T_4918f_row3_col0\" class=\"data row3 col0\" >3</td>\n",
       "      <td id=\"T_4918f_row3_col1\" class=\"data row3 col1\" >3100.000000</td>\n",
       "      <td id=\"T_4918f_row3_col2\" class=\"data row3 col2\" >82.000000</td>\n",
       "      <td id=\"T_4918f_row3_col3\" class=\"data row3 col3\" >4.000000</td>\n",
       "      <td id=\"T_4918f_row3_col4\" class=\"data row3 col4\" >Rue Liotard, 1202 Geneva</td>\n",
       "      <td id=\"T_4918f_row3_col5\" class=\"data row3 col5\" >37.804878</td>\n",
       "      <td id=\"T_4918f_row3_col6\" class=\"data row3 col6\" >775.000000</td>\n",
       "      <td id=\"T_4918f_row3_col7\" class=\"data row3 col7\" >20.500000</td>\n",
       "      <td id=\"T_4918f_row3_col8\" class=\"data row3 col8\" >1202</td>\n",
       "      <td id=\"T_4918f_row3_col9\" class=\"data row3 col9\" >Geneva</td>\n",
       "    </tr>\n",
       "    <tr>\n",
       "      <td id=\"T_4918f_row4_col0\" class=\"data row4 col0\" >6</td>\n",
       "      <td id=\"T_4918f_row4_col1\" class=\"data row4 col1\" >2280.000000</td>\n",
       "      <td id=\"T_4918f_row4_col2\" class=\"data row4 col2\" >56.000000</td>\n",
       "      <td id=\"T_4918f_row4_col3\" class=\"data row4 col3\" >3.000000</td>\n",
       "      <td id=\"T_4918f_row4_col4\" class=\"data row4 col4\" >Rue de la Servette 31, 1201 Geneva</td>\n",
       "      <td id=\"T_4918f_row4_col5\" class=\"data row4 col5\" >40.714286</td>\n",
       "      <td id=\"T_4918f_row4_col6\" class=\"data row4 col6\" >760.000000</td>\n",
       "      <td id=\"T_4918f_row4_col7\" class=\"data row4 col7\" >18.666667</td>\n",
       "      <td id=\"T_4918f_row4_col8\" class=\"data row4 col8\" >1201</td>\n",
       "      <td id=\"T_4918f_row4_col9\" class=\"data row4 col9\" >Geneva</td>\n",
       "    </tr>\n",
       "  </tbody>\n",
       "</table>\n"
      ],
      "text/plain": [
       "<pandas.io.formats.style.Styler at 0x7fe904c63310>"
      ]
     },
     "execution_count": 258,
     "metadata": {},
     "output_type": "execute_result"
    }
   ],
   "source": [
    "df.head().style.hide_index()"
   ]
  },
  {
   "cell_type": "code",
   "execution_count": 259,
   "id": "a4681001",
   "metadata": {},
   "outputs": [
    {
     "data": {
      "text/plain": [
       "<AxesSubplot:title={'center':'Number of Advertised apartments based on zip code'}>"
      ]
     },
     "execution_count": 259,
     "metadata": {},
     "output_type": "execute_result"
    },
    {
     "data": {
      "image/png": "[encoded data removed]",
      "text/plain": [
       "<Figure size 1080x720 with 1 Axes>"
      ]
     },
     "metadata": {
      "needs_background": "light"
     },
     "output_type": "display_data"
    }
   ],
   "source": [
    "df['ZipCode'].value_counts().plot.bar(figsize=(15,10), title = \"Number of Advertised apartments based on zip code\")\n"
   ]
  },
  {
   "cell_type": "code",
   "execution_count": 260,
   "id": "8963c0b3",
   "metadata": {},
   "outputs": [],
   "source": [
    "#Creating df by grouping columns by Zipcode then calculating mean of it\n",
    "zipVsRentMean = df[['ZipCode', 'RentPerArea', 'RentPerRoom', 'AreaPerRoom', 'SurfaceArea']]\\\n",
    "                .groupby(['ZipCode'], as_index = False).mean()"
   ]
  },
  {
   "cell_type": "code",
   "execution_count": 261,
   "id": "f2f2381e",
   "metadata": {},
   "outputs": [
    {
     "data": {
      "text/html": [
       "<div>\n",
       "<style scoped>\n",
       "    .dataframe tbody tr th:only-of-type {\n",
       "        vertical-align: middle;\n",
       "    }\n",
       "\n",
       "    .dataframe tbody tr th {\n",
       "        vertical-align: top;\n",
       "    }\n",
       "\n",
       "    .dataframe thead th {\n",
       "        text-align: right;\n",
       "    }\n",
       "</style>\n",
       "<table border=\"1\" class=\"dataframe\">\n",
       "  <thead>\n",
       "    <tr style=\"text-align: right;\">\n",
       "      <th></th>\n",
       "      <th>ZipCode</th>\n",
       "      <th>RentPerArea</th>\n",
       "      <th>RentPerRoom</th>\n",
       "      <th>AreaPerRoom</th>\n",
       "      <th>SurfaceArea</th>\n",
       "    </tr>\n",
       "  </thead>\n",
       "  <tbody>\n",
       "    <tr>\n",
       "      <th>0</th>\n",
       "      <td>1200</td>\n",
       "      <td>40.787924</td>\n",
       "      <td>899.814815</td>\n",
       "      <td>22.503367</td>\n",
       "      <td>106.666667</td>\n",
       "    </tr>\n",
       "    <tr>\n",
       "      <th>1</th>\n",
       "      <td>1201</td>\n",
       "      <td>41.403102</td>\n",
       "      <td>882.109565</td>\n",
       "      <td>21.283923</td>\n",
       "      <td>82.142857</td>\n",
       "    </tr>\n",
       "    <tr>\n",
       "      <th>2</th>\n",
       "      <td>1202</td>\n",
       "      <td>37.059230</td>\n",
       "      <td>818.934074</td>\n",
       "      <td>22.243254</td>\n",
       "      <td>85.266667</td>\n",
       "    </tr>\n",
       "    <tr>\n",
       "      <th>3</th>\n",
       "      <td>1203</td>\n",
       "      <td>37.527645</td>\n",
       "      <td>716.131490</td>\n",
       "      <td>19.320108</td>\n",
       "      <td>64.234043</td>\n",
       "    </tr>\n",
       "    <tr>\n",
       "      <th>4</th>\n",
       "      <td>1204</td>\n",
       "      <td>44.574250</td>\n",
       "      <td>1117.337317</td>\n",
       "      <td>25.277993</td>\n",
       "      <td>88.071429</td>\n",
       "    </tr>\n",
       "    <tr>\n",
       "      <th>5</th>\n",
       "      <td>1205</td>\n",
       "      <td>35.181856</td>\n",
       "      <td>698.735049</td>\n",
       "      <td>20.106478</td>\n",
       "      <td>75.918919</td>\n",
       "    </tr>\n",
       "    <tr>\n",
       "      <th>6</th>\n",
       "      <td>1206</td>\n",
       "      <td>39.905645</td>\n",
       "      <td>1103.584285</td>\n",
       "      <td>27.531853</td>\n",
       "      <td>143.326923</td>\n",
       "    </tr>\n",
       "    <tr>\n",
       "      <th>7</th>\n",
       "      <td>1207</td>\n",
       "      <td>41.646907</td>\n",
       "      <td>904.179500</td>\n",
       "      <td>21.860883</td>\n",
       "      <td>100.052632</td>\n",
       "    </tr>\n",
       "    <tr>\n",
       "      <th>8</th>\n",
       "      <td>1208</td>\n",
       "      <td>36.857806</td>\n",
       "      <td>909.245248</td>\n",
       "      <td>24.852548</td>\n",
       "      <td>88.071429</td>\n",
       "    </tr>\n",
       "    <tr>\n",
       "      <th>9</th>\n",
       "      <td>1209</td>\n",
       "      <td>37.278602</td>\n",
       "      <td>999.223665</td>\n",
       "      <td>27.183622</td>\n",
       "      <td>129.666667</td>\n",
       "    </tr>\n",
       "  </tbody>\n",
       "</table>\n",
       "</div>"
      ],
      "text/plain": [
       "   ZipCode  RentPerArea  RentPerRoom  AreaPerRoom  SurfaceArea\n",
       "0     1200    40.787924   899.814815    22.503367   106.666667\n",
       "1     1201    41.403102   882.109565    21.283923    82.142857\n",
       "2     1202    37.059230   818.934074    22.243254    85.266667\n",
       "3     1203    37.527645   716.131490    19.320108    64.234043\n",
       "4     1204    44.574250  1117.337317    25.277993    88.071429\n",
       "5     1205    35.181856   698.735049    20.106478    75.918919\n",
       "6     1206    39.905645  1103.584285    27.531853   143.326923\n",
       "7     1207    41.646907   904.179500    21.860883   100.052632\n",
       "8     1208    36.857806   909.245248    24.852548    88.071429\n",
       "9     1209    37.278602   999.223665    27.183622   129.666667"
      ]
     },
     "execution_count": 261,
     "metadata": {},
     "output_type": "execute_result"
    }
   ],
   "source": [
    "zipVsRentMean"
   ]
  },
  {
   "cell_type": "markdown",
   "id": "2db73b7e",
   "metadata": {},
   "source": [
    "## Bar Plots"
   ]
  },
  {
   "cell_type": "code",
   "execution_count": 264,
   "id": "a99a8fd4",
   "metadata": {},
   "outputs": [],
   "source": [
    "import seaborn as sns"
   ]
  },
  {
   "cell_type": "code",
   "execution_count": 265,
   "id": "ffa0b18c",
   "metadata": {},
   "outputs": [],
   "source": [
    "dftmp = df"
   ]
  },
  {
   "cell_type": "code",
   "execution_count": 266,
   "id": "52a447a9",
   "metadata": {},
   "outputs": [
    {
     "data": {
      "image/png": "[encoded data removed]",
      "text/plain": [
       "<Figure size 864x720 with 4 Axes>"
      ]
     },
     "metadata": {
      "needs_background": "light"
     },
     "output_type": "display_data"
    }
   ],
   "source": [
    "\n",
    "f, ax = plt.subplots(2, 2, figsize = (12, 10))\n",
    "plt.subplot(2, 2, 1)\n",
    "sns.barplot(x = 'ZipCode', y = 'RentPerRoom', data = dftmp)\n",
    "plt.subplot(2, 2, 2)\n",
    "sns.barplot(x = 'ZipCode', y = 'AreaPerRoom', data = dftmp)\n",
    "plt.subplot(2, 2, 3)\n",
    "sns.barplot(x = 'ZipCode', y = 'RentPerArea', data = dftmp)\n",
    "plt.subplot(2, 2, 4)\n",
    "sns.barplot(x = 'ZipCode', y = 'SurfaceArea', data = dftmp)\n",
    "plt.tight_layout()"
   ]
  },
  {
   "cell_type": "code",
   "execution_count": 267,
   "id": "31462855",
   "metadata": {},
   "outputs": [
    {
     "data": {
      "text/plain": [
       "Text(0.5, 0.98, 'ZipCode Vs RentPerRoom')"
      ]
     },
     "execution_count": 267,
     "metadata": {},
     "output_type": "execute_result"
    },
    {
     "data": {
      "image/png": "[encoded data removed]",
      "text/plain": [
       "<Figure size 720x360 with 1 Axes>"
      ]
     },
     "metadata": {
      "needs_background": "light"
     },
     "output_type": "display_data"
    }
   ],
   "source": [
    "cpsl=sns.catplot(x='ZipCode', y='RentPerRoom', kind ='bar', data= dftmp, aspect=2)\n",
    "                                    #aspect: increase the width of your graph \n",
    "cpsl.set_xticklabels(rotation=90, horizontalalignment='right')\n",
    "                                    #rotation: the rotation of the vaues \n",
    "cpsl.fig.suptitle(\"ZipCode Vs RentPerRoom\")"
   ]
  },
  {
   "cell_type": "markdown",
   "id": "f30eeb94",
   "metadata": {},
   "source": [
    "# Showing the results on a map"
   ]
  },
  {
   "cell_type": "markdown",
   "id": "92479420",
   "metadata": {},
   "source": [
    "## Getting the data\n",
    "\n",
    "First download the zip code data from Swiss opendata(https://opendata.swiss/en/dataset/amtliches-ortschaftenverzeichnis-mit-postleitzahl-und-perimeter)\n",
    "Downloaded the Shape LV95---PLZO_SHP_LV95."
   ]
  },
  {
   "cell_type": "markdown",
   "id": "0bbcdc57",
   "metadata": {},
   "source": [
    "## Import the data with Geopandas"
   ]
  },
  {
   "cell_type": "code",
   "execution_count": 268,
   "id": "61f4311b",
   "metadata": {},
   "outputs": [
    {
     "data": {
      "text/html": [
       "<div>\n",
       "<style scoped>\n",
       "    .dataframe tbody tr th:only-of-type {\n",
       "        vertical-align: middle;\n",
       "    }\n",
       "\n",
       "    .dataframe tbody tr th {\n",
       "        vertical-align: top;\n",
       "    }\n",
       "\n",
       "    .dataframe thead th {\n",
       "        text-align: right;\n",
       "    }\n",
       "</style>\n",
       "<table border=\"1\" class=\"dataframe\">\n",
       "  <thead>\n",
       "    <tr style=\"text-align: right;\">\n",
       "      <th></th>\n",
       "      <th>UUID</th>\n",
       "      <th>OS_UUID</th>\n",
       "      <th>STATUS</th>\n",
       "      <th>INAEND</th>\n",
       "      <th>PLZ</th>\n",
       "      <th>ZUSZIFF</th>\n",
       "      <th>geometry</th>\n",
       "    </tr>\n",
       "  </thead>\n",
       "  <tbody>\n",
       "    <tr>\n",
       "      <th>0</th>\n",
       "      <td>{0072F991-E46D-447E-A3BE-75467DB57FFC}</td>\n",
       "      <td>{281807DC-9C0B-4364-9A55-0E8956876194}</td>\n",
       "      <td>real</td>\n",
       "      <td>nein</td>\n",
       "      <td>3920</td>\n",
       "      <td>0</td>\n",
       "      <td>POLYGON ((2610632.099 1092967.881, 2610689.100...</td>\n",
       "    </tr>\n",
       "    <tr>\n",
       "      <th>1</th>\n",
       "      <td>{C3D3316F-1DFE-468E-BFC5-5C2308743B4C}</td>\n",
       "      <td>{F065D58C-3F88-46EF-9AA0-DA0A96766333}</td>\n",
       "      <td>real</td>\n",
       "      <td>nein</td>\n",
       "      <td>3864</td>\n",
       "      <td>0</td>\n",
       "      <td>POLYGON ((2651834.366 1155253.396, 2651901.894...</td>\n",
       "    </tr>\n",
       "  </tbody>\n",
       "</table>\n",
       "</div>"
      ],
      "text/plain": [
       "                                     UUID  \\\n",
       "0  {0072F991-E46D-447E-A3BE-75467DB57FFC}   \n",
       "1  {C3D3316F-1DFE-468E-BFC5-5C2308743B4C}   \n",
       "\n",
       "                                  OS_UUID STATUS INAEND   PLZ  ZUSZIFF  \\\n",
       "0  {281807DC-9C0B-4364-9A55-0E8956876194}   real   nein  3920        0   \n",
       "1  {F065D58C-3F88-46EF-9AA0-DA0A96766333}   real   nein  3864        0   \n",
       "\n",
       "                                            geometry  \n",
       "0  POLYGON ((2610632.099 1092967.881, 2610689.100...  \n",
       "1  POLYGON ((2651834.366 1155253.396, 2651901.894...  "
      ]
     },
     "execution_count": 268,
     "metadata": {},
     "output_type": "execute_result"
    }
   ],
   "source": [
    "\n",
    "# I use the shapefile from downloaded folder to create geopandas frame\n",
    "import geopandas as gpd\n",
    "#from shapely.geometry import Point, Polygon\n",
    "\n",
    "gdf = gpd.read_file('/Users/bkhan/switchdrive/2nd semester courses/CIP/scrapings/Homegate scraping/PLZO_SHP_LV95/PLZO_PLZ.shp')\n",
    "\n",
    "gdf.head(2)\n"
   ]
  },
  {
   "cell_type": "markdown",
   "id": "0e96fa5c",
   "metadata": {},
   "source": [
    "## Conversion of coordinate reference system (crs)"
   ]
  },
  {
   "cell_type": "code",
   "execution_count": 269,
   "id": "b6d2fc1b",
   "metadata": {},
   "outputs": [
    {
     "name": "stderr",
     "output_type": "stream",
     "text": [
      "/Users/bkhan/opt/anaconda3/lib/python3.9/site-packages/pyproj/crs/crs.py:130: FutureWarning: '+init=<authority>:<code>' syntax is deprecated. '<authority>:<code>' is the preferred initialization method. When making the change, be mindful of axis order changes: https://pyproj4.github.io/pyproj/stable/gotchas.html#axis-order-changes-in-proj-6\n",
      "  in_crs_string = _prepare_from_proj_string(in_crs_string)\n"
     ]
    },
    {
     "data": {
      "text/plain": [
       "<Geographic 2D CRS: +init=epsg:4326 +type=crs>\n",
       "Name: WGS 84\n",
       "Axis Info [ellipsoidal]:\n",
       "- lon[east]: Longitude (degree)\n",
       "- lat[north]: Latitude (degree)\n",
       "Area of Use:\n",
       "- name: World.\n",
       "- bounds: (-180.0, -90.0, 180.0, 90.0)\n",
       "Datum: World Geodetic System 1984 ensemble\n",
       "- Ellipsoid: WGS 84\n",
       "- Prime Meridian: Greenwich"
      ]
     },
     "execution_count": 269,
     "metadata": {},
     "output_type": "execute_result"
    }
   ],
   "source": [
    "# I found out from https://geopandas.org/en/latest/docs/user_guide/projections.html\n",
    "# one of the most commonly used CRS is the WGS84 latitude-longitude projection. \n",
    "# This can be referred to using the authority code \"EPSG:4326\".\n",
    "gdf= gdf.to_crs({'init': 'epsg:4326'})\n",
    "gdf.crs"
   ]
  },
  {
   "cell_type": "markdown",
   "id": "a7ea8402",
   "metadata": {},
   "source": [
    "## Plotting Geneva Area"
   ]
  },
  {
   "cell_type": "code",
   "execution_count": 270,
   "id": "85c044bb",
   "metadata": {},
   "outputs": [],
   "source": [
    "# Create list of zip codes i have for Geneva\n",
    "geneva = [1200, 1201, 1202,1203,1204,1205,1206,1207,1208,1209]"
   ]
  },
  {
   "cell_type": "code",
   "execution_count": 271,
   "id": "cb5703b5",
   "metadata": {},
   "outputs": [],
   "source": [
    "# Creating geopandas frame for Geneva with zipcodes in gdf are contained in geneva list.\n",
    "gdf_gen = gdf[gdf['PLZ'].isin(geneva)]\n"
   ]
  },
  {
   "cell_type": "code",
   "execution_count": 272,
   "id": "19f6c968",
   "metadata": {},
   "outputs": [
    {
     "data": {
      "text/html": [
       "<div>\n",
       "<style scoped>\n",
       "    .dataframe tbody tr th:only-of-type {\n",
       "        vertical-align: middle;\n",
       "    }\n",
       "\n",
       "    .dataframe tbody tr th {\n",
       "        vertical-align: top;\n",
       "    }\n",
       "\n",
       "    .dataframe thead th {\n",
       "        text-align: right;\n",
       "    }\n",
       "</style>\n",
       "<table border=\"1\" class=\"dataframe\">\n",
       "  <thead>\n",
       "    <tr style=\"text-align: right;\">\n",
       "      <th></th>\n",
       "      <th>UUID</th>\n",
       "      <th>OS_UUID</th>\n",
       "      <th>STATUS</th>\n",
       "      <th>INAEND</th>\n",
       "      <th>PLZ</th>\n",
       "      <th>ZUSZIFF</th>\n",
       "      <th>geometry</th>\n",
       "    </tr>\n",
       "  </thead>\n",
       "  <tbody>\n",
       "    <tr>\n",
       "      <th>2635</th>\n",
       "      <td>{5BCFFFAB-44EC-4FA9-933B-0EFE6BB05565}</td>\n",
       "      <td>{5DF8DDBE-8D41-42A3-8F30-F9E716E39C75}</td>\n",
       "      <td>real</td>\n",
       "      <td>nein</td>\n",
       "      <td>1202</td>\n",
       "      <td>0</td>\n",
       "      <td>POLYGON ((6.16670 46.22447, 6.16593 46.22246, ...</td>\n",
       "    </tr>\n",
       "    <tr>\n",
       "      <th>3370</th>\n",
       "      <td>{54A45D65-97A3-45A1-8DB2-FA3E6E540269}</td>\n",
       "      <td>{5DF8DDBE-8D41-42A3-8F30-F9E716E39C75}</td>\n",
       "      <td>real</td>\n",
       "      <td>nein</td>\n",
       "      <td>1203</td>\n",
       "      <td>0</td>\n",
       "      <td>POLYGON ((6.13514 46.20837, 6.13470 46.20798, ...</td>\n",
       "    </tr>\n",
       "    <tr>\n",
       "      <th>3456</th>\n",
       "      <td>{D924C540-1604-4E4A-9C30-A31E36299921}</td>\n",
       "      <td>{5DF8DDBE-8D41-42A3-8F30-F9E716E39C75}</td>\n",
       "      <td>real</td>\n",
       "      <td>nein</td>\n",
       "      <td>1206</td>\n",
       "      <td>0</td>\n",
       "      <td>POLYGON ((6.15383 46.17984, 6.15387 46.18019, ...</td>\n",
       "    </tr>\n",
       "    <tr>\n",
       "      <th>3485</th>\n",
       "      <td>{F97E72AA-A260-4075-B3AE-F87FEDE38726}</td>\n",
       "      <td>{5DF8DDBE-8D41-42A3-8F30-F9E716E39C75}</td>\n",
       "      <td>real</td>\n",
       "      <td>nein</td>\n",
       "      <td>1205</td>\n",
       "      <td>0</td>\n",
       "      <td>POLYGON ((6.13394 46.20368, 6.13408 46.20308, ...</td>\n",
       "    </tr>\n",
       "    <tr>\n",
       "      <th>3531</th>\n",
       "      <td>{B5EA9714-EF37-41F0-B481-F59A93221892}</td>\n",
       "      <td>{5DF8DDBE-8D41-42A3-8F30-F9E716E39C75}</td>\n",
       "      <td>real</td>\n",
       "      <td>nein</td>\n",
       "      <td>1207</td>\n",
       "      <td>0</td>\n",
       "      <td>POLYGON ((6.15741 46.20996, 6.15746 46.21001, ...</td>\n",
       "    </tr>\n",
       "  </tbody>\n",
       "</table>\n",
       "</div>"
      ],
      "text/plain": [
       "                                        UUID  \\\n",
       "2635  {5BCFFFAB-44EC-4FA9-933B-0EFE6BB05565}   \n",
       "3370  {54A45D65-97A3-45A1-8DB2-FA3E6E540269}   \n",
       "3456  {D924C540-1604-4E4A-9C30-A31E36299921}   \n",
       "3485  {F97E72AA-A260-4075-B3AE-F87FEDE38726}   \n",
       "3531  {B5EA9714-EF37-41F0-B481-F59A93221892}   \n",
       "\n",
       "                                     OS_UUID STATUS INAEND   PLZ  ZUSZIFF  \\\n",
       "2635  {5DF8DDBE-8D41-42A3-8F30-F9E716E39C75}   real   nein  1202        0   \n",
       "3370  {5DF8DDBE-8D41-42A3-8F30-F9E716E39C75}   real   nein  1203        0   \n",
       "3456  {5DF8DDBE-8D41-42A3-8F30-F9E716E39C75}   real   nein  1206        0   \n",
       "3485  {5DF8DDBE-8D41-42A3-8F30-F9E716E39C75}   real   nein  1205        0   \n",
       "3531  {5DF8DDBE-8D41-42A3-8F30-F9E716E39C75}   real   nein  1207        0   \n",
       "\n",
       "                                               geometry  \n",
       "2635  POLYGON ((6.16670 46.22447, 6.16593 46.22246, ...  \n",
       "3370  POLYGON ((6.13514 46.20837, 6.13470 46.20798, ...  \n",
       "3456  POLYGON ((6.15383 46.17984, 6.15387 46.18019, ...  \n",
       "3485  POLYGON ((6.13394 46.20368, 6.13408 46.20308, ...  \n",
       "3531  POLYGON ((6.15741 46.20996, 6.15746 46.21001, ...  "
      ]
     },
     "execution_count": 272,
     "metadata": {},
     "output_type": "execute_result"
    }
   ],
   "source": [
    "gdf_gen.head()"
   ]
  },
  {
   "cell_type": "code",
   "execution_count": 273,
   "id": "69105265",
   "metadata": {},
   "outputs": [
    {
     "data": {
      "text/plain": [
       "<AxesSubplot:>"
      ]
     },
     "execution_count": 273,
     "metadata": {},
     "output_type": "execute_result"
    },
    {
     "data": {
      "image/png": "[encoded data removed]",
      "text/plain": [
       "<Figure size 432x288 with 1 Axes>"
      ]
     },
     "metadata": {
      "needs_background": "light"
     },
     "output_type": "display_data"
    }
   ],
   "source": [
    "# Poltting Geneva map\n",
    "gdf_gen.plot()"
   ]
  },
  {
   "cell_type": "code",
   "execution_count": 274,
   "id": "ea99195b",
   "metadata": {},
   "outputs": [
    {
     "data": {
      "image/png": "[encoded data removed]",
      "text/plain": [
       "<Figure size 432x288 with 1 Axes>"
      ]
     },
     "metadata": {
      "needs_background": "light"
     },
     "output_type": "display_data"
    }
   ],
   "source": [
    "ax = gdf_gen.plot()\n",
    "fig = ax.get_figure()"
   ]
  },
  {
   "cell_type": "code",
   "execution_count": 275,
   "id": "ccd01ee6",
   "metadata": {},
   "outputs": [],
   "source": [
    "# Merge DataFrames gdf_gen and zipVsRentMean with specified left and right suffixes\n",
    "gdf_gen = gdf_gen.merge(zipVsRentMean, left_on='PLZ', right_on='ZipCode')"
   ]
  },
  {
   "cell_type": "markdown",
   "id": "bda07f4d",
   "metadata": {},
   "source": [
    "## Plotting Choropleth map with Altair\n",
    "To plot nicer and interactive map i use the altair library. (https://altair-viz.github.io/)"
   ]
  },
  {
   "cell_type": "code",
   "execution_count": 276,
   "id": "80c78664",
   "metadata": {},
   "outputs": [
    {
     "name": "stderr",
     "output_type": "stream",
     "text": [
      "/var/folders/r2/n33bdbqn679ff52k_jnl3y080000gn/T/ipykernel_89701/4137171453.py:2: UserWarning: Geometry is in a geographic CRS. Results from 'centroid' are likely incorrect. Use 'GeoSeries.to_crs()' to re-project geometries to a projected CRS before this operation.\n",
      "\n",
      "  gdf_gen['x'] = gdf_gen['geometry'].centroid.x\n",
      "/var/folders/r2/n33bdbqn679ff52k_jnl3y080000gn/T/ipykernel_89701/4137171453.py:3: UserWarning: Geometry is in a geographic CRS. Results from 'centroid' are likely incorrect. Use 'GeoSeries.to_crs()' to re-project geometries to a projected CRS before this operation.\n",
      "\n",
      "  gdf_gen['y'] = gdf_gen['geometry'].centroid.y\n"
     ]
    }
   ],
   "source": [
    "## Longitude and latitude of the centroid of zip-code areas:\n",
    "gdf_gen['x'] = gdf_gen['geometry'].centroid.x\n",
    "gdf_gen['y'] = gdf_gen['geometry'].centroid.y"
   ]
  },
  {
   "cell_type": "code",
   "execution_count": 277,
   "id": "ebc65fa9",
   "metadata": {},
   "outputs": [],
   "source": [
    "import altair as alt\n",
    "\n",
    "## Altair currently can only handle geojson or topjson maps. \n",
    "## So, first we need to convert the geopandas data to appropriate data readable by altair.\n",
    "\n",
    "import json\n",
    "json_gen = json.loads(gdf_gen.to_json())\n",
    "alt_gen = alt.Data(values = json_gen['features'])\n"
   ]
  },
  {
   "cell_type": "code",
   "execution_count": 278,
   "id": "381c749a",
   "metadata": {},
   "outputs": [
    {
     "data": {
      "text/html": [
       "\n",
       "<div id=\"altair-viz-7e37095f57dd4384b4b52b93cc77d0fd\"></div>\n",
       "<script type=\"text/javascript\">\n",
       "  var VEGA_DEBUG = (typeof VEGA_DEBUG == \"undefined\") ? {} : VEGA_DEBUG;\n",
       "  (function(spec, embedOpt){\n",
       "    let outputDiv = document.currentScript.previousElementSibling;\n",
       "    if (outputDiv.id !== \"altair-viz-7e37095f57dd4384b4b52b93cc77d0fd\") {\n",
       "      outputDiv = document.getElementById(\"altair-viz-7e37095f57dd4384b4b52b93cc77d0fd\");\n",
       "    }\n",
       "    const paths = {\n",
       "      \"vega\": \"https://cdn.jsdelivr.net/npm//vega@5?noext\",\n",
       "      \"vega-lib\": \"https://cdn.jsdelivr.net/npm//vega-lib?noext\",\n",
       "      \"vega-lite\": \"https://cdn.jsdelivr.net/npm//vega-lite@4.17.0?noext\",\n",
       "      \"vega-embed\": \"https://cdn.jsdelivr.net/npm//vega-embed@6?noext\",\n",
       "    };\n",
       "\n",
       "    function maybeLoadScript(lib, version) {\n",
       "      var key = `${lib.replace(\"-\", \"\")}_version`;\n",
       "      return (VEGA_DEBUG[key] == version) ?\n",
       "        Promise.resolve(paths[lib]) :\n",
       "        new Promise(function(resolve, reject) {\n",
       "          var s = document.createElement('script');\n",
       "          document.getElementsByTagName(\"head\")[0].appendChild(s);\n",
       "          s.async = true;\n",
       "          s.onload = () => {\n",
       "            VEGA_DEBUG[key] = version;\n",
       "            return resolve(paths[lib]);\n",
       "          };\n",
       "          s.onerror = () => reject(`Error loading script: ${paths[lib]}`);\n",
       "          s.src = paths[lib];\n",
       "        });\n",
       "    }\n",
       "\n",
       "    function showError(err) {\n",
       "      outputDiv.innerHTML = `<div class=\"error\" style=\"color:red;\">${err}</div>`;\n",
       "      throw err;\n",
       "    }\n",
       "\n",
       "    function displayChart(vegaEmbed) {\n",
       "      vegaEmbed(outputDiv, spec, embedOpt)\n",
       "        .catch(err => showError(`Javascript Error: ${err.message}<br>This usually means there's a typo in your chart specification. See the javascript console for the full traceback.`));\n",
       "    }\n",
       "\n",
       "    if(typeof define === \"function\" && define.amd) {\n",
       "      requirejs.config({paths});\n",
       "      require([\"vega-embed\"], displayChart, err => showError(`Error loading script: ${err.message}`));\n",
       "    } else {\n",
       "      maybeLoadScript(\"vega\", \"5\")\n",
       "        .then(() => maybeLoadScript(\"vega-lite\", \"4.17.0\"))\n",
       "        .then(() => maybeLoadScript(\"vega-embed\", \"6\"))\n",
       "        .catch(showError)\n",
       "        .then(() => displayChart(vegaEmbed));\n",
       "    }\n",
       "  })({\"config\": {\"view\": {\"continuousWidth\": 400, \"continuousHeight\": 300}}, \"layer\": [{\"mark\": {\"type\": \"geoshape\", \"stroke\": \"white\"}, \"encoding\": {\"color\": {\"field\": \"properties.RentPerArea\", \"type\": \"quantitative\"}, \"latitude\": {\"field\": \"properties.y\", \"type\": \"quantitative\"}, \"longitude\": {\"field\": \"properties.x\", \"type\": \"quantitative\"}}, \"height\": 600, \"width\": 700}, {\"mark\": {\"type\": \"text\", \"color\": \"black\", \"fontWeight\": \"bold\"}, \"encoding\": {\"latitude\": {\"field\": \"properties.y\", \"type\": \"quantitative\"}, \"longitude\": {\"field\": \"properties.x\", \"type\": \"quantitative\"}, \"text\": {\"field\": \"properties.ZipCode\", \"type\": \"quantitative\"}}}], \"data\": {\"values\": [{\"id\": \"0\", \"type\": \"Feature\", \"properties\": {\"AreaPerRoom\": 22.243253968253967, \"INAEND\": \"nein\", \"OS_UUID\": \"{5DF8DDBE-8D41-42A3-8F30-F9E716E39C75}\", \"PLZ\": 1202, \"RentPerArea\": 37.05922994957778, \"RentPerRoom\": 818.934074074074, \"STATUS\": \"real\", \"SurfaceArea\": 85.26666666666667, \"UUID\": \"{5BCFFFAB-44EC-4FA9-933B-0EFE6BB05565}\", \"ZUSZIFF\": 0, \"ZipCode\": 1202, \"x\": 6.14317016276625, \"y\": 46.22095458497331}, \"geometry\": {\"type\": \"Polygon\", \"coordinates\": [[[6.166700525903562, 46.22446680582352], [6.165925430814878, 46.22245529155333], [6.162738353838119, 46.216614094209106], [6.161900290885797, 46.21522384980327], [6.155766068490644, 46.217358831696124], [6.15124492169364, 46.216281977319305], [6.151086739464021, 46.21533224066228], [6.150718469107313, 46.21528477244813], [6.150718016496567, 46.21528746632861], [6.1506029588714535, 46.21527471814571], [6.150552582805488, 46.21521286578781], [6.150484819694935, 46.21516883556373], [6.150809602481924, 46.21448592322202], [6.150900364503847, 46.21422695090703], [6.150810934622865, 46.21403564757951], [6.149756503396057, 46.21417259628044], [6.1493800903193865, 46.214311525735475], [6.149150595665274, 46.214004271054485], [6.149400178072363, 46.213890613968054], [6.148977936017631, 46.213333474048426], [6.1491994320236625, 46.21324549725659], [6.14911053487924, 46.21309216518357], [6.1488722042694866, 46.21316321528688], [6.148457511378124, 46.21329891505071], [6.148611116002387, 46.2134779086233], [6.148303008789096, 46.21359476338817], [6.148046291080968, 46.21372507054712], [6.147909780825624, 46.21355211965993], [6.147535757177286, 46.21370501538074], [6.146977939349711, 46.21394604440935], [6.146448299047578, 46.21415185593938], [6.146289261007742, 46.21420716451941], [6.146402290511126, 46.21435366775216], [6.146021295204576, 46.214515925410836], [6.145856375540104, 46.21438790060633], [6.14522940525461, 46.21479493016718], [6.145364742012934, 46.21488948153086], [6.145212925268374, 46.21498977457898], [6.145212784247912, 46.21504474360074], [6.144522918221018, 46.21553671631822], [6.140423650527468, 46.2154674096279], [6.140430973491494, 46.21499237073236], [6.14018097268135, 46.21469916632871], [6.140053760653093, 46.21455024426399], [6.140001170860718, 46.214473075947645], [6.1404953480186535, 46.21430989126532], [6.1403441610381035, 46.21346064960516], [6.139858221624356, 46.21273656995751], [6.139154065088508, 46.21182230115527], [6.138298407050297, 46.21211797672612], [6.137900469112568, 46.212056260319166], [6.137611390691518, 46.212102950107685], [6.137077465948877, 46.21271442622174], [6.136787558850348, 46.212579008223905], [6.136628569910238, 46.212345145175135], [6.136172559272179, 46.21165955897472], [6.136502750076257, 46.21151789977493], [6.136418928806876, 46.21141776022332], [6.136792943171154, 46.2112496963773], [6.136555711203606, 46.211003864331104], [6.136433170209131, 46.21087712414066], [6.136013664566503, 46.21087228203182], [6.135918089150844, 46.210766815214654], [6.13622512000883, 46.21063585665597], [6.136631436433396, 46.21046618694217], [6.136553108275449, 46.210387280441594], [6.136454906757292, 46.210277825166884], [6.135873602914887, 46.21050323379267], [6.135521571958792, 46.21038131013049], [6.135201640868713, 46.210336769184885], [6.1351433753546285, 46.210280585555715], [6.135855122795551, 46.209981743105786], [6.135850903665111, 46.209773777258945], [6.135933283290671, 46.20896933067376], [6.13513425831546, 46.20891997684568], [6.135137728516569, 46.20837021956549], [6.134899613772944, 46.20843179594179], [6.134884189651403, 46.208718437242986], [6.133399342743762, 46.2090868755025], [6.133290798266145, 46.20889038815007], [6.133175440742268, 46.20892378138879], [6.133030450124655, 46.20902556757709], [6.132684982968899, 46.20905728712121], [6.132354744606566, 46.20908404471576], [6.132296128003318, 46.20900920502911], [6.132081390802238, 46.209061365573874], [6.132010663425156, 46.20907638102781], [6.13140280815081, 46.209387199254714], [6.131372906522594, 46.20969310578784], [6.130356125188633, 46.21056112386923], [6.1296959109729405, 46.21056408341168], [6.129689670193956, 46.210817992352666], [6.129368755714224, 46.21081975727768], [6.1293752464565685, 46.21104538386917], [6.1296881943296775, 46.211046225553424], [6.129688323822016, 46.211503897297234], [6.12926991321042, 46.21149643380155], [6.129270588872294, 46.21240494462252], [6.129007513851845, 46.21252307940255], [6.129182332847565, 46.21270099684457], [6.1292670997621626, 46.212711337216], [6.129763546568301, 46.21324611208151], [6.129715824584564, 46.21366733135108], [6.129536821100284, 46.213743797461355], [6.128840698336542, 46.21366482430604], [6.128101674764305, 46.21396789524544], [6.127624639855809, 46.214192673840145], [6.1263714555244375, 46.21421715396709], [6.126111951338808, 46.21434243123986], [6.125745936691429, 46.21403192004913], [6.123963949358538, 46.21486731572546], [6.124292379392764, 46.215172266791875], [6.12173948482506, 46.215670728575404], [6.1217829620786475, 46.215738910438375], [6.119725745640853, 46.216991416951736], [6.1206238746323045, 46.217768983959026], [6.122338010727786, 46.216738965061666], [6.123392909000264, 46.21743988534888], [6.124564601479784, 46.21750841583684], [6.125149156890031, 46.21782957170055], [6.125726615046068, 46.21828928366187], [6.12609916200272, 46.21801354463774], [6.12673180695725, 46.21853390229109], [6.1275085543148755, 46.21916875123309], [6.128247584208584, 46.2196591168818], [6.128824170579614, 46.22000085348994], [6.129043677497891, 46.21981500653299], [6.1295316188643625, 46.219521251982215], [6.12998257742178, 46.21977839426781], [6.12957541410085, 46.22013021784972], [6.130435853812477, 46.22074748324535], [6.130256005910155, 46.22085273095232], [6.130675850011305, 46.22119533066239], [6.1305821346271205, 46.22133657487885], [6.130573125463144, 46.22135061352796], [6.130523120904033, 46.2214254186602], [6.130592320419995, 46.221447120415526], [6.13060827538292, 46.22145309031492], [6.130621367379404, 46.22146061047861], [6.1306335669532785, 46.22148367587196], [6.130656047614338, 46.221580463742754], [6.130758108212429, 46.221648403233566], [6.130902282121709, 46.22183329498424], [6.130962020969322, 46.221810766274835], [6.131296954400393, 46.22159737235602], [6.131326854565611, 46.221573769065294], [6.131698549236247, 46.22128037688207], [6.131758859566143, 46.221235110319746], [6.132016638165603, 46.2210627102636], [6.132110396659427, 46.22102306693281], [6.132123144906312, 46.221032490275626], [6.132349926169725, 46.221200693573984], [6.132200560624883, 46.22129648159385], [6.1324658918917345, 46.221493273057824], [6.132527939465565, 46.22145337032872], [6.132809130520946, 46.221661266691754], [6.133002615863049, 46.22180416208505], [6.133092647151534, 46.22187064672422], [6.132963411819662, 46.221989070796866], [6.133149128704138, 46.22214516440842], [6.133462203878806, 46.22240902846176], [6.133508413799031, 46.22244789844831], [6.133836227542506, 46.222723762728336], [6.133751734059128, 46.22278290285957], [6.133578369387882, 46.22290425422817], [6.133246375736602, 46.2231372390861], [6.132956701862748, 46.223340501146], [6.132913273002822, 46.22337094791524], [6.133215894950638, 46.22365580728727], [6.133167747922873, 46.22368678437991], [6.133461139669184, 46.223926992859155], [6.1335616450447725, 46.22400928872442], [6.133838534396479, 46.224239426817064], [6.1339259067148735, 46.224312672627285], [6.133327460878989, 46.22473787215595], [6.132755371036243, 46.22515014819214], [6.132182850222683, 46.22480317141429], [6.1322195669662705, 46.22468852657283], [6.132154050212059, 46.22458295478285], [6.131470929609312, 46.224129790576264], [6.131007571909458, 46.22410076142577], [6.130070091651317, 46.22479165149885], [6.129367218157654, 46.22531548491585], [6.12887238889047, 46.225032010520735], [6.127636773117343, 46.22607011884458], [6.1277854708184, 46.22615560675108], [6.127950972302365, 46.22617858141385], [6.128114414252344, 46.22612029019671], [6.128475474578159, 46.22585493571655], [6.130178274951892, 46.227029256304704], [6.128719659136444, 46.22805646040461], [6.128291220283133, 46.22833716506196], [6.128280479433157, 46.228343913979785], [6.12827043923188, 46.228351174855234], [6.128261152819346, 46.22835889432412], [6.128252659508883, 46.22836705484928], [6.128245025617233, 46.22837559422275], [6.128238251578372, 46.22838449445604], [6.128232403709269, 46.22839369334099], [6.128227482660718, 46.22840316389478], [6.1282235420068565, 46.228412834764576], [6.128220569221961, 46.228422687811204], [6.128218604920385, 46.228432651531364], [6.1282180186219595, 46.22843600055692], [6.12821753578549, 46.228439359780495], [6.1282171825476635, 46.2284427205086], [6.128216932771881, 46.22844609143477], [6.128216786675004, 46.228449463564594], [6.128216770176742, 46.22845283719901], [6.128216857357424, 46.228456212037095], [6.128217067125829, 46.228458265758576], [6.128217315990626, 46.228460310937116], [6.128217616911765, 46.2284623477231], [6.128217943535827, 46.22846439380435], [6.128218322216192, 46.22846643149308], [6.128218752952863, 46.2284684607893], [6.128219209609312, 46.22847049038643], [6.1282216351600916, 46.228479038581], [6.128224789716488, 46.228487460285834], [6.128228686672253, 46.228495737662655], [6.128233287798454, 46.228503843277004], [6.128238594179263, 46.22851173215681], [6.1282445671521355, 46.2285193948565], [6.128251207801167, 46.22852678640412], [6.128258464937347, 46.22853387921468], [6.128266338777628, 46.22854066429368], [6.128292572062664, 46.228559691319724], [6.1285873414942165, 46.22877306379413], [6.128717685463735, 46.228867415201066], [6.128966762790068, 46.229053283773986], [6.129168101846224, 46.22920341123055], [6.129657894999267, 46.22952485527151], [6.129864310098542, 46.22965275507358], [6.129888509372913, 46.22971916262243], [6.130103767762813, 46.22987288654579], [6.130155647299626, 46.23008140552232], [6.130175718532769, 46.23008773806199], [6.130195132204569, 46.23009499864991], [6.130213798459794, 46.23010315025727], [6.130231614266228, 46.230112164699676], [6.130248515905341, 46.230121996254574], [6.130264413737761, 46.230132598899054], [6.130279244044522, 46.230143926910586], [6.130287264534524, 46.2301392515363], [6.130593148085951, 46.230352054661594], [6.1310036667047445, 46.230644611745184], [6.1312112849722515, 46.23030231983167], [6.131733271563243, 46.23025672261161], [6.132606333627516, 46.23031846955386], [6.132768301196214, 46.23053666397635], [6.133545659043099, 46.23100868678071], [6.1331188344125005, 46.231583418844075], [6.133079464599397, 46.231613543837064], [6.133028275072551, 46.231607346732474], [6.132807675810097, 46.23151289206705], [6.132785187130141, 46.23153106647951], [6.132709804178272, 46.23159242568335], [6.132651459704616, 46.2316622680783], [6.132410581588395, 46.23185445196232], [6.132062248074712, 46.23211482043077], [6.1320757847436065, 46.23212553043337], [6.132335890353883, 46.23231860846896], [6.13199723309366, 46.2326029124502], [6.1322378061264144, 46.23277374927408], [6.131869091882621, 46.23305542885684], [6.132281296905785, 46.233306992831224], [6.132567874851152, 46.233082733258584], [6.132954735723063, 46.2327800107455], [6.1330125545433525, 46.23282439525183], [6.1330488855248575, 46.232852282873466], [6.133673136956419, 46.23333147642011], [6.133897047081312, 46.23350334056284], [6.13394060962188, 46.233536781562094], [6.134404837304984, 46.23390851614639], [6.13443857143406, 46.23391122708123], [6.1348472324626115, 46.23394426983077], [6.134913010342367, 46.23395260487865], [6.134971431748845, 46.233968736179364], [6.135986342868699, 46.23424783894683], [6.136307058791734, 46.234192996857594], [6.137361152279174, 46.23340439673771], [6.136226987928987, 46.232812018413455], [6.136178285397783, 46.23278691306672], [6.136144412569067, 46.232769455197825], [6.136129570166179, 46.232761798555046], [6.136508870944273, 46.23241221125093], [6.136902696103201, 46.232048161345354], [6.1369641593596445, 46.23199133523635], [6.137026970605943, 46.2319843312196], [6.137958190701751, 46.23141130436579], [6.138163361109417, 46.23129968718321], [6.1381657070973255, 46.23129645735098], [6.135952666454029, 46.23065735403225], [6.135922702314232, 46.23062669781996], [6.136339444066163, 46.23035658973126], [6.136530326195773, 46.23016492761403], [6.1366038241515675, 46.230068879317955], [6.136659412892164, 46.22993626812098], [6.136730648567559, 46.22968185803575], [6.1368374885098005, 46.229468317393405], [6.1368540874348785, 46.22947188264743], [6.1369523579807925, 46.22922908427932], [6.137182885903188, 46.22891681669002], [6.137304286213043, 46.2286884187906], [6.137440287944309, 46.22849336948692], [6.137511140184805, 46.22842374989215], [6.137839942405474, 46.2282320740275], [6.137917760356688, 46.22819149532505], [6.137943282930694, 46.22818129910944], [6.138239357278175, 46.22812317207785], [6.13824878993166, 46.22812174228859], [6.138258307064494, 46.2281205743805], [6.138267870227604, 46.2281196499168], [6.138277479206077, 46.22811897789191], [6.138287120825032, 46.2281185671509], [6.138296782339895, 46.228118408550024], [6.138306437616136, 46.22811851078513], [6.1383160745545045, 46.228118837729355], [6.13832569294004, 46.22811939837715], [6.138335280243267, 46.2281201745904], [6.138344823074271, 46.22812118420864], [6.138354308903515, 46.228122409093764], [6.138363724556298, 46.22812385809095], [6.13837307003263, 46.22812553120013], [6.13923662833058, 46.228033766459944], [6.139469738922167, 46.22866182066649], [6.138836845488196, 46.22883920369076], [6.138839992219938, 46.22885181752131], [6.138842943693138, 46.22886446509067], [6.138845687377667, 46.22887712826091], [6.138848210098367, 46.22888981587715], [6.138850525030158, 46.228902519094255], [6.13885263217289, 46.2289152379123], [6.138854518351353, 46.22892798117632], [6.138855617965657, 46.22893566815069], [6.138856587765147, 46.228943362627035], [6.138857440924747, 46.22895105576024], [6.13885816405439, 46.228958765389834], [6.1388587703290565, 46.22896648267063], [6.138859247003682, 46.22897419845907], [6.138859607038311, 46.22898191290439], [6.138860371844195, 46.22898950605481], [6.138861006835041, 46.228997106707276], [6.138861537930802, 46.22900471516015], [6.138861952386464, 46.22901232226996], [6.1388622502019805, 46.2290199280366], [6.138862418202206, 46.22902754130526], [6.138862482522196, 46.22903515338001], [6.138862635842198, 46.22904283845442], [6.138862724147039, 46.229050531777006], [6.138862760826774, 46.22905821550825], [6.138862745451315, 46.22906590763697], [6.138862665275602, 46.229073599019486], [6.138862533474765, 46.22908128081073], [6.138862349618663, 46.22908897099934], [6.138858292161593, 46.229297723146125], [6.138858272757521, 46.22930612597958], [6.138858149672676, 46.22931452761916], [6.138857909946881, 46.22932292791558], [6.138857553580033, 46.22933132686889], [6.13885709353226, 46.22933972462828], [6.138856516843377, 46.229348121044545], [6.138855836688462, 46.22935650727251], [6.138851440847144, 46.229415116108974], [6.138851110398954, 46.22942351536078], [6.13885054645333, 46.22943192092064], [6.1388497626154415, 46.22944030595473], [6.138848758455057, 46.22944868845178], [6.138847521441998, 46.22945705027371], [6.138846064536366, 46.22946539156989], [6.138844374562811, 46.22947372118533], [6.138820508996949, 46.22961033342429], [6.1388183145432995, 46.22961970086473], [6.138816042542924, 46.22962905841531], [6.138813718701103, 46.229638415368825], [6.138811330272549, 46.22964776258174], [6.138808877257378, 46.22965710005403], [6.13880635965546, 46.229666427785695], [6.138803777466813, 46.229675745776696], [6.138801143866618, 46.22968504518192], [6.138798445464586, 46.22969434384087], [6.138795708181071, 46.22970364205201], [6.13879293244611, 46.22971292182664], [6.13879009190923, 46.22972220085496], [6.138787212705806, 46.22973147044106], [6.1387842818756875, 46.229740730435786], [6.138781286888726, 46.22974996270107], [6.138778240274921, 46.22975918537494], [6.138775167954768, 46.22976839875586], [6.138772056752913, 46.22977761168894], [6.13876890688444, 46.22978681517984], [6.138765718349332, 46.229796009228565], [6.138762490932468, 46.22980520282944], [6.138766416176324, 46.22981778963991], [6.13860135839524, 46.2301523979076], [6.138532566579507, 46.230291947456536], [6.138638300239124, 46.230274595730194], [6.138709622425034, 46.23026288450564], [6.139346665457331, 46.23015830726284], [6.140227203236955, 46.22996264551253], [6.140975053121007, 46.229772298231275], [6.141941273065969, 46.22953079768996], [6.142864268176139, 46.22929997586196], [6.1429605078290175, 46.229574773524135], [6.143427955269847, 46.230636322361356], [6.1434637128292024, 46.230514852453275], [6.143634023348159, 46.230165866743256], [6.1436604502928445, 46.23012966974803], [6.1436982364098665, 46.23009879423811], [6.143844604980346, 46.230022848569156], [6.143926725420973, 46.22997734884476], [6.144074634510329, 46.22989384521713], [6.144278949181699, 46.22975913044245], [6.144536755865872, 46.229608969242584], [6.145050266126373, 46.22928734350838], [6.1456310190838135, 46.22892455156519], [6.145673919812226, 46.228891664735656], [6.145882675417112, 46.22872741643196], [6.145841680126497, 46.228258778588064], [6.145755719382108, 46.22782324685989], [6.145575562780491, 46.227293158863894], [6.146152263324865, 46.22694546880192], [6.146292978937442, 46.22710083594765], [6.146696749086424, 46.226731190055595], [6.146994665966982, 46.2263535838588], [6.147663190965371, 46.2261941611512], [6.148205921262683, 46.22605326934573], [6.148940759097113, 46.22779216342412], [6.149472143236855, 46.22766396521238], [6.166700525903562, 46.22446680582352]]]}}, {\"id\": \"1\", \"type\": \"Feature\", \"properties\": {\"AreaPerRoom\": 19.320108378619015, \"INAEND\": \"nein\", \"OS_UUID\": \"{5DF8DDBE-8D41-42A3-8F30-F9E716E39C75}\", \"PLZ\": 1203, \"RentPerArea\": 37.527644727390005, \"RentPerRoom\": 716.1314896687237, \"STATUS\": \"real\", \"SurfaceArea\": 64.23404255319149, \"UUID\": \"{54A45D65-97A3-45A1-8DB2-FA3E6E540269}\", \"ZUSZIFF\": 0, \"ZipCode\": 1203, \"x\": 6.122096309702056, \"y\": 46.207852041497006}, \"geometry\": {\"type\": \"Polygon\", \"coordinates\": [[[6.135137728516569, 46.20837021956549], [6.134704800361071, 46.207979612378814], [6.1349654754314065, 46.207884468955875], [6.134659400690358, 46.20751125159497], [6.134348375635405, 46.20761480912324], [6.134253350970387, 46.20750295941275], [6.1346936555686185, 46.20736886749297], [6.134435597641631, 46.20697668122834], [6.134223281173215, 46.20703855431371], [6.134098622790052, 46.206876429350395], [6.13332903250813, 46.2058319731882], [6.133403996099945, 46.20583786966618], [6.13404820680593, 46.20588868516918], [6.134324162118555, 46.20591247841661], [6.134623469431904, 46.2059491904513], [6.134525956430717, 46.20568883721411], [6.134239046938657, 46.20563232222473], [6.134277237665766, 46.20547818889789], [6.1342795370308645, 46.20547632614227], [6.134297471642593, 46.20545252089168], [6.134307674795971, 46.20542690786083], [6.134311953429616, 46.205399786843174], [6.134307015031024, 46.205373368987956], [6.134295577876569, 46.205347775687564], [6.134278533897941, 46.20532363803372], [6.133919214004591, 46.204902110620324], [6.133866005554052, 46.204840676602956], [6.133809794011879, 46.20478019748169], [6.133749776236916, 46.20472174358484], [6.1336833311796, 46.20466654414958], [6.133611749951957, 46.2046147940355], [6.133535293797147, 46.204566406286204], [6.133454478722912, 46.20452147682971], [6.133369816416151, 46.204480281481835], [6.13328277715961, 46.20444148771755], [6.133180229740457, 46.20440044516921], [6.13305488965909, 46.20435347075895], [6.131189630915852, 46.204018375438], [6.131619661827826, 46.20311065433519], [6.129165932634609, 46.203186646068445], [6.1290175517354015, 46.20318953916427], [6.128869109547896, 46.20318905753224], [6.128720774499737, 46.20318520312727], [6.128572689110764, 46.20317797760437], [6.128425034329006, 46.20316740105942], [6.1282779528903895, 46.20315346615457], [6.128131612788187, 46.20313619283692], [6.127972944830777, 46.20311645492487], [6.126800639353945, 46.202963549562604], [6.1265999907607025, 46.20293519740262], [6.126400730910056, 46.20290246157074], [6.126203066674015, 46.20286536247397], [6.126007191317806, 46.20282394735315], [6.125813285368115, 46.202778254305215], [6.125621568210717, 46.20272832188057], [6.125432219716355, 46.20267421516161], [6.125188588233735, 46.202599925988544], [6.1221371744993895, 46.20169078227172], [6.122097295412475, 46.20167888188727], [6.1220575372783035, 46.20166680296263], [6.1220179003149955, 46.201654536503575], [6.12197837156934, 46.201642082359136], [6.1219389769486465, 46.20162944083174], [6.121899690110842, 46.201616629607784], [6.1218605376163024, 46.20160362200686], [6.12182017503033, 46.20158975456208], [6.121779947007765, 46.201575681745304], [6.12173986584901, 46.20156143069087], [6.1216999322076875, 46.2015469744159], [6.1216601326951725, 46.201532330758006], [6.1216204802651815, 46.201517499868636], [6.121580988089198, 46.20150247290466], [6.121408409955136, 46.20143676922101], [6.120606366967337, 46.201131431854556], [6.120420594019835, 46.20106601332749], [6.120229162596841, 46.20100901241533], [6.120032844156306, 46.20096067202552], [6.119832463048495, 46.20092119070436], [6.1196288444866855, 46.20089073102603], [6.119422814548899, 46.200869419593204], [6.119215251993051, 46.200857347642966], [6.119121913450244, 46.20085400677003], [6.118779256232582, 46.20085017844981], [6.118437060019432, 46.200863124662376], [6.118097023339387, 46.200892784325326], [6.117760859648233, 46.2009390155794], [6.1174302068818935, 46.201001585732044], [6.11710674382528, 46.201080181615794], [6.1167920474138775, 46.20117441691225], [6.116205561872635, 46.20136728352163], [6.116155124833479, 46.201384137251914], [6.116104988366233, 46.20140141733699], [6.116055152251208, 46.201419132771605], [6.116005655785149, 46.20143726602304], [6.115956472841777, 46.20145582578243], [6.115907616373641, 46.20147481220196], [6.115859112724228, 46.201494207597236], [6.115809181635124, 46.20151475582969], [6.11575964134597, 46.20153574947012], [6.1157104920746574, 46.20155717952486], [6.115661733820565, 46.20157904599434], [6.115613392708597, 46.201601340188475], [6.115565455565875, 46.20162407095035], [6.1155179487362785, 46.2016472205956], [6.114297515131453, 46.20225017729607], [6.114143533020533, 46.20232298084863], [6.113985369959878, 46.202391335629684], [6.113823288112319, 46.202455118743266], [6.113657588067958, 46.20251422573981], [6.1134885186068715, 46.202568551562244], [6.11331637967034, 46.20261801874654], [6.113141458688195, 46.20266253168935], [6.113047164261744, 46.20268500466281], [6.112555188681228, 46.2028023005831], [6.112389758013883, 46.202837504179676], [6.112221315311896, 46.202864970787054], [6.112050602295798, 46.2028845741589], [6.111878398674668, 46.20289622448738], [6.111705457156285, 46.202899876636344], [6.111532542745485, 46.20289551260949], [6.1113604327425755, 46.20288314155035], [6.110823442695618, 46.20282983215407], [6.110750216203387, 46.203243987990675], [6.110658754308094, 46.203761222497725], [6.110627565850639, 46.203802061165156], [6.110531427821579, 46.203928037630526], [6.110474527717589, 46.20425131897678], [6.110466720696771, 46.204294034294584], [6.110445513894016, 46.20441481086595], [6.110414981094292, 46.20458902716084], [6.1103942573778065, 46.20467939991118], [6.110327549426365, 46.20497125655818], [6.110258872854109, 46.205371808478475], [6.110235802433535, 46.205506247363125], [6.110232494151526, 46.20556795410275], [6.110233481302577, 46.20562356653666], [6.110240581411277, 46.20567772147065], [6.110251163746397, 46.2057224706627], [6.110266435829287, 46.2057662044376], [6.110275717350227, 46.20578463139088], [6.110287704535648, 46.205808470340976], [6.110316433965453, 46.20584768415886], [6.110350375966313, 46.205885699769574], [6.1103917833234185, 46.20592047440311], [6.110439384538645, 46.20595101242158], [6.1104932281464075, 46.20597585689166], [6.110552271198664, 46.2059942038013], [6.1106185802460775, 46.20600632937944], [6.110654522558508, 46.20605318539602], [6.110830907271335, 46.20628523990152], [6.110837900518197, 46.20629443605378], [6.1109873703823245, 46.20649684368201], [6.111010927817886, 46.206525011248324], [6.111162041438755, 46.20670206673366], [6.111590500958087, 46.20729884152098], [6.111932367664888, 46.2077994453079], [6.111970401503282, 46.207855214404724], [6.111983750507674, 46.20787480464791], [6.112040963833606, 46.20795870758645], [6.112125760791577, 46.20811722212415], [6.11228610278388, 46.20837477174714], [6.112401124020081, 46.20854272820648], [6.112470173564273, 46.20862117396847], [6.112486528584838, 46.20863548231596], [6.1126604217876, 46.20881040124579], [6.1128760157581, 46.20903325047959], [6.112902313625098, 46.209054873101515], [6.113030792146907, 46.20917912715438], [6.113191274713388, 46.209334967217295], [6.113193766903273, 46.20933373692766], [6.113495153290494, 46.20962575311883], [6.113502355431797, 46.2096226887889], [6.1135409137135, 46.2096118415137], [6.113555750075527, 46.2096406348528], [6.113572334084999, 46.209668971877754], [6.11359064136746, 46.209696789323274], [6.11361063415456, 46.209724041760644], [6.113632274896983, 46.20975067476655], [6.113655525606645, 46.209776651906466], [6.113680348733658, 46.209801918757115], [6.113977443970713, 46.2100904913907], [6.114145099365808, 46.21025693161031], [6.114264356589447, 46.21038810252939], [6.114268293437568, 46.21038661926497], [6.114340159079022, 46.21046404424714], [6.114355846662541, 46.210480791633344], [6.114409633230314, 46.2105385711081], [6.114507466379823, 46.210648599553664], [6.114513817670129, 46.21065493591925], [6.114520483837886, 46.21066111403547], [6.114527452146509, 46.21066712475582], [6.114534709421479, 46.210672976922694], [6.114542256319824, 46.21067864355297], [6.114550066711275, 46.21068413333686], [6.114558153989522, 46.210689428437746], [6.114567233523331, 46.21069388947393], [6.114576739024715, 46.21069788766947], [6.114586632064639, 46.21070140457964], [6.114596874214073, 46.210704421759615], [6.114607388177108, 46.210706920308546], [6.114618135086683, 46.21070889977032], [6.114629063777005, 46.21071033255378], [6.114640641963291, 46.210711170165595], [6.114652271278775, 46.210711504550346], [6.114663912637421, 46.21071134424634], [6.114675514435351, 46.21071067965126], [6.114687037586588, 46.21070951930332], [6.114698430049346, 46.210707871588866], [6.114709666131169, 46.21070572720952], [6.114720680396815, 46.210703112388366], [6.114731433979285, 46.210700026669436], [6.114912778400715, 46.210952195717084], [6.114627083744452, 46.211078048149226], [6.114631423609263, 46.21107704643564], [6.114635837485553, 46.21107619853737], [6.114640299681026, 46.21107549515611], [6.114644796801973, 46.21107495412846], [6.114649342242179, 46.211074557617835], [6.114653896915561, 46.21107431416245], [6.114658473558908, 46.21107423290866], [6.114662416286014, 46.21107463904562], [6.114666302811121, 46.2110752244608], [6.114670133353279, 46.21107598015982], [6.114673882220049, 46.211076896844425], [6.114677549192497, 46.21107798350893], [6.114681108578228, 46.211079230854914], [6.1146845346848835, 46.21108062958416], [6.1146878406870675, 46.211082170854304], [6.11469098749882, 46.21108386320365], [6.114692278725997, 46.211084589107905], [6.114693543384985, 46.2110853416911], [6.114694781475689, 46.211086120953226], [6.114695980261446, 46.21108691774795], [6.114697152478968, 46.21108774122161], [6.114698298347215, 46.21108858237985], [6.114699404691507, 46.211089450065], [6.1147037466420775, 46.21109315374584], [6.1147078914113395, 46.211096972072525], [6.114711813087928, 46.21110090474111], [6.1147154991539585, 46.211104933610905], [6.114718975520848, 46.21110905898601], [6.1147222162771175, 46.211113280562365], [6.114725208905003, 46.21111758019948], [6.114749843124822, 46.21116662336352], [6.114792186060896, 46.2112734453743], [6.114809054896482, 46.211304502608236], [6.114865653062826, 46.21129314676011], [6.114937038541919, 46.211370682667976], [6.114963725317351, 46.21139876911713], [6.115039797186615, 46.21147438961263], [6.11511556132306, 46.21154615577713], [6.115184926606445, 46.211609812618434], [6.1152647627574135, 46.21168148248747], [6.115310814967195, 46.21172699801393], [6.11540205148441, 46.21181163104047], [6.115450273811709, 46.21185851249206], [6.115511538414898, 46.211918511366655], [6.115636148173499, 46.21204303184885], [6.115659655813015, 46.21206705024698], [6.115719539863347, 46.21212947997108], [6.11574836171139, 46.21216092910269], [6.115777751952374, 46.21219298768145], [6.115793172776977, 46.21220955179318], [6.115859293529306, 46.212283588562], [6.115922823091857, 46.21235813472977], [6.115939329325728, 46.212378031394856], [6.115954568359708, 46.212396212792164], [6.116085656020602, 46.21256193345563], [6.116177463015206, 46.21268503420376], [6.116212165001012, 46.2127315769239], [6.116313132546496, 46.212870241560594], [6.116305936710112, 46.212884228367265], [6.116291558201067, 46.21291219313685], [6.1162747724948305, 46.21294481707344], [6.116356592205048, 46.21305657251373], [6.116485623188017, 46.213233973533534], [6.116644101129195, 46.21345184549121], [6.116803282718988, 46.21367067912599], [6.116938562084659, 46.21385666384439], [6.1170737922979574, 46.21404257584065], [6.1172093118169935, 46.214228886916416], [6.117344832263979, 46.214415197831045], [6.117480191103676, 46.214601263765815], [6.117615631361579, 46.214788284151766], [6.11777367893674, 46.21500450296508], [6.1178167782359845, 46.21506400899744], [6.117872415168879, 46.215139856145306], [6.117880997982688, 46.21515200342625], [6.117889515361633, 46.21516417693134], [6.117897993655931, 46.21517635897509], [6.117906406733705, 46.21518855824872], [6.117914767333231, 46.21520078389821], [6.117923075891322, 46.21521301793475], [6.117931331971065, 46.21522527834723], [6.117943062446078, 46.21524283360147], [6.1179546754446, 46.21526042346708], [6.117966170966635, 46.21527804794415], [6.117977561968722, 46.215295707184325], [6.117988835494053, 46.21531340103596], [6.118000004499318, 46.21533112965074], [6.118011056027692, 46.215348892877074], [6.11831437462989, 46.21583759007369], [6.118432196349249, 46.216027201314645], [6.118785971012726, 46.21597366950741], [6.119254435742948, 46.216208469102895], [6.12173948482506, 46.215670728575404], [6.124292379392764, 46.215172266791875], [6.123963949358538, 46.21486731572546], [6.125745936691429, 46.21403192004913], [6.126111951338808, 46.21434243123986], [6.1263714555244375, 46.21421715396709], [6.127624639855809, 46.214192673840145], [6.128101674764305, 46.21396789524544], [6.128840698336542, 46.21366482430604], [6.129536821100284, 46.213743797461355], [6.129715824584564, 46.21366733135108], [6.129763546568301, 46.21324611208151], [6.1292670997621626, 46.212711337216], [6.129182332847565, 46.21270099684457], [6.129007513851845, 46.21252307940255], [6.129270588872294, 46.21240494462252], [6.12926991321042, 46.21149643380155], [6.129688323822016, 46.211503897297234], [6.1296881943296775, 46.211046225553424], [6.1293752464565685, 46.21104538386917], [6.129368755714224, 46.21081975727768], [6.129689670193956, 46.210817992352666], [6.1296959109729405, 46.21056408341168], [6.130356125188633, 46.21056112386923], [6.131372906522594, 46.20969310578784], [6.13140280815081, 46.209387199254714], [6.132010663425156, 46.20907638102781], [6.132081390802238, 46.209061365573874], [6.132296128003318, 46.20900920502911], [6.132354744606566, 46.20908404471576], [6.132684982968899, 46.20905728712121], [6.133030450124655, 46.20902556757709], [6.133175440742268, 46.20892378138879], [6.133290798266145, 46.20889038815007], [6.133399342743762, 46.2090868755025], [6.134884189651403, 46.208718437242986], [6.134899613772944, 46.20843179594179], [6.135137728516569, 46.20837021956549]]]}}, {\"id\": \"2\", \"type\": \"Feature\", \"properties\": {\"AreaPerRoom\": 27.531853242910934, \"INAEND\": \"nein\", \"OS_UUID\": \"{5DF8DDBE-8D41-42A3-8F30-F9E716E39C75}\", \"PLZ\": 1206, \"RentPerArea\": 39.905645356562005, \"RentPerRoom\": 1103.584284785727, \"STATUS\": \"real\", \"SurfaceArea\": 143.32692307692307, \"UUID\": \"{D924C540-1604-4E4A-9C30-A31E36299921}\", \"ZUSZIFF\": 0, \"ZipCode\": 1206, \"x\": 6.1573566965883915, \"y\": 46.18942238896255}, \"geometry\": {\"type\": \"Polygon\", \"coordinates\": [[[6.153826381810386, 46.17984066282308], [6.153869481466996, 46.18018807039982], [6.154024265254395, 46.18139468494512], [6.154170797076629, 46.182502330473234], [6.154387439980183, 46.18383696273992], [6.154527529150262, 46.184706119242165], [6.15440674565849, 46.1852361039577], [6.154181351602472, 46.185664483967706], [6.153749354764239, 46.186109043472975], [6.153437733198549, 46.1862884878789], [6.153084901830151, 46.186441191073556], [6.152583115023906, 46.1865594374368], [6.1522480180469, 46.18661768489922], [6.151773957276739, 46.186651754932086], [6.15109082803541, 46.18665401692032], [6.149914849976797, 46.18673972183113], [6.149687640202297, 46.186753616596], [6.149770761638963, 46.18745194521467], [6.149650982422172, 46.187560607376355], [6.148963752341505, 46.18760968314787], [6.1490114909205555, 46.18787455532854], [6.149461806147401, 46.18917934668847], [6.1494081039798605, 46.18919879576239], [6.149760538856355, 46.18976558314791], [6.149483406240811, 46.189839509695084], [6.14957885593846, 46.18997771199799], [6.14971770777838, 46.19002221357833], [6.149862194196495, 46.18999237573905], [6.150040360233139, 46.1899401695593], [6.150041917744917, 46.19022006913789], [6.149527729034671, 46.19022849859921], [6.149526411494189, 46.19063126181205], [6.149676769835623, 46.191055713335], [6.1497263220111895, 46.19174462566265], [6.149952632358675, 46.191744422443946], [6.150058838687626, 46.1924711386798], [6.1502323102512655, 46.192613110633964], [6.150348819386863, 46.19273157984942], [6.150420196617563, 46.19284665454036], [6.150542500041663, 46.193065144292355], [6.150611721268436, 46.193265843876254], [6.150627311965667, 46.19347735699532], [6.150594161797494, 46.19366276261846], [6.150516355219648, 46.19382462645666], [6.150401842782986, 46.193971856095], [6.151747304530574, 46.19465543383963], [6.151462633851074, 46.19486358390702], [6.1511545871478805, 46.195197178924], [6.15080706620566, 46.19562741609282], [6.150925327692556, 46.19567163596805], [6.1514096668960985, 46.19585971815223], [6.151218502020956, 46.19608214198403], [6.151076170898756, 46.19602574491789], [6.151000325673546, 46.19599574751801], [6.150950910641038, 46.19597612820271], [6.150776807719655, 46.196032673920776], [6.150585003038751, 46.196139174481175], [6.150191718957349, 46.19642906787624], [6.150325237755585, 46.19651620649121], [6.150517738236707, 46.196552745624615], [6.15085763155386, 46.19679640934262], [6.151019287035964, 46.19691826312658], [6.150736192291279, 46.19712106744332], [6.150281474867976, 46.19741817704987], [6.150657815093966, 46.19767892866817], [6.150411071672832, 46.19785321351504], [6.151466467732607, 46.19860217155433], [6.15190769545718, 46.198925863160134], [6.1515786023178265, 46.19912849590135], [6.151314754166283, 46.19931695554057], [6.151649959424929, 46.199538404022995], [6.152084867129296, 46.19926031601468], [6.152207133383858, 46.19913612383745], [6.152436534837076, 46.199001556180704], [6.1527441498631905, 46.19919705490242], [6.153788589460688, 46.19990875389659], [6.15485022272835, 46.19919536456832], [6.156461405542278, 46.19873379872015], [6.1563383427757685, 46.19836680588026], [6.156940285815757, 46.1976081716538], [6.157243616579087, 46.19748593230314], [6.156783519595079, 46.19693512107394], [6.157252470417411, 46.19675477294485], [6.1575309921982155, 46.197095442312104], [6.157780284774523, 46.19740051163046], [6.157611130952985, 46.19747093414304], [6.157352457239966, 46.19757846810809], [6.157285025688423, 46.19799187890545], [6.157429292284582, 46.19815911258664], [6.157462410153629, 46.198145282762745], [6.157570712350205, 46.1982607540663], [6.1577753542712825, 46.198322447677], [6.157838250204055, 46.198429476973864], [6.158002782135092, 46.19839148906131], [6.1576318853670475, 46.19793587253069], [6.157883281113985, 46.1978293438942], [6.158248921689559, 46.197684327614844], [6.158146097205111, 46.197561253873985], [6.157994693513934, 46.197380165998375], [6.157663809227189, 46.19697361345944], [6.157427145611421, 46.19668253337095], [6.158633404463256, 46.19624790772557], [6.158416661346365, 46.19601697445483], [6.159592340475188, 46.195527570170086], [6.160515352082318, 46.19510386486567], [6.160997337253002, 46.194897981360874], [6.16045123081468, 46.194334893154604], [6.160633525482006, 46.19410269116323], [6.161073844924565, 46.19427326496082], [6.1619590270754045, 46.19388349653311], [6.162377653763596, 46.19430290480231], [6.162531059683574, 46.19434034862607], [6.163292510625524, 46.19402129725972], [6.164257041444774, 46.19358370855986], [6.164467756128255, 46.19389455273723], [6.165081387988075, 46.19368437215116], [6.165001456932012, 46.19340927468237], [6.164665852504209, 46.19298845686137], [6.164883712548732, 46.19286300094345], [6.164573047293395, 46.192600519937464], [6.164863929503885, 46.19243645594738], [6.164504502716407, 46.19214365371244], [6.164745912014097, 46.192029791058225], [6.165004134485511, 46.191895497119795], [6.165712447325734, 46.19186162177542], [6.166221267292364, 46.19226155672796], [6.165813152132359, 46.19249525895581], [6.1661481456530165, 46.19274527149783], [6.166370954409867, 46.192907675613625], [6.167099790337728, 46.19246461545204], [6.167901920680074, 46.19312207964358], [6.168516961720581, 46.19276679649954], [6.167245494508808, 46.191732300616344], [6.1679120844633415, 46.191545571793185], [6.167670765971571, 46.19131158171815], [6.1672786918875495, 46.19101577549166], [6.16705175841359, 46.19087043849926], [6.16789921352841, 46.190261406742444], [6.167600134753113, 46.190059154110585], [6.167454526541173, 46.18996556610976], [6.167420119774256, 46.189930099898056], [6.167394821358576, 46.189903994017676], [6.167367604938867, 46.189865172060266], [6.167349435621954, 46.18981116654194], [6.167352514530125, 46.18978529052483], [6.167358953451553, 46.18973093259327], [6.167393677268414, 46.189609237690405], [6.1675009165074615, 46.18934899996147], [6.167512808645513, 46.189317384357196], [6.16757219491924, 46.189159710336256], [6.167620410385866, 46.189058770037015], [6.167540210390737, 46.188970687474004], [6.16757011704555, 46.18887826773681], [6.167630837843358, 46.18853979151821], [6.167670111593081, 46.18832086568268], [6.16769635755208, 46.188168864005064], [6.167704358745287, 46.18813133864384], [6.167709121360024, 46.188099363787025], [6.167789786037218, 46.1876728448819], [6.167798544402011, 46.18762508072044], [6.16786394794523, 46.18726568571132], [6.167471272237265, 46.187468087598724], [6.167096873167849, 46.18763659641923], [6.1665905643201135, 46.18784554137406], [6.166326013240334, 46.18794125204778], [6.1656478167687885, 46.18812242396959], [6.165045440108769, 46.18817940177919], [6.164742621295414, 46.1881721133589], [6.164225041872851, 46.18812001387009], [6.163899016929331, 46.18806378837092], [6.163564036665212, 46.18797516222799], [6.163264549198416, 46.187842393347594], [6.162971970835258, 46.18768020134362], [6.162549643773086, 46.187317261839326], [6.1624144636775275, 46.187143704763635], [6.162345735020557, 46.186926014541896], [6.162268527585089, 46.18648447825976], [6.162275738092647, 46.18616607364808], [6.162344753486263, 46.18592421136273], [6.162389122706672, 46.18579426006389], [6.162374458795004, 46.185320503360764], [6.16226090375323, 46.18491003551483], [6.161971707914025, 46.18435606900914], [6.161329500341682, 46.183511997350955], [6.160026501698797, 46.181503256209304], [6.1598162141111725, 46.18101036695252], [6.159715227676383, 46.18055128525302], [6.159694091276504, 46.179885013371965], [6.1596327096988555, 46.17917321115996], [6.159473809919843, 46.178852922577455], [6.1593334933836825, 46.17867328442572], [6.159097207028841, 46.17843856747409], [6.158771267395115, 46.17820518067757], [6.1583819260603505, 46.17802495489217], [6.15773675455156, 46.1778240084511], [6.15722390139957, 46.177774178568484], [6.157051145054, 46.1777735558609], [6.1568786207954505, 46.177779575159086], [6.156706821216282, 46.17779221507411], [6.156536303861359, 46.177811445962], [6.156367575121836, 46.17783721060975], [6.15620115518738, 46.177869415977256], [6.15603756425165, 46.17790796902728], [6.15587729704096, 46.17795275844205], [6.15572083597485, 46.17800364577597], [6.155568677063069, 46.17806046574995], [6.1554212776901025, 46.17812304365061], [6.155279082299467, 46.17819120461916], [6.155142549562748, 46.17826471997938], [6.155012072995184, 46.17834337830842], [6.154888072864468, 46.17842693250135], [6.154770917866766, 46.1785151258703], [6.154646154439431, 46.17863593584709], [6.154527742466301, 46.178759795957426], [6.154415866853419, 46.17888655538142], [6.1543106613560195, 46.179016035725496], [6.154212259309542, 46.179148076584326], [6.1541207944784215, 46.179282499563165], [6.154036387470785, 46.17941913511313], [6.15395913342692, 46.17955779540062], [6.153889165911089, 46.179698311022385], [6.153826381810386, 46.17984066282308]]]}}, {\"id\": \"3\", \"type\": \"Feature\", \"properties\": {\"AreaPerRoom\": 20.106477906477906, \"INAEND\": \"nein\", \"OS_UUID\": \"{5DF8DDBE-8D41-42A3-8F30-F9E716E39C75}\", \"PLZ\": 1205, \"RentPerArea\": 35.18185634549229, \"RentPerRoom\": 698.7350493350493, \"STATUS\": \"real\", \"SurfaceArea\": 75.91891891891892, \"UUID\": \"{F97E72AA-A260-4075-B3AE-F87FEDE38726}\", \"ZUSZIFF\": 0, \"ZipCode\": 1205, \"x\": 6.140328436847279, \"y\": 46.19607899458931}, \"geometry\": {\"type\": \"Polygon\", \"coordinates\": [[[6.133941757171043, 46.20367711754078], [6.134082490940982, 46.20308116531098], [6.135171888124315, 46.20315411664103], [6.1351882410407645, 46.2030713636546], [6.13525751093515, 46.20262960911857], [6.135261992134166, 46.20261022770351], [6.13529907089111, 46.20237142995401], [6.134906046680717, 46.20232945301328], [6.135013252281325, 46.20140833526411], [6.135025114959015, 46.20134100499925], [6.136801562182385, 46.20137017295368], [6.136780601145053, 46.20155842390128], [6.137639262616235, 46.20160839206448], [6.138157200142278, 46.20162283867974], [6.138162607983589, 46.20157440805566], [6.138504069962904, 46.201572594669685], [6.138604684758314, 46.20149385321198], [6.138820640445584, 46.20157624244845], [6.139264684854484, 46.20159281056077], [6.139439674680661, 46.20143963943301], [6.139368664415036, 46.20125490832992], [6.1393141608064346, 46.20127362381831], [6.139224235620209, 46.2011327592706], [6.13965738453329, 46.201004261361014], [6.14000038996689, 46.20106843505558], [6.140184779429446, 46.20104132670643], [6.140185127165167, 46.2010425002972], [6.140185889194168, 46.201043687653076], [6.14018677231243, 46.201044687469064], [6.140188033440353, 46.201045592670525], [6.14018932433981, 46.2010463362716], [6.140190863715211, 46.201046983767284], [6.140192653498876, 46.201047454208286], [6.140194460744818, 46.20104773591674], [6.140196416704388, 46.201047758428516], [6.140198236403322, 46.201047518463795], [6.140200047657661, 46.201047089468325], [6.140201759579123, 46.20104647939291], [6.140217205588165, 46.20103990953826], [6.140244453690344, 46.20102743863524], [6.14045342826462, 46.20096967268282], [6.141027216827623, 46.200165101398326], [6.1410266628454, 46.20016496907072], [6.140735744430322, 46.200100399055906], [6.141099402067911, 46.199526202894184], [6.141447342035385, 46.19902944059992], [6.1415706525282925, 46.198846162493744], [6.141615980633787, 46.198705694312174], [6.141626901854484, 46.19854054809273], [6.1416000221638, 46.19802632208232], [6.142036095178119, 46.198022815006425], [6.142149142115803, 46.19811832007699], [6.142440953332669, 46.19813036432081], [6.142443862543394, 46.19813061367174], [6.142581600140447, 46.19828994659448], [6.142601009781365, 46.198312193822936], [6.142687061509746, 46.198496168903894], [6.142706141913501, 46.19871823189823], [6.142652934296133, 46.198721318355155], [6.142662421074678, 46.19934985584908], [6.142632499185402, 46.19940663297626], [6.143017083868169, 46.1994769792256], [6.143054551476031, 46.20052262509858], [6.1431075884813895, 46.20071173572888], [6.143358179641415, 46.20090029868508], [6.143631497040784, 46.20072376975089], [6.143967646170153, 46.20098248102303], [6.144068839605751, 46.20105815398989], [6.144191919761681, 46.20108527920155], [6.144311682491659, 46.20107812429446], [6.1450167262583655, 46.20073684623907], [6.1444562571868655, 46.20020349200164], [6.14554232278907, 46.19952570953804], [6.14717439395128, 46.198513459361465], [6.147740103365184, 46.198922460898956], [6.147816702901426, 46.19881211871988], [6.1482184605137595, 46.19855625714534], [6.148388820112856, 46.198487013904746], [6.14866525758099, 46.19845306339169], [6.149649677568854, 46.19853886340892], [6.149848605311746, 46.198683375851445], [6.149849261690869, 46.19868301448071], [6.1505755633972585, 46.19819242733076], [6.1508302000256325, 46.19836940482011], [6.150362090659372, 46.19868120674986], [6.150049721516062, 46.19867484112347], [6.149936827138188, 46.19874782023386], [6.150564192161862, 46.19920884748179], [6.150379658200804, 46.1993213327707], [6.15103861252523, 46.19979424292019], [6.151241500101975, 46.19966887563483], [6.15133698694153, 46.19974510664873], [6.151649959424929, 46.199538404022995], [6.151314754166283, 46.19931695554057], [6.1515786023178265, 46.19912849590135], [6.15190769545718, 46.198925863160134], [6.151466467732607, 46.19860217155433], [6.150411071672832, 46.19785321351504], [6.150657815093966, 46.19767892866817], [6.150281474867976, 46.19741817704987], [6.150736192291279, 46.19712106744332], [6.151019287035964, 46.19691826312658], [6.15085763155386, 46.19679640934262], [6.150517738236707, 46.196552745624615], [6.150325237755585, 46.19651620649121], [6.150191718957349, 46.19642906787624], [6.150585003038751, 46.196139174481175], [6.150776807719655, 46.196032673920776], [6.150950910641038, 46.19597612820271], [6.151000325673546, 46.19599574751801], [6.151076170898756, 46.19602574491789], [6.151218502020956, 46.19608214198403], [6.1514096668960985, 46.19585971815223], [6.150925327692556, 46.19567163596805], [6.15080706620566, 46.19562741609282], [6.1511545871478805, 46.195197178924], [6.151462633851074, 46.19486358390702], [6.151747304530574, 46.19465543383963], [6.150401842782986, 46.193971856095], [6.150516355219648, 46.19382462645666], [6.150594161797494, 46.19366276261846], [6.150627311965667, 46.19347735699532], [6.150611721268436, 46.193265843876254], [6.150542500041663, 46.193065144292355], [6.150420196617563, 46.19284665454036], [6.150348819386863, 46.19273157984942], [6.1502323102512655, 46.192613110633964], [6.150058838687626, 46.1924711386798], [6.149952632358675, 46.191744422443946], [6.1497263220111895, 46.19174462566265], [6.149676769835623, 46.191055713335], [6.149526411494189, 46.19063126181205], [6.149527729034671, 46.19022849859921], [6.150041917744917, 46.19022006913789], [6.150040360233139, 46.1899401695593], [6.149862194196495, 46.18999237573905], [6.14971770777838, 46.19002221357833], [6.14957885593846, 46.18997771199799], [6.149483406240811, 46.189839509695084], [6.149760538856355, 46.18976558314791], [6.1494081039798605, 46.18919879576239], [6.149461806147401, 46.18917934668847], [6.1490114909205555, 46.18787455532854], [6.148963752341505, 46.18760968314787], [6.149650982422172, 46.187560607376355], [6.149770761638963, 46.18745194521467], [6.149687640202297, 46.186753616596], [6.148863717624061, 46.18680396339284], [6.148191698101628, 46.18686529101959], [6.147472338871547, 46.18683734615432], [6.146709637730465, 46.18679576488785], [6.145964970379387, 46.18675248681797], [6.145400899047802, 46.186763825142755], [6.145259664140527, 46.186772111115715], [6.144835544295698, 46.18680079586047], [6.143913158787938, 46.186934844061575], [6.143568524661664, 46.18703679792576], [6.14275933318733, 46.187344893467944], [6.1419462401500775, 46.188000008990215], [6.141886073809843, 46.188094944522426], [6.141689979997165, 46.18852362880124], [6.141436583381673, 46.189081783866534], [6.140479195676375, 46.19098424158469], [6.139643846635116, 46.19280348240908], [6.139262353449988, 46.19335543464533], [6.138914075899592, 46.19367125065629], [6.138167064021915, 46.194103845723376], [6.136683882152829, 46.19489886330587], [6.135564675470865, 46.19548064032958], [6.135396030482309, 46.195554256564336], [6.134094345970592, 46.196122278135405], [6.133322779520441, 46.196426712906444], [6.132415149834293, 46.197023764015825], [6.13116059037378, 46.197878847927406], [6.130121869991264, 46.19857023226688], [6.128521950196279, 46.19941328322742], [6.127458225490013, 46.199930480183106], [6.126751303194488, 46.20017994090597], [6.125999522816054, 46.200354561278424], [6.12530598766648, 46.200506264996136], [6.1246281930599125, 46.20062624495501], [6.123919867609112, 46.20075646340015], [6.12314998734573, 46.20088585174563], [6.12235144728666, 46.200929907080216], [6.121554327156036, 46.20092061291916], [6.120032844156306, 46.20096067202552], [6.120229162596841, 46.20100901241533], [6.120420594019835, 46.20106601332749], [6.120606366967337, 46.201131431854556], [6.121408409955136, 46.20143676922101], [6.121580988089198, 46.20150247290466], [6.1216204802651815, 46.201517499868636], [6.1216601326951725, 46.201532330758006], [6.1216999322076875, 46.2015469744159], [6.12173986584901, 46.20156143069087], [6.121779947007765, 46.201575681745304], [6.12182017503033, 46.20158975456208], [6.1218605376163024, 46.20160362200686], [6.121899690110842, 46.201616629607784], [6.1219389769486465, 46.20162944083174], [6.12197837156934, 46.201642082359136], [6.1220179003149955, 46.201654536503575], [6.1220575372783035, 46.20166680296263], [6.122097295412475, 46.20167888188727], [6.1221371744993895, 46.20169078227172], [6.125188588233735, 46.202599925988544], [6.125432219716355, 46.20267421516161], [6.125621568210717, 46.20272832188057], [6.125813285368115, 46.202778254305215], [6.126007191317806, 46.20282394735315], [6.126203066674015, 46.20286536247397], [6.126400730910056, 46.20290246157074], [6.1265999907607025, 46.20293519740262], [6.126800639353945, 46.202963549562604], [6.127972944830777, 46.20311645492487], [6.128131612788187, 46.20313619283692], [6.1282779528903895, 46.20315346615457], [6.128425034329006, 46.20316740105942], [6.128572689110764, 46.20317797760437], [6.128720774499737, 46.20318520312727], [6.128869109547896, 46.20318905753224], [6.1290175517354015, 46.20318953916427], [6.129165932634609, 46.203186646068445], [6.131619661827826, 46.20311065433519], [6.131640136909105, 46.203110018839595], [6.131829781248208, 46.20310843697094], [6.132019167850342, 46.20311542579836], [6.132207494530395, 46.203130940045774], [6.132393972054753, 46.20315493459234], [6.132577812914255, 46.20318729236743], [6.13275822980993, 46.2032278873113], [6.1329344626391284, 46.203276539702564], [6.133105764892275, 46.203333042991105], [6.133271416605433, 46.203397163947315], [6.13390900993263, 46.203663216578896], [6.133941757171043, 46.20367711754078]]]}}, {\"id\": \"4\", \"type\": \"Feature\", \"properties\": {\"AreaPerRoom\": 21.860883268778007, \"INAEND\": \"nein\", \"OS_UUID\": \"{5DF8DDBE-8D41-42A3-8F30-F9E716E39C75}\", \"PLZ\": 1207, \"RentPerArea\": 41.64690722209325, \"RentPerRoom\": 904.1794998860789, \"STATUS\": \"real\", \"SurfaceArea\": 100.05263157894737, \"UUID\": \"{B5EA9714-EF37-41F0-B481-F59A93221892}\", \"ZUSZIFF\": 0, \"ZipCode\": 1207, \"x\": 6.162358479628013, \"y\": 46.206612590383116}, \"geometry\": {\"type\": \"Polygon\", \"coordinates\": [[[6.157405499545926, 46.209956107412935], [6.157460039292055, 46.21001241692565], [6.157979921544355, 46.21054930115698], [6.1595144698203335, 46.212228497891324], [6.159806981918908, 46.21254859079025], [6.161900290885797, 46.21522384980327], [6.171632857603126, 46.2121255723639], [6.1722873149284885, 46.211917284280084], [6.172361656856008, 46.21189139814765], [6.172548430425346, 46.21160128764164], [6.172447371890706, 46.2115557095815], [6.172446709433338, 46.21155633192224], [6.172393498403314, 46.211532397162294], [6.172382590555361, 46.21152777636559], [6.172371815619706, 46.21152301311099], [6.172361160221554, 46.21151812524189], [6.172130274412653, 46.21141638945525], [6.172037932326154, 46.21137495740734], [6.171378095224535, 46.21105689892265], [6.171957043918482, 46.21064316009191], [6.172111296548359, 46.210535760703166], [6.172545485223906, 46.21022708679031], [6.172563272684904, 46.210214510955694], [6.17294804160064, 46.20994100721898], [6.172950281728226, 46.209939412927476], [6.173019876104973, 46.209889091879894], [6.172992189542956, 46.209870427900405], [6.172983275945132, 46.20986421010861], [6.172912015131339, 46.209863635669365], [6.173282238395789, 46.20959966620046], [6.173209541619303, 46.20955054723316], [6.17279771197321, 46.209274818904795], [6.172774082999905, 46.20925944822556], [6.172143094436552, 46.208838704549095], [6.1722728803305555, 46.20874668476822], [6.172226562634947, 46.20871566583378], [6.1722201792427525, 46.2087115456367], [6.172179081499833, 46.2086850836597], [6.171903395566851, 46.20850385270872], [6.171833618856823, 46.208445759836174], [6.171829805618895, 46.20844256815064], [6.171150648122585, 46.20787695159365], [6.17088213242035, 46.20765027491624], [6.170754190644786, 46.2066976797716], [6.170784247947754, 46.2066478964791], [6.1710384353682715, 46.206433300410644], [6.171091228273134, 46.206394316698166], [6.171431742958897, 46.20614288513195], [6.171453099935718, 46.20612555429573], [6.171474022098521, 46.206107975659116], [6.171494522402076, 46.206090149367945], [6.171514846506405, 46.20606987397085], [6.171534632367756, 46.2060493406157], [6.171553879776817, 46.20602855829723], [6.171561362952323, 46.20601938465304], [6.171568756281013, 46.206010174012214], [6.1715760340631265, 46.206000917089455], [6.171584332645407, 46.20599011518761], [6.1715924899806724, 46.20597925771834], [6.171600505859496, 46.205968353676056], [6.171615660680607, 46.20596861383316], [6.171619280342832, 46.20596397615768], [6.171625447893937, 46.20596566483866], [6.171624764541887, 46.20596718661677], [6.171627923758792, 46.205967851868785], [6.171631166360876, 46.20596827514414], [6.171634453274747, 46.20596846500081], [6.17164034305778, 46.205968171270726], [6.171646056540834, 46.20596710183773], [6.171651359283235, 46.20596530804972], [6.171656094362463, 46.20596285112216], [6.1716742819956885, 46.20594417112578], [6.171673126555786, 46.205943708311985], [6.17170780190798, 46.205901443972884], [6.171730143568038, 46.20588244174642], [6.171415111621838, 46.20572325956943], [6.170855324239918, 46.20537986147289], [6.169640079638045, 46.204566358659285], [6.168989320475483, 46.204070583941814], [6.168851111258526, 46.204168982744314], [6.1685839632005735, 46.20398314311564], [6.168713779835216, 46.20388457819904], [6.168180363000916, 46.20365300540344], [6.169605816830616, 46.20265939366966], [6.167589281623467, 46.20148391692405], [6.168029268664907, 46.20113748590499], [6.167749086104945, 46.20098012508319], [6.167751314845037, 46.20088584591955], [6.167586886756711, 46.2008811145034], [6.167505352819275, 46.20084881507589], [6.167512651511047, 46.200662906827326], [6.16781033574333, 46.2006677900226], [6.167817723358154, 46.20045141066963], [6.167521130487879, 46.20044644980947], [6.167536154107039, 46.20006359007614], [6.167172871282058, 46.19996680240547], [6.166751958768967, 46.19996144591074], [6.166480789547218, 46.199811335902524], [6.164680168303727, 46.19976299139964], [6.16385772954951, 46.19974509091719], [6.163860749227137, 46.19979370770017], [6.163244108190118, 46.19977819104707], [6.162577721108348, 46.19977342630307], [6.162215755633376, 46.19977222837942], [6.162022565868855, 46.19994422926177], [6.160694675271868, 46.19973217394633], [6.160632051947679, 46.19994576819123], [6.160346975602746, 46.19999669904627], [6.160083962098276, 46.19999092951577], [6.157528885227491, 46.199675853675174], [6.157161951768068, 46.199314684071815], [6.156660601005687, 46.19876988152549], [6.156461405542278, 46.19873379872015], [6.15485022272835, 46.19919536456832], [6.153788589460688, 46.19990875389659], [6.1527441498631905, 46.19919705490242], [6.152436534837076, 46.199001556180704], [6.152207133383858, 46.19913612383745], [6.152084867129296, 46.19926031601468], [6.153193094512815, 46.200052756663304], [6.153174040261686, 46.200338188250726], [6.153370892276107, 46.20049444748854], [6.1536216852278915, 46.20106311373869], [6.153988481622829, 46.201210160414725], [6.154517639119049, 46.201096158343866], [6.154642380983079, 46.201391764740144], [6.154337949130759, 46.20173396585996], [6.154630179585022, 46.20242293890976], [6.155153212751576, 46.20257166075528], [6.155219390117905, 46.20273235883263], [6.154332953440174, 46.20291518990989], [6.15424917991516, 46.20304980913591], [6.1543345899531, 46.20326787443851], [6.154615662796335, 46.203385315182935], [6.154829979074138, 46.20388761677938], [6.1543369071268765, 46.204406087109675], [6.149882480692948, 46.20684167156055], [6.156954163547914, 46.20999623552592], [6.157405499545926, 46.209956107412935]]]}}, {\"id\": \"5\", \"type\": \"Feature\", \"properties\": {\"AreaPerRoom\": 21.283923417851987, \"INAEND\": \"nein\", \"OS_UUID\": \"{5DF8DDBE-8D41-42A3-8F30-F9E716E39C75}\", \"PLZ\": 1201, \"RentPerArea\": 41.40310241507456, \"RentPerRoom\": 882.1095650381365, \"STATUS\": \"real\", \"SurfaceArea\": 82.14285714285714, \"UUID\": \"{5CE53C00-4565-4D02-A695-7DEE2B916405}\", \"ZUSZIFF\": 0, \"ZipCode\": 1201, \"x\": 6.146909938243938, \"y\": 46.2107418106785}, \"geometry\": {\"type\": \"Polygon\", \"coordinates\": [[[6.161900290885797, 46.21522384980327], [6.159806981918908, 46.21254859079025], [6.1595144698203335, 46.212228497891324], [6.157979921544355, 46.21054930115698], [6.157460039292055, 46.21001241692565], [6.157405499545926, 46.209956107412935], [6.156954163547914, 46.20999623552592], [6.149882480692948, 46.20684167156055], [6.149191318806715, 46.20665662740449], [6.1477093059186885, 46.2064777377474], [6.1463596918770085, 46.20623957149851], [6.14480922438223, 46.20586746230218], [6.143766599182222, 46.205592307984354], [6.142709142531864, 46.20532714898293], [6.141854532984931, 46.205114945803324], [6.140910482658437, 46.204992863285675], [6.1398323120561695, 46.20499060527977], [6.138925188356532, 46.20485319570047], [6.137906537122609, 46.204987412221655], [6.136805331097182, 46.20511761715593], [6.136795380521071, 46.205118653936744], [6.136785373138552, 46.205119357178035], [6.136775321904025, 46.20511972702923], [6.136765265680751, 46.2051197639388], [6.136755204468917, 46.205119467906684], [6.136745189870711, 46.20511884852519], [6.136735222316945, 46.205117887805635], [6.136728982382071, 46.20511710505154], [6.136722784324555, 46.20511619682449], [6.1367166281444385, 46.205115163124525], [6.13671051405701, 46.20511399495736], [6.136704454586073, 46.20511271046109], [6.136698463116525, 46.20511129179655], [6.136692526478892, 46.205109747808606], [6.13607151607959, 46.20483715505025], [6.1354622690291984, 46.20449460925539], [6.134512001587516, 46.20395728662301], [6.134459714406502, 46.20392823418997], [6.13440689768903, 46.2038996524436], [6.134353551218929, 46.20387155037749], [6.134299675211302, 46.2038439189965], [6.134245294926447, 46.20381678558252], [6.1341904235333695, 46.20379014129015], [6.134135048077377, 46.20376398596898], [6.134079253184848, 46.20373803269766], [6.134022966750856, 46.2037125865346], [6.133966214682448, 46.203687647778615], [6.133941757171043, 46.20367711754078], [6.13390900993263, 46.203663216578896], [6.133271416605433, 46.203397163947315], [6.133105764892275, 46.203333042991105], [6.1329344626391284, 46.203276539702564], [6.13275822980993, 46.2032278873113], [6.132577812914255, 46.20318729236743], [6.132393972054753, 46.20315493459234], [6.132207494530395, 46.203130940045774], [6.132019167850342, 46.20311542579836], [6.131829781248208, 46.20310843697094], [6.131640136909105, 46.203110018839595], [6.131619661827826, 46.20311065433519], [6.131189630915852, 46.204018375438], [6.13305488965909, 46.20435347075895], [6.133180229740457, 46.20440044516921], [6.13328277715961, 46.20444148771755], [6.133369816416151, 46.204480281481835], [6.133454478722912, 46.20452147682971], [6.133535293797147, 46.204566406286204], [6.133611749951957, 46.2046147940355], [6.1336833311796, 46.20466654414958], [6.133749776236916, 46.20472174358484], [6.133809794011879, 46.20478019748169], [6.133866005554052, 46.204840676602956], [6.133919214004591, 46.204902110620324], [6.134278533897941, 46.20532363803372], [6.134295577876569, 46.205347775687564], [6.134307015031024, 46.205373368987956], [6.134311953429616, 46.205399786843174], [6.134307674795971, 46.20542690786083], [6.134297471642593, 46.20545252089168], [6.1342795370308645, 46.20547632614227], [6.134277237665766, 46.20547818889789], [6.134239046938657, 46.20563232222473], [6.134525956430717, 46.20568883721411], [6.134623469431904, 46.2059491904513], [6.134324162118555, 46.20591247841661], [6.13404820680593, 46.20588868516918], [6.133403996099945, 46.20583786966618], [6.13332903250813, 46.2058319731882], [6.134098622790052, 46.206876429350395], [6.134223281173215, 46.20703855431371], [6.134435597641631, 46.20697668122834], [6.1346936555686185, 46.20736886749297], [6.134253350970387, 46.20750295941275], [6.134348375635405, 46.20761480912324], [6.134659400690358, 46.20751125159497], [6.1349654754314065, 46.207884468955875], [6.134704800361071, 46.207979612378814], [6.135137728516569, 46.20837021956549], [6.13513425831546, 46.20891997684568], [6.135933283290671, 46.20896933067376], [6.135850903665111, 46.209773777258945], [6.135855122795551, 46.209981743105786], [6.1351433753546285, 46.210280585555715], [6.135201640868713, 46.210336769184885], [6.135521571958792, 46.21038131013049], [6.135873602914887, 46.21050323379267], [6.136454906757292, 46.210277825166884], [6.136553108275449, 46.210387280441594], [6.136631436433396, 46.21046618694217], [6.13622512000883, 46.21063585665597], [6.135918089150844, 46.210766815214654], [6.136013664566503, 46.21087228203182], [6.136433170209131, 46.21087712414066], [6.136555711203606, 46.211003864331104], [6.136792943171154, 46.2112496963773], [6.136418928806876, 46.21141776022332], [6.136502750076257, 46.21151789977493], [6.136172559272179, 46.21165955897472], [6.136628569910238, 46.212345145175135], [6.136787558850348, 46.212579008223905], [6.137077465948877, 46.21271442622174], [6.137611390691518, 46.212102950107685], [6.137900469112568, 46.212056260319166], [6.138298407050297, 46.21211797672612], [6.139154065088508, 46.21182230115527], [6.139858221624356, 46.21273656995751], [6.1403441610381035, 46.21346064960516], [6.1404953480186535, 46.21430989126532], [6.140001170860718, 46.214473075947645], [6.140053760653093, 46.21455024426399], [6.14018097268135, 46.21469916632871], [6.140430973491494, 46.21499237073236], [6.140423650527468, 46.2154674096279], [6.144522918221018, 46.21553671631822], [6.145212784247912, 46.21504474360074], [6.145212925268374, 46.21498977457898], [6.145364742012934, 46.21488948153086], [6.14522940525461, 46.21479493016718], [6.145856375540104, 46.21438790060633], [6.146021295204576, 46.214515925410836], [6.146402290511126, 46.21435366775216], [6.146289261007742, 46.21420716451941], [6.146448299047578, 46.21415185593938], [6.146977939349711, 46.21394604440935], [6.147535757177286, 46.21370501538074], [6.147909780825624, 46.21355211965993], [6.148046291080968, 46.21372507054712], [6.148303008789096, 46.21359476338817], [6.148611116002387, 46.2134779086233], [6.148457511378124, 46.21329891505071], [6.1488722042694866, 46.21316321528688], [6.14911053487924, 46.21309216518357], [6.1491994320236625, 46.21324549725659], [6.148977936017631, 46.213333474048426], [6.149400178072363, 46.213890613968054], [6.149150595665274, 46.214004271054485], [6.1493800903193865, 46.214311525735475], [6.149756503396057, 46.21417259628044], [6.150810934622865, 46.21403564757951], [6.150900364503847, 46.21422695090703], [6.150809602481924, 46.21448592322202], [6.150484819694935, 46.21516883556373], [6.150552582805488, 46.21521286578781], [6.1506029588714535, 46.21527471814571], [6.150718016496567, 46.21528746632861], [6.150718469107313, 46.21528477244813], [6.151086739464021, 46.21533224066228], [6.15124492169364, 46.216281977319305], [6.155766068490644, 46.217358831696124], [6.161900290885797, 46.21522384980327]]]}}, {\"id\": \"6\", \"type\": \"Feature\", \"properties\": {\"AreaPerRoom\": 24.85254844361987, \"INAEND\": \"nein\", \"OS_UUID\": \"{5DF8DDBE-8D41-42A3-8F30-F9E716E39C75}\", \"PLZ\": 1208, \"RentPerArea\": 36.85780559644569, \"RentPerRoom\": 909.2452484023913, \"STATUS\": \"real\", \"SurfaceArea\": 88.07142857142857, \"UUID\": \"{6C0C2A10-B4FA-43B9-A9B2-8DACE70978A5}\", \"ZUSZIFF\": 0, \"ZipCode\": 1208, \"x\": 6.16757285189, \"y\": 46.19844559371096}, \"geometry\": {\"type\": \"Polygon\", \"coordinates\": [[[6.171730143568038, 46.20588244174642], [6.172083793580334, 46.206003730283484], [6.173177568371618, 46.20638128153867], [6.173818357439963, 46.20660204124529], [6.174208117877839, 46.20673560357121], [6.174250875376878, 46.20675363544339], [6.174429929643957, 46.206831214754516], [6.1748759726252604, 46.2070260436041], [6.174830976926013, 46.20683273878932], [6.174902332460119, 46.2068246042486], [6.1749820683498875, 46.206800450305934], [6.17505296816405, 46.206765077340656], [6.175108017894135, 46.206713062739084], [6.175435283437712, 46.206301040501785], [6.175845404283118, 46.20578658988655], [6.175797525243801, 46.20579549159897], [6.175663737694222, 46.20582045353885], [6.175654088577848, 46.20581746655852], [6.175066502629833, 46.20543625293117], [6.174682786602374, 46.205187323640146], [6.174186153345242, 46.2046750515905], [6.173982927269384, 46.20446540715588], [6.17458324424305, 46.204187117002114], [6.174956938739663, 46.204014327814406], [6.174885942256731, 46.2039530742802], [6.174794483946599, 46.203873507974876], [6.174759356070169, 46.20387462591548], [6.174743052336585, 46.20386249555962], [6.174737429436937, 46.20385856395648], [6.174498428148944, 46.20368908609848], [6.1744804576394525, 46.203676199292225], [6.174507097284227, 46.20366174308429], [6.174225645732208, 46.203406571558205], [6.174144051245268, 46.20344956131151], [6.174077326708518, 46.20340582686246], [6.173390308887341, 46.20295590582899], [6.1734162027988155, 46.20293451400156], [6.173649363603956, 46.20275926239722], [6.173853209675174, 46.202608143912116], [6.173733668006063, 46.202477700011045], [6.1740020573751355, 46.20233082265058], [6.174038282799641, 46.202311435820825], [6.1740750196684635, 46.20229178480936], [6.17447902947573, 46.20207409239177], [6.174502782573101, 46.20206059349464], [6.174591729720062, 46.202013898254364], [6.174675441743091, 46.20196833186684], [6.174690004473214, 46.20196056886839], [6.174798456703391, 46.201899715156905], [6.174817738731075, 46.20188903607694], [6.174846648290801, 46.20187164529264], [6.174971950384035, 46.20180439453843], [6.175025639161017, 46.20177449685298], [6.175239086828023, 46.2016559438431], [6.175397117835508, 46.20156802470447], [6.17574811655833, 46.20137293693728], [6.175811910059291, 46.201337493036824], [6.175822533983342, 46.20133194399466], [6.175540850269989, 46.20106526624513], [6.175117324841584, 46.2006627764368], [6.175082461931739, 46.200630267501886], [6.174977404220789, 46.20052895673419], [6.174817187727398, 46.20035972312076], [6.174699955146733, 46.200235963704785], [6.174694625543913, 46.200231135705074], [6.17442246347899, 46.199945488582195], [6.174318499017213, 46.19983627227034], [6.174218289754851, 46.19957110296207], [6.174300364893977, 46.19955734912027], [6.174380515012136, 46.199542242124096], [6.174430486986079, 46.19953281572636], [6.174441158703038, 46.199530776092566], [6.174509745567309, 46.19951759968394], [6.174601766704407, 46.19949901785013], [6.174649801906189, 46.1994892997518], [6.174680381300952, 46.199483074731795], [6.174688403879566, 46.19948129329004], [6.174696015307633, 46.19947880549321], [6.174703097962093, 46.19947565500746], [6.174709534219907, 46.199471885498795], [6.174714981866788, 46.199467727049274], [6.174719636453081, 46.199463127869265], [6.174723431332476, 46.19945816818317], [6.174726300276793, 46.199452910226356], [6.174728101429243, 46.199447325419335], [6.174728881586532, 46.19944163020884], [6.174728625915056, 46.19943590539968], [6.174727345069154, 46.199430250075565], [6.174686422645056, 46.19930114679054], [6.174647316082475, 46.199177542867204], [6.174665659264831, 46.199174329620455], [6.174575119773339, 46.19888832450999], [6.174554196900569, 46.19882358323245], [6.174451805643234, 46.19850738700591], [6.174357460762575, 46.19831273723224], [6.174353842421164, 46.19830675881314], [6.174296352103414, 46.1982216348286], [6.174279066811949, 46.19819607020879], [6.174087149012955, 46.19791900476158], [6.17391342264723, 46.19767875077551], [6.173860071982531, 46.197605098864216], [6.173683128911929, 46.19734168674215], [6.17365467345484, 46.197300081479625], [6.173453815674321, 46.19699990990538], [6.173380388877294, 46.196901570371196], [6.173344032703089, 46.196852643006544], [6.173144057420305, 46.19658485112734], [6.173048856072689, 46.19647580384534], [6.17258980803523, 46.19595364429664], [6.172568500696393, 46.19592839413026], [6.17246445411031, 46.19580092963116], [6.172166365826845, 46.19547731625373], [6.171798623916713, 46.19508509316009], [6.17123794594276, 46.1945059254976], [6.171335817290883, 46.19445835256987], [6.171335098996671, 46.19443301858542], [6.171341858716796, 46.19440811948948], [6.171355812888368, 46.19438470471731], [6.171376381315109, 46.194363766389955], [6.1714026750552495, 46.194346203191195], [6.171813243055407, 46.1941997590873], [6.172086508688382, 46.19409676478133], [6.172374642554653, 46.19396162933208], [6.172632999593378, 46.193892375194125], [6.172590669953427, 46.19380742942859], [6.172573550899337, 46.19380264893268], [6.1725618490877645, 46.19378776288814], [6.172511016678925, 46.19372304535762], [6.172402572987971, 46.19363996645826], [6.172178494732944, 46.19346498274011], [6.171992305129735, 46.19348333278897], [6.171750751943976, 46.19362212129097], [6.171620504684582, 46.19360196307228], [6.171321399225403, 46.19373481410195], [6.171092949778737, 46.19348123725843], [6.170986283862486, 46.19352934989226], [6.170681742940275, 46.19331118302803], [6.170950270538601, 46.19314400924847], [6.170611774063382, 46.19288317572271], [6.170815385670452, 46.19274979312589], [6.170734808008469, 46.19267746203985], [6.170140485221945, 46.192817157473876], [6.1694091183785424, 46.192209070327095], [6.168516961720581, 46.19276679649954], [6.167901920680074, 46.19312207964358], [6.167099790337728, 46.19246461545204], [6.166370954409867, 46.192907675613625], [6.1661481456530165, 46.19274527149783], [6.165813152132359, 46.19249525895581], [6.166221267292364, 46.19226155672796], [6.165712447325734, 46.19186162177542], [6.165004134485511, 46.191895497119795], [6.164745912014097, 46.192029791058225], [6.164504502716407, 46.19214365371244], [6.164863929503885, 46.19243645594738], [6.164573047293395, 46.192600519937464], [6.164883712548732, 46.19286300094345], [6.164665852504209, 46.19298845686137], [6.165001456932012, 46.19340927468237], [6.165081387988075, 46.19368437215116], [6.164467756128255, 46.19389455273723], [6.164257041444774, 46.19358370855986], [6.163292510625524, 46.19402129725972], [6.162531059683574, 46.19434034862607], [6.162377653763596, 46.19430290480231], [6.1619590270754045, 46.19388349653311], [6.161073844924565, 46.19427326496082], [6.160633525482006, 46.19410269116323], [6.16045123081468, 46.194334893154604], [6.160997337253002, 46.194897981360874], [6.160515352082318, 46.19510386486567], [6.159592340475188, 46.195527570170086], [6.158416661346365, 46.19601697445483], [6.158633404463256, 46.19624790772557], [6.157427145611421, 46.19668253337095], [6.157663809227189, 46.19697361345944], [6.157994693513934, 46.197380165998375], [6.158146097205111, 46.197561253873985], [6.158248921689559, 46.197684327614844], [6.157883281113985, 46.1978293438942], [6.1576318853670475, 46.19793587253069], [6.158002782135092, 46.19839148906131], [6.157838250204055, 46.198429476973864], [6.1577753542712825, 46.198322447677], [6.157570712350205, 46.1982607540663], [6.157462410153629, 46.198145282762745], [6.157429292284582, 46.19815911258664], [6.157285025688423, 46.19799187890545], [6.157352457239966, 46.19757846810809], [6.157611130952985, 46.19747093414304], [6.157780284774523, 46.19740051163046], [6.1575309921982155, 46.197095442312104], [6.157252470417411, 46.19675477294485], [6.156783519595079, 46.19693512107394], [6.157243616579087, 46.19748593230314], [6.156940285815757, 46.1976081716538], [6.1563383427757685, 46.19836680588026], [6.156461405542278, 46.19873379872015], [6.156660601005687, 46.19876988152549], [6.157161951768068, 46.199314684071815], [6.157528885227491, 46.199675853675174], [6.160083962098276, 46.19999092951577], [6.160346975602746, 46.19999669904627], [6.160632051947679, 46.19994576819123], [6.160694675271868, 46.19973217394633], [6.162022565868855, 46.19994422926177], [6.162215755633376, 46.19977222837942], [6.162577721108348, 46.19977342630307], [6.163244108190118, 46.19977819104707], [6.163860749227137, 46.19979370770017], [6.16385772954951, 46.19974509091719], [6.164680168303727, 46.19976299139964], [6.166480789547218, 46.199811335902524], [6.166751958768967, 46.19996144591074], [6.167172871282058, 46.19996680240547], [6.167536154107039, 46.20006359007614], [6.167521130487879, 46.20044644980947], [6.167817723358154, 46.20045141066963], [6.16781033574333, 46.2006677900226], [6.167512651511047, 46.200662906827326], [6.167505352819275, 46.20084881507589], [6.167586886756711, 46.2008811145034], [6.167751314845037, 46.20088584591955], [6.167749086104945, 46.20098012508319], [6.168029268664907, 46.20113748590499], [6.167589281623467, 46.20148391692405], [6.169605816830616, 46.20265939366966], [6.168180363000916, 46.20365300540344], [6.168713779835216, 46.20388457819904], [6.1685839632005735, 46.20398314311564], [6.168851111258526, 46.204168982744314], [6.168989320475483, 46.204070583941814], [6.169640079638045, 46.204566358659285], [6.170855324239918, 46.20537986147289], [6.171415111621838, 46.20572325956943], [6.171730143568038, 46.20588244174642]]]}}, {\"id\": \"7\", \"type\": \"Feature\", \"properties\": {\"AreaPerRoom\": 27.183621933621936, \"INAEND\": \"nein\", \"OS_UUID\": \"{5DF8DDBE-8D41-42A3-8F30-F9E716E39C75}\", \"PLZ\": 1209, \"RentPerArea\": 37.278601640570365, \"RentPerRoom\": 999.2236652236652, \"STATUS\": \"real\", \"SurfaceArea\": 129.66666666666666, \"UUID\": \"{3D367D5E-04A6-4FF4-9C6D-DD16E3D70903}\", \"ZUSZIFF\": 0, \"ZipCode\": 1209, \"x\": 6.123191030789287, \"y\": 46.22147417789295}, \"geometry\": {\"type\": \"Polygon\", \"coordinates\": [[[6.12173948482506, 46.215670728575404], [6.119254435742948, 46.216208469102895], [6.119244113819005, 46.216209221120636], [6.119233908806679, 46.2162104963235], [6.119223860012959, 46.21621227717731], [6.119214019265298, 46.21621456428803], [6.1192044515662545, 46.216217349418976], [6.119195196659467, 46.21622059704726], [6.119186306154097, 46.216224316773335], [6.119177832750725, 46.216228473225854], [6.119169815974784, 46.21623303987652], [6.118668399563882, 46.216396812283115], [6.118650699648757, 46.216402507206396], [6.117294807913498, 46.21653319866094], [6.115812854066276, 46.21696595132478], [6.113782723712378, 46.2175172175521], [6.112348414491514, 46.217907299649575], [6.111048195933712, 46.218277618626544], [6.110630547537338, 46.21840030775912], [6.110858022852346, 46.21869779472883], [6.111192858513672, 46.218882742302085], [6.111719828397902, 46.21921029967443], [6.112612819106758, 46.21966287607931], [6.113716928908296, 46.22022238687783], [6.113831732136397, 46.220273352448054], [6.1139409663993, 46.22026295669424], [6.11450592780667, 46.22056241751117], [6.115010192551541, 46.22083165378489], [6.115454614500279, 46.22105681214932], [6.115757745954558, 46.22120301140256], [6.116043790906638, 46.22133660287916], [6.1164219758171505, 46.22151047256587], [6.116687978357922, 46.22164006686716], [6.116952898158539, 46.22177639551458], [6.117286260847432, 46.22196863079732], [6.117300500139903, 46.221990210099634], [6.1174317616174605, 46.222070946383226], [6.117667137668594, 46.221927996959806], [6.117793720856417, 46.222023648881496], [6.117781298915874, 46.22211560463705], [6.11778124493124, 46.222119427682244], [6.1177815280816255, 46.22212324567617], [6.117782148804134, 46.222127040630134], [6.117783094140529, 46.222130812392514], [6.117784377704617, 46.22213453413189], [6.117785974016821, 46.22213818755635], [6.117787883077205, 46.222141772665886], [6.117790077439748, 46.22214535211747], [6.117792585424497, 46.22214882727674], [6.117795407250035, 46.2221521891493], [6.117798517436705, 46.22215541944325], [6.117801915984534, 46.22215851815855], [6.117805577632382, 46.22216145800883], [6.117809489421844, 46.222164238842524], [6.118562221051586, 46.22264043380509], [6.1185177717038535, 46.2226549387033], [6.118517627051461, 46.22265555779654], [6.118564923866038, 46.22268553981569], [6.119815033829383, 46.22347317572538], [6.119870101729723, 46.22350828624197], [6.119879188812576, 46.22351361061224], [6.120071838598369, 46.22367649180466], [6.120240651868609, 46.223793390054986], [6.12076757041847, 46.22415824953827], [6.121754722469281, 46.22484034510883], [6.122090918923164, 46.22514774094702], [6.1219723452063, 46.22525173823839], [6.121671120357454, 46.22550472496051], [6.121291525642989, 46.225844650802266], [6.121264734014548, 46.22587503546301], [6.121239300429162, 46.22590768518922], [6.121220853910327, 46.22594086630764], [6.121210422157826, 46.225975499502155], [6.121214590890292, 46.22601156267817], [6.121225003835081, 46.22604671807638], [6.121244272910329, 46.2260801684675], [6.121316709328364, 46.22615990756319], [6.121435707892678, 46.2262910583713], [6.121888033460128, 46.22670716069518], [6.121980308698755, 46.22675517386302], [6.122060847178507, 46.226736491129735], [6.122133406696537, 46.226696131759184], [6.122731532446687, 46.22636530976296], [6.1230606441469355, 46.22617913218127], [6.123250733786689, 46.22608587277812], [6.123468770417901, 46.226011922119746], [6.123557985723949, 46.2259806538448], [6.123839026799586, 46.22587538067912], [6.12452398752315, 46.22652586948016], [6.124873621017343, 46.22635872907212], [6.125158607317045, 46.22662884814858], [6.125201542579699, 46.226669563807214], [6.125387061358113, 46.2268427350496], [6.125331934788127, 46.22687255705742], [6.125493753357899, 46.22711462031639], [6.125780727020342, 46.22734835951978], [6.126170453978015, 46.227103480593925], [6.126783110583752, 46.22762659145317], [6.126977277258321, 46.227791988239964], [6.127686442204647, 46.22735306455255], [6.12861114820204, 46.227978754674105], [6.128719659136444, 46.22805646040461], [6.130178274951892, 46.227029256304704], [6.128475474578159, 46.22585493571655], [6.128114414252344, 46.22612029019671], [6.127950972302365, 46.22617858141385], [6.1277854708184, 46.22615560675108], [6.127636773117343, 46.22607011884458], [6.12887238889047, 46.225032010520735], [6.129367218157654, 46.22531548491585], [6.130070091651317, 46.22479165149885], [6.131007571909458, 46.22410076142577], [6.131470929609312, 46.224129790576264], [6.132154050212059, 46.22458295478285], [6.1322195669662705, 46.22468852657283], [6.132182850222683, 46.22480317141429], [6.132755371036243, 46.22515014819214], [6.133327460878989, 46.22473787215595], [6.1339259067148735, 46.224312672627285], [6.133838534396479, 46.224239426817064], [6.1335616450447725, 46.22400928872442], [6.133461139669184, 46.223926992859155], [6.133167747922873, 46.22368678437991], [6.133215894950638, 46.22365580728727], [6.132913273002822, 46.22337094791524], [6.132956701862748, 46.223340501146], [6.133246375736602, 46.2231372390861], [6.133578369387882, 46.22290425422817], [6.133751734059128, 46.22278290285957], [6.133836227542506, 46.222723762728336], [6.133508413799031, 46.22244789844831], [6.133462203878806, 46.22240902846176], [6.133149128704138, 46.22214516440842], [6.132963411819662, 46.221989070796866], [6.133092647151534, 46.22187064672422], [6.133002615863049, 46.22180416208505], [6.132809130520946, 46.221661266691754], [6.132527939465565, 46.22145337032872], [6.1324658918917345, 46.221493273057824], [6.132200560624883, 46.22129648159385], [6.132349926169725, 46.221200693573984], [6.132123144906312, 46.221032490275626], [6.132110396659427, 46.22102306693281], [6.132016638165603, 46.2210627102636], [6.131758859566143, 46.221235110319746], [6.131698549236247, 46.22128037688207], [6.131326854565611, 46.221573769065294], [6.131296954400393, 46.22159737235602], [6.130962020969322, 46.221810766274835], [6.130902282121709, 46.22183329498424], [6.130758108212429, 46.221648403233566], [6.130656047614338, 46.221580463742754], [6.1306335669532785, 46.22148367587196], [6.130621367379404, 46.22146061047861], [6.13060827538292, 46.22145309031492], [6.130592320419995, 46.221447120415526], [6.130523120904033, 46.2214254186602], [6.130573125463144, 46.22135061352796], [6.1305821346271205, 46.22133657487885], [6.130675850011305, 46.22119533066239], [6.130256005910155, 46.22085273095232], [6.130435853812477, 46.22074748324535], [6.12957541410085, 46.22013021784972], [6.12998257742178, 46.21977839426781], [6.1295316188643625, 46.219521251982215], [6.129043677497891, 46.21981500653299], [6.128824170579614, 46.22000085348994], [6.128247584208584, 46.2196591168818], [6.1275085543148755, 46.21916875123309], [6.12673180695725, 46.21853390229109], [6.12609916200272, 46.21801354463774], [6.125726615046068, 46.21828928366187], [6.125149156890031, 46.21782957170055], [6.124564601479784, 46.21750841583684], [6.123392909000264, 46.21743988534888], [6.122338010727786, 46.216738965061666], [6.1206238746323045, 46.217768983959026], [6.119725745640853, 46.216991416951736], [6.1217829620786475, 46.215738910438375], [6.12173948482506, 46.215670728575404]]]}}, {\"id\": \"8\", \"type\": \"Feature\", \"properties\": {\"AreaPerRoom\": 25.27799284049284, \"INAEND\": \"nein\", \"OS_UUID\": \"{5DF8DDBE-8D41-42A3-8F30-F9E716E39C75}\", \"PLZ\": 1204, \"RentPerArea\": 44.574250296415975, \"RentPerRoom\": 1117.3373174444603, \"STATUS\": \"real\", \"SurfaceArea\": 88.07142857142857, \"UUID\": \"{FCB46C5D-6DDB-47B4-BC27-AA674D0CB3A9}\", \"ZUSZIFF\": 0, \"ZipCode\": 1204, \"x\": 6.145689822511712, \"y\": 46.202708295777356}, \"geometry\": {\"type\": \"Polygon\", \"coordinates\": [[[6.149882480692948, 46.20684167156055], [6.1543369071268765, 46.204406087109675], [6.154829979074138, 46.20388761677938], [6.154615662796335, 46.203385315182935], [6.1543345899531, 46.20326787443851], [6.15424917991516, 46.20304980913591], [6.154332953440174, 46.20291518990989], [6.155219390117905, 46.20273235883263], [6.155153212751576, 46.20257166075528], [6.154630179585022, 46.20242293890976], [6.154337949130759, 46.20173396585996], [6.154642380983079, 46.201391764740144], [6.154517639119049, 46.201096158343866], [6.153988481622829, 46.201210160414725], [6.1536216852278915, 46.20106311373869], [6.153370892276107, 46.20049444748854], [6.153174040261686, 46.200338188250726], [6.153193094512815, 46.200052756663304], [6.152084867129296, 46.19926031601468], [6.151649959424929, 46.199538404022995], [6.15133698694153, 46.19974510664873], [6.151241500101975, 46.19966887563483], [6.15103861252523, 46.19979424292019], [6.150379658200804, 46.1993213327707], [6.150564192161862, 46.19920884748179], [6.149936827138188, 46.19874782023386], [6.150049721516062, 46.19867484112347], [6.150362090659372, 46.19868120674986], [6.1508302000256325, 46.19836940482011], [6.1505755633972585, 46.19819242733076], [6.149849261690869, 46.19868301448071], [6.149848605311746, 46.198683375851445], [6.149649677568854, 46.19853886340892], [6.14866525758099, 46.19845306339169], [6.148388820112856, 46.198487013904746], [6.1482184605137595, 46.19855625714534], [6.147816702901426, 46.19881211871988], [6.147740103365184, 46.198922460898956], [6.14717439395128, 46.198513459361465], [6.14554232278907, 46.19952570953804], [6.1444562571868655, 46.20020349200164], [6.1450167262583655, 46.20073684623907], [6.144311682491659, 46.20107812429446], [6.144191919761681, 46.20108527920155], [6.144068839605751, 46.20105815398989], [6.143967646170153, 46.20098248102303], [6.143631497040784, 46.20072376975089], [6.143358179641415, 46.20090029868508], [6.1431075884813895, 46.20071173572888], [6.143054551476031, 46.20052262509858], [6.143017083868169, 46.1994769792256], [6.142632499185402, 46.19940663297626], [6.142662421074678, 46.19934985584908], [6.142652934296133, 46.198721318355155], [6.142706141913501, 46.19871823189823], [6.142687061509746, 46.198496168903894], [6.142601009781365, 46.198312193822936], [6.142581600140447, 46.19828994659448], [6.142443862543394, 46.19813061367174], [6.142440953332669, 46.19813036432081], [6.142149142115803, 46.19811832007699], [6.142036095178119, 46.198022815006425], [6.1416000221638, 46.19802632208232], [6.141626901854484, 46.19854054809273], [6.141615980633787, 46.198705694312174], [6.1415706525282925, 46.198846162493744], [6.141447342035385, 46.19902944059992], [6.141099402067911, 46.199526202894184], [6.140735744430322, 46.200100399055906], [6.1410266628454, 46.20016496907072], [6.141027216827623, 46.200165101398326], [6.14045342826462, 46.20096967268282], [6.140244453690344, 46.20102743863524], [6.140217205588165, 46.20103990953826], [6.140201759579123, 46.20104647939291], [6.140200047657661, 46.201047089468325], [6.140198236403322, 46.201047518463795], [6.140196416704388, 46.201047758428516], [6.140194460744818, 46.20104773591674], [6.140192653498876, 46.201047454208286], [6.140190863715211, 46.201046983767284], [6.14018932433981, 46.2010463362716], [6.140188033440353, 46.201045592670525], [6.14018677231243, 46.201044687469064], [6.140185889194168, 46.201043687653076], [6.140185127165167, 46.2010425002972], [6.140184779429446, 46.20104132670643], [6.14000038996689, 46.20106843505558], [6.13965738453329, 46.201004261361014], [6.139224235620209, 46.2011327592706], [6.1393141608064346, 46.20127362381831], [6.139368664415036, 46.20125490832992], [6.139439674680661, 46.20143963943301], [6.139264684854484, 46.20159281056077], [6.138820640445584, 46.20157624244845], [6.138604684758314, 46.20149385321198], [6.138504069962904, 46.201572594669685], [6.138162607983589, 46.20157440805566], [6.138157200142278, 46.20162283867974], [6.137639262616235, 46.20160839206448], [6.136780601145053, 46.20155842390128], [6.136801562182385, 46.20137017295368], [6.135025114959015, 46.20134100499925], [6.135013252281325, 46.20140833526411], [6.134906046680717, 46.20232945301328], [6.13529907089111, 46.20237142995401], [6.135261992134166, 46.20261022770351], [6.13525751093515, 46.20262960911857], [6.1351882410407645, 46.2030713636546], [6.135171888124315, 46.20315411664103], [6.134082490940982, 46.20308116531098], [6.133941757171043, 46.20367711754078], [6.133966214682448, 46.203687647778615], [6.134022966750856, 46.2037125865346], [6.134079253184848, 46.20373803269766], [6.134135048077377, 46.20376398596898], [6.1341904235333695, 46.20379014129015], [6.134245294926447, 46.20381678558252], [6.134299675211302, 46.2038439189965], [6.134353551218929, 46.20387155037749], [6.13440689768903, 46.2038996524436], [6.134459714406502, 46.20392823418997], [6.134512001587516, 46.20395728662301], [6.1354622690291984, 46.20449460925539], [6.13607151607959, 46.20483715505025], [6.136692526478892, 46.205109747808606], [6.136698463116525, 46.20511129179655], [6.136704454586073, 46.20511271046109], [6.13671051405701, 46.20511399495736], [6.1367166281444385, 46.205115163124525], [6.136722784324555, 46.20511619682449], [6.136728982382071, 46.20511710505154], [6.136735222316945, 46.205117887805635], [6.136745189870711, 46.20511884852519], [6.136755204468917, 46.205119467906684], [6.136765265680751, 46.2051197639388], [6.136775321904025, 46.20511972702923], [6.136785373138552, 46.205119357178035], [6.136795380521071, 46.205118653936744], [6.136805331097182, 46.20511761715593], [6.137906537122609, 46.204987412221655], [6.138925188356532, 46.20485319570047], [6.1398323120561695, 46.20499060527977], [6.140910482658437, 46.204992863285675], [6.141854532984931, 46.205114945803324], [6.142709142531864, 46.20532714898293], [6.143766599182222, 46.205592307984354], [6.14480922438223, 46.20586746230218], [6.1463596918770085, 46.20623957149851], [6.1477093059186885, 46.2064777377474], [6.149191318806715, 46.20665662740449], [6.149882480692948, 46.20684167156055]]]}}]}, \"$schema\": \"https://vega.github.io/schema/vega-lite/v4.17.0.json\"}, {\"mode\": \"vega-lite\"});\n",
       "</script>"
      ],
      "text/plain": [
       "alt.LayerChart(...)"
      ]
     },
     "execution_count": 278,
     "metadata": {},
     "output_type": "execute_result"
    }
   ],
   "source": [
    "## I add plot settings and configurations\n",
    "## First I want to see how rent prices per area (per square meter) are distrubuted by Zipcode in my heatmap\n",
    "## Zipcode 1204 is the most expensize with CHF44 per m2\n",
    "alt_RentPerArea = alt.Chart(alt_gen).mark_geoshape(\n",
    "    stroke = 'white'\n",
    ").encode(\n",
    "    latitude = 'properties.y:Q',\n",
    "    longitude = 'properties.x:Q',\n",
    "    color = 'properties.RentPerArea:Q'\n",
    ").properties(\n",
    "    width = 700,\n",
    "    height = 600\n",
    ")\n",
    "text  = alt.Chart(alt_gen).mark_text(\n",
    "        color = 'black',\n",
    "        fontWeight = 'bold'\n",
    ").encode(\n",
    "    longitude = 'properties.x:Q',\n",
    "    latitude = 'properties.y:Q',\n",
    "    text = 'properties.ZipCode:Q',\n",
    ")\n",
    "chart = alt_RentPerArea + text\n",
    "chart"
   ]
  },
  {
   "cell_type": "code",
   "execution_count": 279,
   "id": "99f0140e",
   "metadata": {},
   "outputs": [
    {
     "data": {
      "text/html": [
       "\n",
       "<div id=\"altair-viz-8caf7cbee0f14b4a84c0f60f46507e59\"></div>\n",
       "<script type=\"text/javascript\">\n",
       "  var VEGA_DEBUG = (typeof VEGA_DEBUG == \"undefined\") ? {} : VEGA_DEBUG;\n",
       "  (function(spec, embedOpt){\n",
       "    let outputDiv = document.currentScript.previousElementSibling;\n",
       "    if (outputDiv.id !== \"altair-viz-8caf7cbee0f14b4a84c0f60f46507e59\") {\n",
       "      outputDiv = document.getElementById(\"altair-viz-8caf7cbee0f14b4a84c0f60f46507e59\");\n",
       "    }\n",
       "    const paths = {\n",
       "      \"vega\": \"https://cdn.jsdelivr.net/npm//vega@5?noext\",\n",
       "      \"vega-lib\": \"https://cdn.jsdelivr.net/npm//vega-lib?noext\",\n",
       "      \"vega-lite\": \"https://cdn.jsdelivr.net/npm//vega-lite@4.17.0?noext\",\n",
       "      \"vega-embed\": \"https://cdn.jsdelivr.net/npm//vega-embed@6?noext\",\n",
       "    };\n",
       "\n",
       "    function maybeLoadScript(lib, version) {\n",
       "      var key = `${lib.replace(\"-\", \"\")}_version`;\n",
       "      return (VEGA_DEBUG[key] == version) ?\n",
       "        Promise.resolve(paths[lib]) :\n",
       "        new Promise(function(resolve, reject) {\n",
       "          var s = document.createElement('script');\n",
       "          document.getElementsByTagName(\"head\")[0].appendChild(s);\n",
       "          s.async = true;\n",
       "          s.onload = () => {\n",
       "            VEGA_DEBUG[key] = version;\n",
       "            return resolve(paths[lib]);\n",
       "          };\n",
       "          s.onerror = () => reject(`Error loading script: ${paths[lib]}`);\n",
       "          s.src = paths[lib];\n",
       "        });\n",
       "    }\n",
       "\n",
       "    function showError(err) {\n",
       "      outputDiv.innerHTML = `<div class=\"error\" style=\"color:red;\">${err}</div>`;\n",
       "      throw err;\n",
       "    }\n",
       "\n",
       "    function displayChart(vegaEmbed) {\n",
       "      vegaEmbed(outputDiv, spec, embedOpt)\n",
       "        .catch(err => showError(`Javascript Error: ${err.message}<br>This usually means there's a typo in your chart specification. See the javascript console for the full traceback.`));\n",
       "    }\n",
       "\n",
       "    if(typeof define === \"function\" && define.amd) {\n",
       "      requirejs.config({paths});\n",
       "      require([\"vega-embed\"], displayChart, err => showError(`Error loading script: ${err.message}`));\n",
       "    } else {\n",
       "      maybeLoadScript(\"vega\", \"5\")\n",
       "        .then(() => maybeLoadScript(\"vega-lite\", \"4.17.0\"))\n",
       "        .then(() => maybeLoadScript(\"vega-embed\", \"6\"))\n",
       "        .catch(showError)\n",
       "        .then(() => displayChart(vegaEmbed));\n",
       "    }\n",
       "  })({\"config\": {\"view\": {\"continuousWidth\": 400, \"continuousHeight\": 300}}, \"layer\": [{\"mark\": {\"type\": \"geoshape\", \"stroke\": \"white\"}, \"encoding\": {\"color\": {\"field\": \"properties.RentPerRoom\", \"type\": \"quantitative\"}, \"latitude\": {\"field\": \"properties.y\", \"type\": \"quantitative\"}, \"longitude\": {\"field\": \"properties.x\", \"type\": \"quantitative\"}}, \"height\": 600, \"width\": 700}, {\"mark\": {\"type\": \"text\", \"color\": \"black\", \"fontWeight\": \"bold\"}, \"encoding\": {\"latitude\": {\"field\": \"properties.y\", \"type\": \"quantitative\"}, \"longitude\": {\"field\": \"properties.x\", \"type\": \"quantitative\"}, \"text\": {\"field\": \"properties.ZipCode\", \"type\": \"quantitative\"}}}], \"data\": {\"values\": [{\"id\": \"0\", \"type\": \"Feature\", \"properties\": {\"AreaPerRoom\": 22.243253968253967, \"INAEND\": \"nein\", \"OS_UUID\": \"{5DF8DDBE-8D41-42A3-8F30-F9E716E39C75}\", \"PLZ\": 1202, \"RentPerArea\": 37.05922994957778, \"RentPerRoom\": 818.934074074074, \"STATUS\": \"real\", \"SurfaceArea\": 85.26666666666667, \"UUID\": \"{5BCFFFAB-44EC-4FA9-933B-0EFE6BB05565}\", \"ZUSZIFF\": 0, \"ZipCode\": 1202, \"x\": 6.14317016276625, \"y\": 46.22095458497331}, \"geometry\": {\"type\": \"Polygon\", \"coordinates\": [[[6.166700525903562, 46.22446680582352], [6.165925430814878, 46.22245529155333], [6.162738353838119, 46.216614094209106], [6.161900290885797, 46.21522384980327], [6.155766068490644, 46.217358831696124], [6.15124492169364, 46.216281977319305], [6.151086739464021, 46.21533224066228], [6.150718469107313, 46.21528477244813], [6.150718016496567, 46.21528746632861], [6.1506029588714535, 46.21527471814571], [6.150552582805488, 46.21521286578781], [6.150484819694935, 46.21516883556373], [6.150809602481924, 46.21448592322202], [6.150900364503847, 46.21422695090703], [6.150810934622865, 46.21403564757951], [6.149756503396057, 46.21417259628044], [6.1493800903193865, 46.214311525735475], [6.149150595665274, 46.214004271054485], [6.149400178072363, 46.213890613968054], [6.148977936017631, 46.213333474048426], [6.1491994320236625, 46.21324549725659], [6.14911053487924, 46.21309216518357], [6.1488722042694866, 46.21316321528688], [6.148457511378124, 46.21329891505071], [6.148611116002387, 46.2134779086233], [6.148303008789096, 46.21359476338817], [6.148046291080968, 46.21372507054712], [6.147909780825624, 46.21355211965993], [6.147535757177286, 46.21370501538074], [6.146977939349711, 46.21394604440935], [6.146448299047578, 46.21415185593938], [6.146289261007742, 46.21420716451941], [6.146402290511126, 46.21435366775216], [6.146021295204576, 46.214515925410836], [6.145856375540104, 46.21438790060633], [6.14522940525461, 46.21479493016718], [6.145364742012934, 46.21488948153086], [6.145212925268374, 46.21498977457898], [6.145212784247912, 46.21504474360074], [6.144522918221018, 46.21553671631822], [6.140423650527468, 46.2154674096279], [6.140430973491494, 46.21499237073236], [6.14018097268135, 46.21469916632871], [6.140053760653093, 46.21455024426399], [6.140001170860718, 46.214473075947645], [6.1404953480186535, 46.21430989126532], [6.1403441610381035, 46.21346064960516], [6.139858221624356, 46.21273656995751], [6.139154065088508, 46.21182230115527], [6.138298407050297, 46.21211797672612], [6.137900469112568, 46.212056260319166], [6.137611390691518, 46.212102950107685], [6.137077465948877, 46.21271442622174], [6.136787558850348, 46.212579008223905], [6.136628569910238, 46.212345145175135], [6.136172559272179, 46.21165955897472], [6.136502750076257, 46.21151789977493], [6.136418928806876, 46.21141776022332], [6.136792943171154, 46.2112496963773], [6.136555711203606, 46.211003864331104], [6.136433170209131, 46.21087712414066], [6.136013664566503, 46.21087228203182], [6.135918089150844, 46.210766815214654], [6.13622512000883, 46.21063585665597], [6.136631436433396, 46.21046618694217], [6.136553108275449, 46.210387280441594], [6.136454906757292, 46.210277825166884], [6.135873602914887, 46.21050323379267], [6.135521571958792, 46.21038131013049], [6.135201640868713, 46.210336769184885], [6.1351433753546285, 46.210280585555715], [6.135855122795551, 46.209981743105786], [6.135850903665111, 46.209773777258945], [6.135933283290671, 46.20896933067376], [6.13513425831546, 46.20891997684568], [6.135137728516569, 46.20837021956549], [6.134899613772944, 46.20843179594179], [6.134884189651403, 46.208718437242986], [6.133399342743762, 46.2090868755025], [6.133290798266145, 46.20889038815007], [6.133175440742268, 46.20892378138879], [6.133030450124655, 46.20902556757709], [6.132684982968899, 46.20905728712121], [6.132354744606566, 46.20908404471576], [6.132296128003318, 46.20900920502911], [6.132081390802238, 46.209061365573874], [6.132010663425156, 46.20907638102781], [6.13140280815081, 46.209387199254714], [6.131372906522594, 46.20969310578784], [6.130356125188633, 46.21056112386923], [6.1296959109729405, 46.21056408341168], [6.129689670193956, 46.210817992352666], [6.129368755714224, 46.21081975727768], [6.1293752464565685, 46.21104538386917], [6.1296881943296775, 46.211046225553424], [6.129688323822016, 46.211503897297234], [6.12926991321042, 46.21149643380155], [6.129270588872294, 46.21240494462252], [6.129007513851845, 46.21252307940255], [6.129182332847565, 46.21270099684457], [6.1292670997621626, 46.212711337216], [6.129763546568301, 46.21324611208151], [6.129715824584564, 46.21366733135108], [6.129536821100284, 46.213743797461355], [6.128840698336542, 46.21366482430604], [6.128101674764305, 46.21396789524544], [6.127624639855809, 46.214192673840145], [6.1263714555244375, 46.21421715396709], [6.126111951338808, 46.21434243123986], [6.125745936691429, 46.21403192004913], [6.123963949358538, 46.21486731572546], [6.124292379392764, 46.215172266791875], [6.12173948482506, 46.215670728575404], [6.1217829620786475, 46.215738910438375], [6.119725745640853, 46.216991416951736], [6.1206238746323045, 46.217768983959026], [6.122338010727786, 46.216738965061666], [6.123392909000264, 46.21743988534888], [6.124564601479784, 46.21750841583684], [6.125149156890031, 46.21782957170055], [6.125726615046068, 46.21828928366187], [6.12609916200272, 46.21801354463774], [6.12673180695725, 46.21853390229109], [6.1275085543148755, 46.21916875123309], [6.128247584208584, 46.2196591168818], [6.128824170579614, 46.22000085348994], [6.129043677497891, 46.21981500653299], [6.1295316188643625, 46.219521251982215], [6.12998257742178, 46.21977839426781], [6.12957541410085, 46.22013021784972], [6.130435853812477, 46.22074748324535], [6.130256005910155, 46.22085273095232], [6.130675850011305, 46.22119533066239], [6.1305821346271205, 46.22133657487885], [6.130573125463144, 46.22135061352796], [6.130523120904033, 46.2214254186602], [6.130592320419995, 46.221447120415526], [6.13060827538292, 46.22145309031492], [6.130621367379404, 46.22146061047861], [6.1306335669532785, 46.22148367587196], [6.130656047614338, 46.221580463742754], [6.130758108212429, 46.221648403233566], [6.130902282121709, 46.22183329498424], [6.130962020969322, 46.221810766274835], [6.131296954400393, 46.22159737235602], [6.131326854565611, 46.221573769065294], [6.131698549236247, 46.22128037688207], [6.131758859566143, 46.221235110319746], [6.132016638165603, 46.2210627102636], [6.132110396659427, 46.22102306693281], [6.132123144906312, 46.221032490275626], [6.132349926169725, 46.221200693573984], [6.132200560624883, 46.22129648159385], [6.1324658918917345, 46.221493273057824], [6.132527939465565, 46.22145337032872], [6.132809130520946, 46.221661266691754], [6.133002615863049, 46.22180416208505], [6.133092647151534, 46.22187064672422], [6.132963411819662, 46.221989070796866], [6.133149128704138, 46.22214516440842], [6.133462203878806, 46.22240902846176], [6.133508413799031, 46.22244789844831], [6.133836227542506, 46.222723762728336], [6.133751734059128, 46.22278290285957], [6.133578369387882, 46.22290425422817], [6.133246375736602, 46.2231372390861], [6.132956701862748, 46.223340501146], [6.132913273002822, 46.22337094791524], [6.133215894950638, 46.22365580728727], [6.133167747922873, 46.22368678437991], [6.133461139669184, 46.223926992859155], [6.1335616450447725, 46.22400928872442], [6.133838534396479, 46.224239426817064], [6.1339259067148735, 46.224312672627285], [6.133327460878989, 46.22473787215595], [6.132755371036243, 46.22515014819214], [6.132182850222683, 46.22480317141429], [6.1322195669662705, 46.22468852657283], [6.132154050212059, 46.22458295478285], [6.131470929609312, 46.224129790576264], [6.131007571909458, 46.22410076142577], [6.130070091651317, 46.22479165149885], [6.129367218157654, 46.22531548491585], [6.12887238889047, 46.225032010520735], [6.127636773117343, 46.22607011884458], [6.1277854708184, 46.22615560675108], [6.127950972302365, 46.22617858141385], [6.128114414252344, 46.22612029019671], [6.128475474578159, 46.22585493571655], [6.130178274951892, 46.227029256304704], [6.128719659136444, 46.22805646040461], [6.128291220283133, 46.22833716506196], [6.128280479433157, 46.228343913979785], [6.12827043923188, 46.228351174855234], [6.128261152819346, 46.22835889432412], [6.128252659508883, 46.22836705484928], [6.128245025617233, 46.22837559422275], [6.128238251578372, 46.22838449445604], [6.128232403709269, 46.22839369334099], [6.128227482660718, 46.22840316389478], [6.1282235420068565, 46.228412834764576], [6.128220569221961, 46.228422687811204], [6.128218604920385, 46.228432651531364], [6.1282180186219595, 46.22843600055692], [6.12821753578549, 46.228439359780495], [6.1282171825476635, 46.2284427205086], [6.128216932771881, 46.22844609143477], [6.128216786675004, 46.228449463564594], [6.128216770176742, 46.22845283719901], [6.128216857357424, 46.228456212037095], [6.128217067125829, 46.228458265758576], [6.128217315990626, 46.228460310937116], [6.128217616911765, 46.2284623477231], [6.128217943535827, 46.22846439380435], [6.128218322216192, 46.22846643149308], [6.128218752952863, 46.2284684607893], [6.128219209609312, 46.22847049038643], [6.1282216351600916, 46.228479038581], [6.128224789716488, 46.228487460285834], [6.128228686672253, 46.228495737662655], [6.128233287798454, 46.228503843277004], [6.128238594179263, 46.22851173215681], [6.1282445671521355, 46.2285193948565], [6.128251207801167, 46.22852678640412], [6.128258464937347, 46.22853387921468], [6.128266338777628, 46.22854066429368], [6.128292572062664, 46.228559691319724], [6.1285873414942165, 46.22877306379413], [6.128717685463735, 46.228867415201066], [6.128966762790068, 46.229053283773986], [6.129168101846224, 46.22920341123055], [6.129657894999267, 46.22952485527151], [6.129864310098542, 46.22965275507358], [6.129888509372913, 46.22971916262243], [6.130103767762813, 46.22987288654579], [6.130155647299626, 46.23008140552232], [6.130175718532769, 46.23008773806199], [6.130195132204569, 46.23009499864991], [6.130213798459794, 46.23010315025727], [6.130231614266228, 46.230112164699676], [6.130248515905341, 46.230121996254574], [6.130264413737761, 46.230132598899054], [6.130279244044522, 46.230143926910586], [6.130287264534524, 46.2301392515363], [6.130593148085951, 46.230352054661594], [6.1310036667047445, 46.230644611745184], [6.1312112849722515, 46.23030231983167], [6.131733271563243, 46.23025672261161], [6.132606333627516, 46.23031846955386], [6.132768301196214, 46.23053666397635], [6.133545659043099, 46.23100868678071], [6.1331188344125005, 46.231583418844075], [6.133079464599397, 46.231613543837064], [6.133028275072551, 46.231607346732474], [6.132807675810097, 46.23151289206705], [6.132785187130141, 46.23153106647951], [6.132709804178272, 46.23159242568335], [6.132651459704616, 46.2316622680783], [6.132410581588395, 46.23185445196232], [6.132062248074712, 46.23211482043077], [6.1320757847436065, 46.23212553043337], [6.132335890353883, 46.23231860846896], [6.13199723309366, 46.2326029124502], [6.1322378061264144, 46.23277374927408], [6.131869091882621, 46.23305542885684], [6.132281296905785, 46.233306992831224], [6.132567874851152, 46.233082733258584], [6.132954735723063, 46.2327800107455], [6.1330125545433525, 46.23282439525183], [6.1330488855248575, 46.232852282873466], [6.133673136956419, 46.23333147642011], [6.133897047081312, 46.23350334056284], [6.13394060962188, 46.233536781562094], [6.134404837304984, 46.23390851614639], [6.13443857143406, 46.23391122708123], [6.1348472324626115, 46.23394426983077], [6.134913010342367, 46.23395260487865], [6.134971431748845, 46.233968736179364], [6.135986342868699, 46.23424783894683], [6.136307058791734, 46.234192996857594], [6.137361152279174, 46.23340439673771], [6.136226987928987, 46.232812018413455], [6.136178285397783, 46.23278691306672], [6.136144412569067, 46.232769455197825], [6.136129570166179, 46.232761798555046], [6.136508870944273, 46.23241221125093], [6.136902696103201, 46.232048161345354], [6.1369641593596445, 46.23199133523635], [6.137026970605943, 46.2319843312196], [6.137958190701751, 46.23141130436579], [6.138163361109417, 46.23129968718321], [6.1381657070973255, 46.23129645735098], [6.135952666454029, 46.23065735403225], [6.135922702314232, 46.23062669781996], [6.136339444066163, 46.23035658973126], [6.136530326195773, 46.23016492761403], [6.1366038241515675, 46.230068879317955], [6.136659412892164, 46.22993626812098], [6.136730648567559, 46.22968185803575], [6.1368374885098005, 46.229468317393405], [6.1368540874348785, 46.22947188264743], [6.1369523579807925, 46.22922908427932], [6.137182885903188, 46.22891681669002], [6.137304286213043, 46.2286884187906], [6.137440287944309, 46.22849336948692], [6.137511140184805, 46.22842374989215], [6.137839942405474, 46.2282320740275], [6.137917760356688, 46.22819149532505], [6.137943282930694, 46.22818129910944], [6.138239357278175, 46.22812317207785], [6.13824878993166, 46.22812174228859], [6.138258307064494, 46.2281205743805], [6.138267870227604, 46.2281196499168], [6.138277479206077, 46.22811897789191], [6.138287120825032, 46.2281185671509], [6.138296782339895, 46.228118408550024], [6.138306437616136, 46.22811851078513], [6.1383160745545045, 46.228118837729355], [6.13832569294004, 46.22811939837715], [6.138335280243267, 46.2281201745904], [6.138344823074271, 46.22812118420864], [6.138354308903515, 46.228122409093764], [6.138363724556298, 46.22812385809095], [6.13837307003263, 46.22812553120013], [6.13923662833058, 46.228033766459944], [6.139469738922167, 46.22866182066649], [6.138836845488196, 46.22883920369076], [6.138839992219938, 46.22885181752131], [6.138842943693138, 46.22886446509067], [6.138845687377667, 46.22887712826091], [6.138848210098367, 46.22888981587715], [6.138850525030158, 46.228902519094255], [6.13885263217289, 46.2289152379123], [6.138854518351353, 46.22892798117632], [6.138855617965657, 46.22893566815069], [6.138856587765147, 46.228943362627035], [6.138857440924747, 46.22895105576024], [6.13885816405439, 46.228958765389834], [6.1388587703290565, 46.22896648267063], [6.138859247003682, 46.22897419845907], [6.138859607038311, 46.22898191290439], [6.138860371844195, 46.22898950605481], [6.138861006835041, 46.228997106707276], [6.138861537930802, 46.22900471516015], [6.138861952386464, 46.22901232226996], [6.1388622502019805, 46.2290199280366], [6.138862418202206, 46.22902754130526], [6.138862482522196, 46.22903515338001], [6.138862635842198, 46.22904283845442], [6.138862724147039, 46.229050531777006], [6.138862760826774, 46.22905821550825], [6.138862745451315, 46.22906590763697], [6.138862665275602, 46.229073599019486], [6.138862533474765, 46.22908128081073], [6.138862349618663, 46.22908897099934], [6.138858292161593, 46.229297723146125], [6.138858272757521, 46.22930612597958], [6.138858149672676, 46.22931452761916], [6.138857909946881, 46.22932292791558], [6.138857553580033, 46.22933132686889], [6.13885709353226, 46.22933972462828], [6.138856516843377, 46.229348121044545], [6.138855836688462, 46.22935650727251], [6.138851440847144, 46.229415116108974], [6.138851110398954, 46.22942351536078], [6.13885054645333, 46.22943192092064], [6.1388497626154415, 46.22944030595473], [6.138848758455057, 46.22944868845178], [6.138847521441998, 46.22945705027371], [6.138846064536366, 46.22946539156989], [6.138844374562811, 46.22947372118533], [6.138820508996949, 46.22961033342429], [6.1388183145432995, 46.22961970086473], [6.138816042542924, 46.22962905841531], [6.138813718701103, 46.229638415368825], [6.138811330272549, 46.22964776258174], [6.138808877257378, 46.22965710005403], [6.13880635965546, 46.229666427785695], [6.138803777466813, 46.229675745776696], [6.138801143866618, 46.22968504518192], [6.138798445464586, 46.22969434384087], [6.138795708181071, 46.22970364205201], [6.13879293244611, 46.22971292182664], [6.13879009190923, 46.22972220085496], [6.138787212705806, 46.22973147044106], [6.1387842818756875, 46.229740730435786], [6.138781286888726, 46.22974996270107], [6.138778240274921, 46.22975918537494], [6.138775167954768, 46.22976839875586], [6.138772056752913, 46.22977761168894], [6.13876890688444, 46.22978681517984], [6.138765718349332, 46.229796009228565], [6.138762490932468, 46.22980520282944], [6.138766416176324, 46.22981778963991], [6.13860135839524, 46.2301523979076], [6.138532566579507, 46.230291947456536], [6.138638300239124, 46.230274595730194], [6.138709622425034, 46.23026288450564], [6.139346665457331, 46.23015830726284], [6.140227203236955, 46.22996264551253], [6.140975053121007, 46.229772298231275], [6.141941273065969, 46.22953079768996], [6.142864268176139, 46.22929997586196], [6.1429605078290175, 46.229574773524135], [6.143427955269847, 46.230636322361356], [6.1434637128292024, 46.230514852453275], [6.143634023348159, 46.230165866743256], [6.1436604502928445, 46.23012966974803], [6.1436982364098665, 46.23009879423811], [6.143844604980346, 46.230022848569156], [6.143926725420973, 46.22997734884476], [6.144074634510329, 46.22989384521713], [6.144278949181699, 46.22975913044245], [6.144536755865872, 46.229608969242584], [6.145050266126373, 46.22928734350838], [6.1456310190838135, 46.22892455156519], [6.145673919812226, 46.228891664735656], [6.145882675417112, 46.22872741643196], [6.145841680126497, 46.228258778588064], [6.145755719382108, 46.22782324685989], [6.145575562780491, 46.227293158863894], [6.146152263324865, 46.22694546880192], [6.146292978937442, 46.22710083594765], [6.146696749086424, 46.226731190055595], [6.146994665966982, 46.2263535838588], [6.147663190965371, 46.2261941611512], [6.148205921262683, 46.22605326934573], [6.148940759097113, 46.22779216342412], [6.149472143236855, 46.22766396521238], [6.166700525903562, 46.22446680582352]]]}}, {\"id\": \"1\", \"type\": \"Feature\", \"properties\": {\"AreaPerRoom\": 19.320108378619015, \"INAEND\": \"nein\", \"OS_UUID\": \"{5DF8DDBE-8D41-42A3-8F30-F9E716E39C75}\", \"PLZ\": 1203, \"RentPerArea\": 37.527644727390005, \"RentPerRoom\": 716.1314896687237, \"STATUS\": \"real\", \"SurfaceArea\": 64.23404255319149, \"UUID\": \"{54A45D65-97A3-45A1-8DB2-FA3E6E540269}\", \"ZUSZIFF\": 0, \"ZipCode\": 1203, \"x\": 6.122096309702056, \"y\": 46.207852041497006}, \"geometry\": {\"type\": \"Polygon\", \"coordinates\": [[[6.135137728516569, 46.20837021956549], [6.134704800361071, 46.207979612378814], [6.1349654754314065, 46.207884468955875], [6.134659400690358, 46.20751125159497], [6.134348375635405, 46.20761480912324], [6.134253350970387, 46.20750295941275], [6.1346936555686185, 46.20736886749297], [6.134435597641631, 46.20697668122834], [6.134223281173215, 46.20703855431371], [6.134098622790052, 46.206876429350395], [6.13332903250813, 46.2058319731882], [6.133403996099945, 46.20583786966618], [6.13404820680593, 46.20588868516918], [6.134324162118555, 46.20591247841661], [6.134623469431904, 46.2059491904513], [6.134525956430717, 46.20568883721411], [6.134239046938657, 46.20563232222473], [6.134277237665766, 46.20547818889789], [6.1342795370308645, 46.20547632614227], [6.134297471642593, 46.20545252089168], [6.134307674795971, 46.20542690786083], [6.134311953429616, 46.205399786843174], [6.134307015031024, 46.205373368987956], [6.134295577876569, 46.205347775687564], [6.134278533897941, 46.20532363803372], [6.133919214004591, 46.204902110620324], [6.133866005554052, 46.204840676602956], [6.133809794011879, 46.20478019748169], [6.133749776236916, 46.20472174358484], [6.1336833311796, 46.20466654414958], [6.133611749951957, 46.2046147940355], [6.133535293797147, 46.204566406286204], [6.133454478722912, 46.20452147682971], [6.133369816416151, 46.204480281481835], [6.13328277715961, 46.20444148771755], [6.133180229740457, 46.20440044516921], [6.13305488965909, 46.20435347075895], [6.131189630915852, 46.204018375438], [6.131619661827826, 46.20311065433519], [6.129165932634609, 46.203186646068445], [6.1290175517354015, 46.20318953916427], [6.128869109547896, 46.20318905753224], [6.128720774499737, 46.20318520312727], [6.128572689110764, 46.20317797760437], [6.128425034329006, 46.20316740105942], [6.1282779528903895, 46.20315346615457], [6.128131612788187, 46.20313619283692], [6.127972944830777, 46.20311645492487], [6.126800639353945, 46.202963549562604], [6.1265999907607025, 46.20293519740262], [6.126400730910056, 46.20290246157074], [6.126203066674015, 46.20286536247397], [6.126007191317806, 46.20282394735315], [6.125813285368115, 46.202778254305215], [6.125621568210717, 46.20272832188057], [6.125432219716355, 46.20267421516161], [6.125188588233735, 46.202599925988544], [6.1221371744993895, 46.20169078227172], [6.122097295412475, 46.20167888188727], [6.1220575372783035, 46.20166680296263], [6.1220179003149955, 46.201654536503575], [6.12197837156934, 46.201642082359136], [6.1219389769486465, 46.20162944083174], [6.121899690110842, 46.201616629607784], [6.1218605376163024, 46.20160362200686], [6.12182017503033, 46.20158975456208], [6.121779947007765, 46.201575681745304], [6.12173986584901, 46.20156143069087], [6.1216999322076875, 46.2015469744159], [6.1216601326951725, 46.201532330758006], [6.1216204802651815, 46.201517499868636], [6.121580988089198, 46.20150247290466], [6.121408409955136, 46.20143676922101], [6.120606366967337, 46.201131431854556], [6.120420594019835, 46.20106601332749], [6.120229162596841, 46.20100901241533], [6.120032844156306, 46.20096067202552], [6.119832463048495, 46.20092119070436], [6.1196288444866855, 46.20089073102603], [6.119422814548899, 46.200869419593204], [6.119215251993051, 46.200857347642966], [6.119121913450244, 46.20085400677003], [6.118779256232582, 46.20085017844981], [6.118437060019432, 46.200863124662376], [6.118097023339387, 46.200892784325326], [6.117760859648233, 46.2009390155794], [6.1174302068818935, 46.201001585732044], [6.11710674382528, 46.201080181615794], [6.1167920474138775, 46.20117441691225], [6.116205561872635, 46.20136728352163], [6.116155124833479, 46.201384137251914], [6.116104988366233, 46.20140141733699], [6.116055152251208, 46.201419132771605], [6.116005655785149, 46.20143726602304], [6.115956472841777, 46.20145582578243], [6.115907616373641, 46.20147481220196], [6.115859112724228, 46.201494207597236], [6.115809181635124, 46.20151475582969], [6.11575964134597, 46.20153574947012], [6.1157104920746574, 46.20155717952486], [6.115661733820565, 46.20157904599434], [6.115613392708597, 46.201601340188475], [6.115565455565875, 46.20162407095035], [6.1155179487362785, 46.2016472205956], [6.114297515131453, 46.20225017729607], [6.114143533020533, 46.20232298084863], [6.113985369959878, 46.202391335629684], [6.113823288112319, 46.202455118743266], [6.113657588067958, 46.20251422573981], [6.1134885186068715, 46.202568551562244], [6.11331637967034, 46.20261801874654], [6.113141458688195, 46.20266253168935], [6.113047164261744, 46.20268500466281], [6.112555188681228, 46.2028023005831], [6.112389758013883, 46.202837504179676], [6.112221315311896, 46.202864970787054], [6.112050602295798, 46.2028845741589], [6.111878398674668, 46.20289622448738], [6.111705457156285, 46.202899876636344], [6.111532542745485, 46.20289551260949], [6.1113604327425755, 46.20288314155035], [6.110823442695618, 46.20282983215407], [6.110750216203387, 46.203243987990675], [6.110658754308094, 46.203761222497725], [6.110627565850639, 46.203802061165156], [6.110531427821579, 46.203928037630526], [6.110474527717589, 46.20425131897678], [6.110466720696771, 46.204294034294584], [6.110445513894016, 46.20441481086595], [6.110414981094292, 46.20458902716084], [6.1103942573778065, 46.20467939991118], [6.110327549426365, 46.20497125655818], [6.110258872854109, 46.205371808478475], [6.110235802433535, 46.205506247363125], [6.110232494151526, 46.20556795410275], [6.110233481302577, 46.20562356653666], [6.110240581411277, 46.20567772147065], [6.110251163746397, 46.2057224706627], [6.110266435829287, 46.2057662044376], [6.110275717350227, 46.20578463139088], [6.110287704535648, 46.205808470340976], [6.110316433965453, 46.20584768415886], [6.110350375966313, 46.205885699769574], [6.1103917833234185, 46.20592047440311], [6.110439384538645, 46.20595101242158], [6.1104932281464075, 46.20597585689166], [6.110552271198664, 46.2059942038013], [6.1106185802460775, 46.20600632937944], [6.110654522558508, 46.20605318539602], [6.110830907271335, 46.20628523990152], [6.110837900518197, 46.20629443605378], [6.1109873703823245, 46.20649684368201], [6.111010927817886, 46.206525011248324], [6.111162041438755, 46.20670206673366], [6.111590500958087, 46.20729884152098], [6.111932367664888, 46.2077994453079], [6.111970401503282, 46.207855214404724], [6.111983750507674, 46.20787480464791], [6.112040963833606, 46.20795870758645], [6.112125760791577, 46.20811722212415], [6.11228610278388, 46.20837477174714], [6.112401124020081, 46.20854272820648], [6.112470173564273, 46.20862117396847], [6.112486528584838, 46.20863548231596], [6.1126604217876, 46.20881040124579], [6.1128760157581, 46.20903325047959], [6.112902313625098, 46.209054873101515], [6.113030792146907, 46.20917912715438], [6.113191274713388, 46.209334967217295], [6.113193766903273, 46.20933373692766], [6.113495153290494, 46.20962575311883], [6.113502355431797, 46.2096226887889], [6.1135409137135, 46.2096118415137], [6.113555750075527, 46.2096406348528], [6.113572334084999, 46.209668971877754], [6.11359064136746, 46.209696789323274], [6.11361063415456, 46.209724041760644], [6.113632274896983, 46.20975067476655], [6.113655525606645, 46.209776651906466], [6.113680348733658, 46.209801918757115], [6.113977443970713, 46.2100904913907], [6.114145099365808, 46.21025693161031], [6.114264356589447, 46.21038810252939], [6.114268293437568, 46.21038661926497], [6.114340159079022, 46.21046404424714], [6.114355846662541, 46.210480791633344], [6.114409633230314, 46.2105385711081], [6.114507466379823, 46.210648599553664], [6.114513817670129, 46.21065493591925], [6.114520483837886, 46.21066111403547], [6.114527452146509, 46.21066712475582], [6.114534709421479, 46.210672976922694], [6.114542256319824, 46.21067864355297], [6.114550066711275, 46.21068413333686], [6.114558153989522, 46.210689428437746], [6.114567233523331, 46.21069388947393], [6.114576739024715, 46.21069788766947], [6.114586632064639, 46.21070140457964], [6.114596874214073, 46.210704421759615], [6.114607388177108, 46.210706920308546], [6.114618135086683, 46.21070889977032], [6.114629063777005, 46.21071033255378], [6.114640641963291, 46.210711170165595], [6.114652271278775, 46.210711504550346], [6.114663912637421, 46.21071134424634], [6.114675514435351, 46.21071067965126], [6.114687037586588, 46.21070951930332], [6.114698430049346, 46.210707871588866], [6.114709666131169, 46.21070572720952], [6.114720680396815, 46.210703112388366], [6.114731433979285, 46.210700026669436], [6.114912778400715, 46.210952195717084], [6.114627083744452, 46.211078048149226], [6.114631423609263, 46.21107704643564], [6.114635837485553, 46.21107619853737], [6.114640299681026, 46.21107549515611], [6.114644796801973, 46.21107495412846], [6.114649342242179, 46.211074557617835], [6.114653896915561, 46.21107431416245], [6.114658473558908, 46.21107423290866], [6.114662416286014, 46.21107463904562], [6.114666302811121, 46.2110752244608], [6.114670133353279, 46.21107598015982], [6.114673882220049, 46.211076896844425], [6.114677549192497, 46.21107798350893], [6.114681108578228, 46.211079230854914], [6.1146845346848835, 46.21108062958416], [6.1146878406870675, 46.211082170854304], [6.11469098749882, 46.21108386320365], [6.114692278725997, 46.211084589107905], [6.114693543384985, 46.2110853416911], [6.114694781475689, 46.211086120953226], [6.114695980261446, 46.21108691774795], [6.114697152478968, 46.21108774122161], [6.114698298347215, 46.21108858237985], [6.114699404691507, 46.211089450065], [6.1147037466420775, 46.21109315374584], [6.1147078914113395, 46.211096972072525], [6.114711813087928, 46.21110090474111], [6.1147154991539585, 46.211104933610905], [6.114718975520848, 46.21110905898601], [6.1147222162771175, 46.211113280562365], [6.114725208905003, 46.21111758019948], [6.114749843124822, 46.21116662336352], [6.114792186060896, 46.2112734453743], [6.114809054896482, 46.211304502608236], [6.114865653062826, 46.21129314676011], [6.114937038541919, 46.211370682667976], [6.114963725317351, 46.21139876911713], [6.115039797186615, 46.21147438961263], [6.11511556132306, 46.21154615577713], [6.115184926606445, 46.211609812618434], [6.1152647627574135, 46.21168148248747], [6.115310814967195, 46.21172699801393], [6.11540205148441, 46.21181163104047], [6.115450273811709, 46.21185851249206], [6.115511538414898, 46.211918511366655], [6.115636148173499, 46.21204303184885], [6.115659655813015, 46.21206705024698], [6.115719539863347, 46.21212947997108], [6.11574836171139, 46.21216092910269], [6.115777751952374, 46.21219298768145], [6.115793172776977, 46.21220955179318], [6.115859293529306, 46.212283588562], [6.115922823091857, 46.21235813472977], [6.115939329325728, 46.212378031394856], [6.115954568359708, 46.212396212792164], [6.116085656020602, 46.21256193345563], [6.116177463015206, 46.21268503420376], [6.116212165001012, 46.2127315769239], [6.116313132546496, 46.212870241560594], [6.116305936710112, 46.212884228367265], [6.116291558201067, 46.21291219313685], [6.1162747724948305, 46.21294481707344], [6.116356592205048, 46.21305657251373], [6.116485623188017, 46.213233973533534], [6.116644101129195, 46.21345184549121], [6.116803282718988, 46.21367067912599], [6.116938562084659, 46.21385666384439], [6.1170737922979574, 46.21404257584065], [6.1172093118169935, 46.214228886916416], [6.117344832263979, 46.214415197831045], [6.117480191103676, 46.214601263765815], [6.117615631361579, 46.214788284151766], [6.11777367893674, 46.21500450296508], [6.1178167782359845, 46.21506400899744], [6.117872415168879, 46.215139856145306], [6.117880997982688, 46.21515200342625], [6.117889515361633, 46.21516417693134], [6.117897993655931, 46.21517635897509], [6.117906406733705, 46.21518855824872], [6.117914767333231, 46.21520078389821], [6.117923075891322, 46.21521301793475], [6.117931331971065, 46.21522527834723], [6.117943062446078, 46.21524283360147], [6.1179546754446, 46.21526042346708], [6.117966170966635, 46.21527804794415], [6.117977561968722, 46.215295707184325], [6.117988835494053, 46.21531340103596], [6.118000004499318, 46.21533112965074], [6.118011056027692, 46.215348892877074], [6.11831437462989, 46.21583759007369], [6.118432196349249, 46.216027201314645], [6.118785971012726, 46.21597366950741], [6.119254435742948, 46.216208469102895], [6.12173948482506, 46.215670728575404], [6.124292379392764, 46.215172266791875], [6.123963949358538, 46.21486731572546], [6.125745936691429, 46.21403192004913], [6.126111951338808, 46.21434243123986], [6.1263714555244375, 46.21421715396709], [6.127624639855809, 46.214192673840145], [6.128101674764305, 46.21396789524544], [6.128840698336542, 46.21366482430604], [6.129536821100284, 46.213743797461355], [6.129715824584564, 46.21366733135108], [6.129763546568301, 46.21324611208151], [6.1292670997621626, 46.212711337216], [6.129182332847565, 46.21270099684457], [6.129007513851845, 46.21252307940255], [6.129270588872294, 46.21240494462252], [6.12926991321042, 46.21149643380155], [6.129688323822016, 46.211503897297234], [6.1296881943296775, 46.211046225553424], [6.1293752464565685, 46.21104538386917], [6.129368755714224, 46.21081975727768], [6.129689670193956, 46.210817992352666], [6.1296959109729405, 46.21056408341168], [6.130356125188633, 46.21056112386923], [6.131372906522594, 46.20969310578784], [6.13140280815081, 46.209387199254714], [6.132010663425156, 46.20907638102781], [6.132081390802238, 46.209061365573874], [6.132296128003318, 46.20900920502911], [6.132354744606566, 46.20908404471576], [6.132684982968899, 46.20905728712121], [6.133030450124655, 46.20902556757709], [6.133175440742268, 46.20892378138879], [6.133290798266145, 46.20889038815007], [6.133399342743762, 46.2090868755025], [6.134884189651403, 46.208718437242986], [6.134899613772944, 46.20843179594179], [6.135137728516569, 46.20837021956549]]]}}, {\"id\": \"2\", \"type\": \"Feature\", \"properties\": {\"AreaPerRoom\": 27.531853242910934, \"INAEND\": \"nein\", \"OS_UUID\": \"{5DF8DDBE-8D41-42A3-8F30-F9E716E39C75}\", \"PLZ\": 1206, \"RentPerArea\": 39.905645356562005, \"RentPerRoom\": 1103.584284785727, \"STATUS\": \"real\", \"SurfaceArea\": 143.32692307692307, \"UUID\": \"{D924C540-1604-4E4A-9C30-A31E36299921}\", \"ZUSZIFF\": 0, \"ZipCode\": 1206, \"x\": 6.1573566965883915, \"y\": 46.18942238896255}, \"geometry\": {\"type\": \"Polygon\", \"coordinates\": [[[6.153826381810386, 46.17984066282308], [6.153869481466996, 46.18018807039982], [6.154024265254395, 46.18139468494512], [6.154170797076629, 46.182502330473234], [6.154387439980183, 46.18383696273992], [6.154527529150262, 46.184706119242165], [6.15440674565849, 46.1852361039577], [6.154181351602472, 46.185664483967706], [6.153749354764239, 46.186109043472975], [6.153437733198549, 46.1862884878789], [6.153084901830151, 46.186441191073556], [6.152583115023906, 46.1865594374368], [6.1522480180469, 46.18661768489922], [6.151773957276739, 46.186651754932086], [6.15109082803541, 46.18665401692032], [6.149914849976797, 46.18673972183113], [6.149687640202297, 46.186753616596], [6.149770761638963, 46.18745194521467], [6.149650982422172, 46.187560607376355], [6.148963752341505, 46.18760968314787], [6.1490114909205555, 46.18787455532854], [6.149461806147401, 46.18917934668847], [6.1494081039798605, 46.18919879576239], [6.149760538856355, 46.18976558314791], [6.149483406240811, 46.189839509695084], [6.14957885593846, 46.18997771199799], [6.14971770777838, 46.19002221357833], [6.149862194196495, 46.18999237573905], [6.150040360233139, 46.1899401695593], [6.150041917744917, 46.19022006913789], [6.149527729034671, 46.19022849859921], [6.149526411494189, 46.19063126181205], [6.149676769835623, 46.191055713335], [6.1497263220111895, 46.19174462566265], [6.149952632358675, 46.191744422443946], [6.150058838687626, 46.1924711386798], [6.1502323102512655, 46.192613110633964], [6.150348819386863, 46.19273157984942], [6.150420196617563, 46.19284665454036], [6.150542500041663, 46.193065144292355], [6.150611721268436, 46.193265843876254], [6.150627311965667, 46.19347735699532], [6.150594161797494, 46.19366276261846], [6.150516355219648, 46.19382462645666], [6.150401842782986, 46.193971856095], [6.151747304530574, 46.19465543383963], [6.151462633851074, 46.19486358390702], [6.1511545871478805, 46.195197178924], [6.15080706620566, 46.19562741609282], [6.150925327692556, 46.19567163596805], [6.1514096668960985, 46.19585971815223], [6.151218502020956, 46.19608214198403], [6.151076170898756, 46.19602574491789], [6.151000325673546, 46.19599574751801], [6.150950910641038, 46.19597612820271], [6.150776807719655, 46.196032673920776], [6.150585003038751, 46.196139174481175], [6.150191718957349, 46.19642906787624], [6.150325237755585, 46.19651620649121], [6.150517738236707, 46.196552745624615], [6.15085763155386, 46.19679640934262], [6.151019287035964, 46.19691826312658], [6.150736192291279, 46.19712106744332], [6.150281474867976, 46.19741817704987], [6.150657815093966, 46.19767892866817], [6.150411071672832, 46.19785321351504], [6.151466467732607, 46.19860217155433], [6.15190769545718, 46.198925863160134], [6.1515786023178265, 46.19912849590135], [6.151314754166283, 46.19931695554057], [6.151649959424929, 46.199538404022995], [6.152084867129296, 46.19926031601468], [6.152207133383858, 46.19913612383745], [6.152436534837076, 46.199001556180704], [6.1527441498631905, 46.19919705490242], [6.153788589460688, 46.19990875389659], [6.15485022272835, 46.19919536456832], [6.156461405542278, 46.19873379872015], [6.1563383427757685, 46.19836680588026], [6.156940285815757, 46.1976081716538], [6.157243616579087, 46.19748593230314], [6.156783519595079, 46.19693512107394], [6.157252470417411, 46.19675477294485], [6.1575309921982155, 46.197095442312104], [6.157780284774523, 46.19740051163046], [6.157611130952985, 46.19747093414304], [6.157352457239966, 46.19757846810809], [6.157285025688423, 46.19799187890545], [6.157429292284582, 46.19815911258664], [6.157462410153629, 46.198145282762745], [6.157570712350205, 46.1982607540663], [6.1577753542712825, 46.198322447677], [6.157838250204055, 46.198429476973864], [6.158002782135092, 46.19839148906131], [6.1576318853670475, 46.19793587253069], [6.157883281113985, 46.1978293438942], [6.158248921689559, 46.197684327614844], [6.158146097205111, 46.197561253873985], [6.157994693513934, 46.197380165998375], [6.157663809227189, 46.19697361345944], [6.157427145611421, 46.19668253337095], [6.158633404463256, 46.19624790772557], [6.158416661346365, 46.19601697445483], [6.159592340475188, 46.195527570170086], [6.160515352082318, 46.19510386486567], [6.160997337253002, 46.194897981360874], [6.16045123081468, 46.194334893154604], [6.160633525482006, 46.19410269116323], [6.161073844924565, 46.19427326496082], [6.1619590270754045, 46.19388349653311], [6.162377653763596, 46.19430290480231], [6.162531059683574, 46.19434034862607], [6.163292510625524, 46.19402129725972], [6.164257041444774, 46.19358370855986], [6.164467756128255, 46.19389455273723], [6.165081387988075, 46.19368437215116], [6.165001456932012, 46.19340927468237], [6.164665852504209, 46.19298845686137], [6.164883712548732, 46.19286300094345], [6.164573047293395, 46.192600519937464], [6.164863929503885, 46.19243645594738], [6.164504502716407, 46.19214365371244], [6.164745912014097, 46.192029791058225], [6.165004134485511, 46.191895497119795], [6.165712447325734, 46.19186162177542], [6.166221267292364, 46.19226155672796], [6.165813152132359, 46.19249525895581], [6.1661481456530165, 46.19274527149783], [6.166370954409867, 46.192907675613625], [6.167099790337728, 46.19246461545204], [6.167901920680074, 46.19312207964358], [6.168516961720581, 46.19276679649954], [6.167245494508808, 46.191732300616344], [6.1679120844633415, 46.191545571793185], [6.167670765971571, 46.19131158171815], [6.1672786918875495, 46.19101577549166], [6.16705175841359, 46.19087043849926], [6.16789921352841, 46.190261406742444], [6.167600134753113, 46.190059154110585], [6.167454526541173, 46.18996556610976], [6.167420119774256, 46.189930099898056], [6.167394821358576, 46.189903994017676], [6.167367604938867, 46.189865172060266], [6.167349435621954, 46.18981116654194], [6.167352514530125, 46.18978529052483], [6.167358953451553, 46.18973093259327], [6.167393677268414, 46.189609237690405], [6.1675009165074615, 46.18934899996147], [6.167512808645513, 46.189317384357196], [6.16757219491924, 46.189159710336256], [6.167620410385866, 46.189058770037015], [6.167540210390737, 46.188970687474004], [6.16757011704555, 46.18887826773681], [6.167630837843358, 46.18853979151821], [6.167670111593081, 46.18832086568268], [6.16769635755208, 46.188168864005064], [6.167704358745287, 46.18813133864384], [6.167709121360024, 46.188099363787025], [6.167789786037218, 46.1876728448819], [6.167798544402011, 46.18762508072044], [6.16786394794523, 46.18726568571132], [6.167471272237265, 46.187468087598724], [6.167096873167849, 46.18763659641923], [6.1665905643201135, 46.18784554137406], [6.166326013240334, 46.18794125204778], [6.1656478167687885, 46.18812242396959], [6.165045440108769, 46.18817940177919], [6.164742621295414, 46.1881721133589], [6.164225041872851, 46.18812001387009], [6.163899016929331, 46.18806378837092], [6.163564036665212, 46.18797516222799], [6.163264549198416, 46.187842393347594], [6.162971970835258, 46.18768020134362], [6.162549643773086, 46.187317261839326], [6.1624144636775275, 46.187143704763635], [6.162345735020557, 46.186926014541896], [6.162268527585089, 46.18648447825976], [6.162275738092647, 46.18616607364808], [6.162344753486263, 46.18592421136273], [6.162389122706672, 46.18579426006389], [6.162374458795004, 46.185320503360764], [6.16226090375323, 46.18491003551483], [6.161971707914025, 46.18435606900914], [6.161329500341682, 46.183511997350955], [6.160026501698797, 46.181503256209304], [6.1598162141111725, 46.18101036695252], [6.159715227676383, 46.18055128525302], [6.159694091276504, 46.179885013371965], [6.1596327096988555, 46.17917321115996], [6.159473809919843, 46.178852922577455], [6.1593334933836825, 46.17867328442572], [6.159097207028841, 46.17843856747409], [6.158771267395115, 46.17820518067757], [6.1583819260603505, 46.17802495489217], [6.15773675455156, 46.1778240084511], [6.15722390139957, 46.177774178568484], [6.157051145054, 46.1777735558609], [6.1568786207954505, 46.177779575159086], [6.156706821216282, 46.17779221507411], [6.156536303861359, 46.177811445962], [6.156367575121836, 46.17783721060975], [6.15620115518738, 46.177869415977256], [6.15603756425165, 46.17790796902728], [6.15587729704096, 46.17795275844205], [6.15572083597485, 46.17800364577597], [6.155568677063069, 46.17806046574995], [6.1554212776901025, 46.17812304365061], [6.155279082299467, 46.17819120461916], [6.155142549562748, 46.17826471997938], [6.155012072995184, 46.17834337830842], [6.154888072864468, 46.17842693250135], [6.154770917866766, 46.1785151258703], [6.154646154439431, 46.17863593584709], [6.154527742466301, 46.178759795957426], [6.154415866853419, 46.17888655538142], [6.1543106613560195, 46.179016035725496], [6.154212259309542, 46.179148076584326], [6.1541207944784215, 46.179282499563165], [6.154036387470785, 46.17941913511313], [6.15395913342692, 46.17955779540062], [6.153889165911089, 46.179698311022385], [6.153826381810386, 46.17984066282308]]]}}, {\"id\": \"3\", \"type\": \"Feature\", \"properties\": {\"AreaPerRoom\": 20.106477906477906, \"INAEND\": \"nein\", \"OS_UUID\": \"{5DF8DDBE-8D41-42A3-8F30-F9E716E39C75}\", \"PLZ\": 1205, \"RentPerArea\": 35.18185634549229, \"RentPerRoom\": 698.7350493350493, \"STATUS\": \"real\", \"SurfaceArea\": 75.91891891891892, \"UUID\": \"{F97E72AA-A260-4075-B3AE-F87FEDE38726}\", \"ZUSZIFF\": 0, \"ZipCode\": 1205, \"x\": 6.140328436847279, \"y\": 46.19607899458931}, \"geometry\": {\"type\": \"Polygon\", \"coordinates\": [[[6.133941757171043, 46.20367711754078], [6.134082490940982, 46.20308116531098], [6.135171888124315, 46.20315411664103], [6.1351882410407645, 46.2030713636546], [6.13525751093515, 46.20262960911857], [6.135261992134166, 46.20261022770351], [6.13529907089111, 46.20237142995401], [6.134906046680717, 46.20232945301328], [6.135013252281325, 46.20140833526411], [6.135025114959015, 46.20134100499925], [6.136801562182385, 46.20137017295368], [6.136780601145053, 46.20155842390128], [6.137639262616235, 46.20160839206448], [6.138157200142278, 46.20162283867974], [6.138162607983589, 46.20157440805566], [6.138504069962904, 46.201572594669685], [6.138604684758314, 46.20149385321198], [6.138820640445584, 46.20157624244845], [6.139264684854484, 46.20159281056077], [6.139439674680661, 46.20143963943301], [6.139368664415036, 46.20125490832992], [6.1393141608064346, 46.20127362381831], [6.139224235620209, 46.2011327592706], [6.13965738453329, 46.201004261361014], [6.14000038996689, 46.20106843505558], [6.140184779429446, 46.20104132670643], [6.140185127165167, 46.2010425002972], [6.140185889194168, 46.201043687653076], [6.14018677231243, 46.201044687469064], [6.140188033440353, 46.201045592670525], [6.14018932433981, 46.2010463362716], [6.140190863715211, 46.201046983767284], [6.140192653498876, 46.201047454208286], [6.140194460744818, 46.20104773591674], [6.140196416704388, 46.201047758428516], [6.140198236403322, 46.201047518463795], [6.140200047657661, 46.201047089468325], [6.140201759579123, 46.20104647939291], [6.140217205588165, 46.20103990953826], [6.140244453690344, 46.20102743863524], [6.14045342826462, 46.20096967268282], [6.141027216827623, 46.200165101398326], [6.1410266628454, 46.20016496907072], [6.140735744430322, 46.200100399055906], [6.141099402067911, 46.199526202894184], [6.141447342035385, 46.19902944059992], [6.1415706525282925, 46.198846162493744], [6.141615980633787, 46.198705694312174], [6.141626901854484, 46.19854054809273], [6.1416000221638, 46.19802632208232], [6.142036095178119, 46.198022815006425], [6.142149142115803, 46.19811832007699], [6.142440953332669, 46.19813036432081], [6.142443862543394, 46.19813061367174], [6.142581600140447, 46.19828994659448], [6.142601009781365, 46.198312193822936], [6.142687061509746, 46.198496168903894], [6.142706141913501, 46.19871823189823], [6.142652934296133, 46.198721318355155], [6.142662421074678, 46.19934985584908], [6.142632499185402, 46.19940663297626], [6.143017083868169, 46.1994769792256], [6.143054551476031, 46.20052262509858], [6.1431075884813895, 46.20071173572888], [6.143358179641415, 46.20090029868508], [6.143631497040784, 46.20072376975089], [6.143967646170153, 46.20098248102303], [6.144068839605751, 46.20105815398989], [6.144191919761681, 46.20108527920155], [6.144311682491659, 46.20107812429446], [6.1450167262583655, 46.20073684623907], [6.1444562571868655, 46.20020349200164], [6.14554232278907, 46.19952570953804], [6.14717439395128, 46.198513459361465], [6.147740103365184, 46.198922460898956], [6.147816702901426, 46.19881211871988], [6.1482184605137595, 46.19855625714534], [6.148388820112856, 46.198487013904746], [6.14866525758099, 46.19845306339169], [6.149649677568854, 46.19853886340892], [6.149848605311746, 46.198683375851445], [6.149849261690869, 46.19868301448071], [6.1505755633972585, 46.19819242733076], [6.1508302000256325, 46.19836940482011], [6.150362090659372, 46.19868120674986], [6.150049721516062, 46.19867484112347], [6.149936827138188, 46.19874782023386], [6.150564192161862, 46.19920884748179], [6.150379658200804, 46.1993213327707], [6.15103861252523, 46.19979424292019], [6.151241500101975, 46.19966887563483], [6.15133698694153, 46.19974510664873], [6.151649959424929, 46.199538404022995], [6.151314754166283, 46.19931695554057], [6.1515786023178265, 46.19912849590135], [6.15190769545718, 46.198925863160134], [6.151466467732607, 46.19860217155433], [6.150411071672832, 46.19785321351504], [6.150657815093966, 46.19767892866817], [6.150281474867976, 46.19741817704987], [6.150736192291279, 46.19712106744332], [6.151019287035964, 46.19691826312658], [6.15085763155386, 46.19679640934262], [6.150517738236707, 46.196552745624615], [6.150325237755585, 46.19651620649121], [6.150191718957349, 46.19642906787624], [6.150585003038751, 46.196139174481175], [6.150776807719655, 46.196032673920776], [6.150950910641038, 46.19597612820271], [6.151000325673546, 46.19599574751801], [6.151076170898756, 46.19602574491789], [6.151218502020956, 46.19608214198403], [6.1514096668960985, 46.19585971815223], [6.150925327692556, 46.19567163596805], [6.15080706620566, 46.19562741609282], [6.1511545871478805, 46.195197178924], [6.151462633851074, 46.19486358390702], [6.151747304530574, 46.19465543383963], [6.150401842782986, 46.193971856095], [6.150516355219648, 46.19382462645666], [6.150594161797494, 46.19366276261846], [6.150627311965667, 46.19347735699532], [6.150611721268436, 46.193265843876254], [6.150542500041663, 46.193065144292355], [6.150420196617563, 46.19284665454036], [6.150348819386863, 46.19273157984942], [6.1502323102512655, 46.192613110633964], [6.150058838687626, 46.1924711386798], [6.149952632358675, 46.191744422443946], [6.1497263220111895, 46.19174462566265], [6.149676769835623, 46.191055713335], [6.149526411494189, 46.19063126181205], [6.149527729034671, 46.19022849859921], [6.150041917744917, 46.19022006913789], [6.150040360233139, 46.1899401695593], [6.149862194196495, 46.18999237573905], [6.14971770777838, 46.19002221357833], [6.14957885593846, 46.18997771199799], [6.149483406240811, 46.189839509695084], [6.149760538856355, 46.18976558314791], [6.1494081039798605, 46.18919879576239], [6.149461806147401, 46.18917934668847], [6.1490114909205555, 46.18787455532854], [6.148963752341505, 46.18760968314787], [6.149650982422172, 46.187560607376355], [6.149770761638963, 46.18745194521467], [6.149687640202297, 46.186753616596], [6.148863717624061, 46.18680396339284], [6.148191698101628, 46.18686529101959], [6.147472338871547, 46.18683734615432], [6.146709637730465, 46.18679576488785], [6.145964970379387, 46.18675248681797], [6.145400899047802, 46.186763825142755], [6.145259664140527, 46.186772111115715], [6.144835544295698, 46.18680079586047], [6.143913158787938, 46.186934844061575], [6.143568524661664, 46.18703679792576], [6.14275933318733, 46.187344893467944], [6.1419462401500775, 46.188000008990215], [6.141886073809843, 46.188094944522426], [6.141689979997165, 46.18852362880124], [6.141436583381673, 46.189081783866534], [6.140479195676375, 46.19098424158469], [6.139643846635116, 46.19280348240908], [6.139262353449988, 46.19335543464533], [6.138914075899592, 46.19367125065629], [6.138167064021915, 46.194103845723376], [6.136683882152829, 46.19489886330587], [6.135564675470865, 46.19548064032958], [6.135396030482309, 46.195554256564336], [6.134094345970592, 46.196122278135405], [6.133322779520441, 46.196426712906444], [6.132415149834293, 46.197023764015825], [6.13116059037378, 46.197878847927406], [6.130121869991264, 46.19857023226688], [6.128521950196279, 46.19941328322742], [6.127458225490013, 46.199930480183106], [6.126751303194488, 46.20017994090597], [6.125999522816054, 46.200354561278424], [6.12530598766648, 46.200506264996136], [6.1246281930599125, 46.20062624495501], [6.123919867609112, 46.20075646340015], [6.12314998734573, 46.20088585174563], [6.12235144728666, 46.200929907080216], [6.121554327156036, 46.20092061291916], [6.120032844156306, 46.20096067202552], [6.120229162596841, 46.20100901241533], [6.120420594019835, 46.20106601332749], [6.120606366967337, 46.201131431854556], [6.121408409955136, 46.20143676922101], [6.121580988089198, 46.20150247290466], [6.1216204802651815, 46.201517499868636], [6.1216601326951725, 46.201532330758006], [6.1216999322076875, 46.2015469744159], [6.12173986584901, 46.20156143069087], [6.121779947007765, 46.201575681745304], [6.12182017503033, 46.20158975456208], [6.1218605376163024, 46.20160362200686], [6.121899690110842, 46.201616629607784], [6.1219389769486465, 46.20162944083174], [6.12197837156934, 46.201642082359136], [6.1220179003149955, 46.201654536503575], [6.1220575372783035, 46.20166680296263], [6.122097295412475, 46.20167888188727], [6.1221371744993895, 46.20169078227172], [6.125188588233735, 46.202599925988544], [6.125432219716355, 46.20267421516161], [6.125621568210717, 46.20272832188057], [6.125813285368115, 46.202778254305215], [6.126007191317806, 46.20282394735315], [6.126203066674015, 46.20286536247397], [6.126400730910056, 46.20290246157074], [6.1265999907607025, 46.20293519740262], [6.126800639353945, 46.202963549562604], [6.127972944830777, 46.20311645492487], [6.128131612788187, 46.20313619283692], [6.1282779528903895, 46.20315346615457], [6.128425034329006, 46.20316740105942], [6.128572689110764, 46.20317797760437], [6.128720774499737, 46.20318520312727], [6.128869109547896, 46.20318905753224], [6.1290175517354015, 46.20318953916427], [6.129165932634609, 46.203186646068445], [6.131619661827826, 46.20311065433519], [6.131640136909105, 46.203110018839595], [6.131829781248208, 46.20310843697094], [6.132019167850342, 46.20311542579836], [6.132207494530395, 46.203130940045774], [6.132393972054753, 46.20315493459234], [6.132577812914255, 46.20318729236743], [6.13275822980993, 46.2032278873113], [6.1329344626391284, 46.203276539702564], [6.133105764892275, 46.203333042991105], [6.133271416605433, 46.203397163947315], [6.13390900993263, 46.203663216578896], [6.133941757171043, 46.20367711754078]]]}}, {\"id\": \"4\", \"type\": \"Feature\", \"properties\": {\"AreaPerRoom\": 21.860883268778007, \"INAEND\": \"nein\", \"OS_UUID\": \"{5DF8DDBE-8D41-42A3-8F30-F9E716E39C75}\", \"PLZ\": 1207, \"RentPerArea\": 41.64690722209325, \"RentPerRoom\": 904.1794998860789, \"STATUS\": \"real\", \"SurfaceArea\": 100.05263157894737, \"UUID\": \"{B5EA9714-EF37-41F0-B481-F59A93221892}\", \"ZUSZIFF\": 0, \"ZipCode\": 1207, \"x\": 6.162358479628013, \"y\": 46.206612590383116}, \"geometry\": {\"type\": \"Polygon\", \"coordinates\": [[[6.157405499545926, 46.209956107412935], [6.157460039292055, 46.21001241692565], [6.157979921544355, 46.21054930115698], [6.1595144698203335, 46.212228497891324], [6.159806981918908, 46.21254859079025], [6.161900290885797, 46.21522384980327], [6.171632857603126, 46.2121255723639], [6.1722873149284885, 46.211917284280084], [6.172361656856008, 46.21189139814765], [6.172548430425346, 46.21160128764164], [6.172447371890706, 46.2115557095815], [6.172446709433338, 46.21155633192224], [6.172393498403314, 46.211532397162294], [6.172382590555361, 46.21152777636559], [6.172371815619706, 46.21152301311099], [6.172361160221554, 46.21151812524189], [6.172130274412653, 46.21141638945525], [6.172037932326154, 46.21137495740734], [6.171378095224535, 46.21105689892265], [6.171957043918482, 46.21064316009191], [6.172111296548359, 46.210535760703166], [6.172545485223906, 46.21022708679031], [6.172563272684904, 46.210214510955694], [6.17294804160064, 46.20994100721898], [6.172950281728226, 46.209939412927476], [6.173019876104973, 46.209889091879894], [6.172992189542956, 46.209870427900405], [6.172983275945132, 46.20986421010861], [6.172912015131339, 46.209863635669365], [6.173282238395789, 46.20959966620046], [6.173209541619303, 46.20955054723316], [6.17279771197321, 46.209274818904795], [6.172774082999905, 46.20925944822556], [6.172143094436552, 46.208838704549095], [6.1722728803305555, 46.20874668476822], [6.172226562634947, 46.20871566583378], [6.1722201792427525, 46.2087115456367], [6.172179081499833, 46.2086850836597], [6.171903395566851, 46.20850385270872], [6.171833618856823, 46.208445759836174], [6.171829805618895, 46.20844256815064], [6.171150648122585, 46.20787695159365], [6.17088213242035, 46.20765027491624], [6.170754190644786, 46.2066976797716], [6.170784247947754, 46.2066478964791], [6.1710384353682715, 46.206433300410644], [6.171091228273134, 46.206394316698166], [6.171431742958897, 46.20614288513195], [6.171453099935718, 46.20612555429573], [6.171474022098521, 46.206107975659116], [6.171494522402076, 46.206090149367945], [6.171514846506405, 46.20606987397085], [6.171534632367756, 46.2060493406157], [6.171553879776817, 46.20602855829723], [6.171561362952323, 46.20601938465304], [6.171568756281013, 46.206010174012214], [6.1715760340631265, 46.206000917089455], [6.171584332645407, 46.20599011518761], [6.1715924899806724, 46.20597925771834], [6.171600505859496, 46.205968353676056], [6.171615660680607, 46.20596861383316], [6.171619280342832, 46.20596397615768], [6.171625447893937, 46.20596566483866], [6.171624764541887, 46.20596718661677], [6.171627923758792, 46.205967851868785], [6.171631166360876, 46.20596827514414], [6.171634453274747, 46.20596846500081], [6.17164034305778, 46.205968171270726], [6.171646056540834, 46.20596710183773], [6.171651359283235, 46.20596530804972], [6.171656094362463, 46.20596285112216], [6.1716742819956885, 46.20594417112578], [6.171673126555786, 46.205943708311985], [6.17170780190798, 46.205901443972884], [6.171730143568038, 46.20588244174642], [6.171415111621838, 46.20572325956943], [6.170855324239918, 46.20537986147289], [6.169640079638045, 46.204566358659285], [6.168989320475483, 46.204070583941814], [6.168851111258526, 46.204168982744314], [6.1685839632005735, 46.20398314311564], [6.168713779835216, 46.20388457819904], [6.168180363000916, 46.20365300540344], [6.169605816830616, 46.20265939366966], [6.167589281623467, 46.20148391692405], [6.168029268664907, 46.20113748590499], [6.167749086104945, 46.20098012508319], [6.167751314845037, 46.20088584591955], [6.167586886756711, 46.2008811145034], [6.167505352819275, 46.20084881507589], [6.167512651511047, 46.200662906827326], [6.16781033574333, 46.2006677900226], [6.167817723358154, 46.20045141066963], [6.167521130487879, 46.20044644980947], [6.167536154107039, 46.20006359007614], [6.167172871282058, 46.19996680240547], [6.166751958768967, 46.19996144591074], [6.166480789547218, 46.199811335902524], [6.164680168303727, 46.19976299139964], [6.16385772954951, 46.19974509091719], [6.163860749227137, 46.19979370770017], [6.163244108190118, 46.19977819104707], [6.162577721108348, 46.19977342630307], [6.162215755633376, 46.19977222837942], [6.162022565868855, 46.19994422926177], [6.160694675271868, 46.19973217394633], [6.160632051947679, 46.19994576819123], [6.160346975602746, 46.19999669904627], [6.160083962098276, 46.19999092951577], [6.157528885227491, 46.199675853675174], [6.157161951768068, 46.199314684071815], [6.156660601005687, 46.19876988152549], [6.156461405542278, 46.19873379872015], [6.15485022272835, 46.19919536456832], [6.153788589460688, 46.19990875389659], [6.1527441498631905, 46.19919705490242], [6.152436534837076, 46.199001556180704], [6.152207133383858, 46.19913612383745], [6.152084867129296, 46.19926031601468], [6.153193094512815, 46.200052756663304], [6.153174040261686, 46.200338188250726], [6.153370892276107, 46.20049444748854], [6.1536216852278915, 46.20106311373869], [6.153988481622829, 46.201210160414725], [6.154517639119049, 46.201096158343866], [6.154642380983079, 46.201391764740144], [6.154337949130759, 46.20173396585996], [6.154630179585022, 46.20242293890976], [6.155153212751576, 46.20257166075528], [6.155219390117905, 46.20273235883263], [6.154332953440174, 46.20291518990989], [6.15424917991516, 46.20304980913591], [6.1543345899531, 46.20326787443851], [6.154615662796335, 46.203385315182935], [6.154829979074138, 46.20388761677938], [6.1543369071268765, 46.204406087109675], [6.149882480692948, 46.20684167156055], [6.156954163547914, 46.20999623552592], [6.157405499545926, 46.209956107412935]]]}}, {\"id\": \"5\", \"type\": \"Feature\", \"properties\": {\"AreaPerRoom\": 21.283923417851987, \"INAEND\": \"nein\", \"OS_UUID\": \"{5DF8DDBE-8D41-42A3-8F30-F9E716E39C75}\", \"PLZ\": 1201, \"RentPerArea\": 41.40310241507456, \"RentPerRoom\": 882.1095650381365, \"STATUS\": \"real\", \"SurfaceArea\": 82.14285714285714, \"UUID\": \"{5CE53C00-4565-4D02-A695-7DEE2B916405}\", \"ZUSZIFF\": 0, \"ZipCode\": 1201, \"x\": 6.146909938243938, \"y\": 46.2107418106785}, \"geometry\": {\"type\": \"Polygon\", \"coordinates\": [[[6.161900290885797, 46.21522384980327], [6.159806981918908, 46.21254859079025], [6.1595144698203335, 46.212228497891324], [6.157979921544355, 46.21054930115698], [6.157460039292055, 46.21001241692565], [6.157405499545926, 46.209956107412935], [6.156954163547914, 46.20999623552592], [6.149882480692948, 46.20684167156055], [6.149191318806715, 46.20665662740449], [6.1477093059186885, 46.2064777377474], [6.1463596918770085, 46.20623957149851], [6.14480922438223, 46.20586746230218], [6.143766599182222, 46.205592307984354], [6.142709142531864, 46.20532714898293], [6.141854532984931, 46.205114945803324], [6.140910482658437, 46.204992863285675], [6.1398323120561695, 46.20499060527977], [6.138925188356532, 46.20485319570047], [6.137906537122609, 46.204987412221655], [6.136805331097182, 46.20511761715593], [6.136795380521071, 46.205118653936744], [6.136785373138552, 46.205119357178035], [6.136775321904025, 46.20511972702923], [6.136765265680751, 46.2051197639388], [6.136755204468917, 46.205119467906684], [6.136745189870711, 46.20511884852519], [6.136735222316945, 46.205117887805635], [6.136728982382071, 46.20511710505154], [6.136722784324555, 46.20511619682449], [6.1367166281444385, 46.205115163124525], [6.13671051405701, 46.20511399495736], [6.136704454586073, 46.20511271046109], [6.136698463116525, 46.20511129179655], [6.136692526478892, 46.205109747808606], [6.13607151607959, 46.20483715505025], [6.1354622690291984, 46.20449460925539], [6.134512001587516, 46.20395728662301], [6.134459714406502, 46.20392823418997], [6.13440689768903, 46.2038996524436], [6.134353551218929, 46.20387155037749], [6.134299675211302, 46.2038439189965], [6.134245294926447, 46.20381678558252], [6.1341904235333695, 46.20379014129015], [6.134135048077377, 46.20376398596898], [6.134079253184848, 46.20373803269766], [6.134022966750856, 46.2037125865346], [6.133966214682448, 46.203687647778615], [6.133941757171043, 46.20367711754078], [6.13390900993263, 46.203663216578896], [6.133271416605433, 46.203397163947315], [6.133105764892275, 46.203333042991105], [6.1329344626391284, 46.203276539702564], [6.13275822980993, 46.2032278873113], [6.132577812914255, 46.20318729236743], [6.132393972054753, 46.20315493459234], [6.132207494530395, 46.203130940045774], [6.132019167850342, 46.20311542579836], [6.131829781248208, 46.20310843697094], [6.131640136909105, 46.203110018839595], [6.131619661827826, 46.20311065433519], [6.131189630915852, 46.204018375438], [6.13305488965909, 46.20435347075895], [6.133180229740457, 46.20440044516921], [6.13328277715961, 46.20444148771755], [6.133369816416151, 46.204480281481835], [6.133454478722912, 46.20452147682971], [6.133535293797147, 46.204566406286204], [6.133611749951957, 46.2046147940355], [6.1336833311796, 46.20466654414958], [6.133749776236916, 46.20472174358484], [6.133809794011879, 46.20478019748169], [6.133866005554052, 46.204840676602956], [6.133919214004591, 46.204902110620324], [6.134278533897941, 46.20532363803372], [6.134295577876569, 46.205347775687564], [6.134307015031024, 46.205373368987956], [6.134311953429616, 46.205399786843174], [6.134307674795971, 46.20542690786083], [6.134297471642593, 46.20545252089168], [6.1342795370308645, 46.20547632614227], [6.134277237665766, 46.20547818889789], [6.134239046938657, 46.20563232222473], [6.134525956430717, 46.20568883721411], [6.134623469431904, 46.2059491904513], [6.134324162118555, 46.20591247841661], [6.13404820680593, 46.20588868516918], [6.133403996099945, 46.20583786966618], [6.13332903250813, 46.2058319731882], [6.134098622790052, 46.206876429350395], [6.134223281173215, 46.20703855431371], [6.134435597641631, 46.20697668122834], [6.1346936555686185, 46.20736886749297], [6.134253350970387, 46.20750295941275], [6.134348375635405, 46.20761480912324], [6.134659400690358, 46.20751125159497], [6.1349654754314065, 46.207884468955875], [6.134704800361071, 46.207979612378814], [6.135137728516569, 46.20837021956549], [6.13513425831546, 46.20891997684568], [6.135933283290671, 46.20896933067376], [6.135850903665111, 46.209773777258945], [6.135855122795551, 46.209981743105786], [6.1351433753546285, 46.210280585555715], [6.135201640868713, 46.210336769184885], [6.135521571958792, 46.21038131013049], [6.135873602914887, 46.21050323379267], [6.136454906757292, 46.210277825166884], [6.136553108275449, 46.210387280441594], [6.136631436433396, 46.21046618694217], [6.13622512000883, 46.21063585665597], [6.135918089150844, 46.210766815214654], [6.136013664566503, 46.21087228203182], [6.136433170209131, 46.21087712414066], [6.136555711203606, 46.211003864331104], [6.136792943171154, 46.2112496963773], [6.136418928806876, 46.21141776022332], [6.136502750076257, 46.21151789977493], [6.136172559272179, 46.21165955897472], [6.136628569910238, 46.212345145175135], [6.136787558850348, 46.212579008223905], [6.137077465948877, 46.21271442622174], [6.137611390691518, 46.212102950107685], [6.137900469112568, 46.212056260319166], [6.138298407050297, 46.21211797672612], [6.139154065088508, 46.21182230115527], [6.139858221624356, 46.21273656995751], [6.1403441610381035, 46.21346064960516], [6.1404953480186535, 46.21430989126532], [6.140001170860718, 46.214473075947645], [6.140053760653093, 46.21455024426399], [6.14018097268135, 46.21469916632871], [6.140430973491494, 46.21499237073236], [6.140423650527468, 46.2154674096279], [6.144522918221018, 46.21553671631822], [6.145212784247912, 46.21504474360074], [6.145212925268374, 46.21498977457898], [6.145364742012934, 46.21488948153086], [6.14522940525461, 46.21479493016718], [6.145856375540104, 46.21438790060633], [6.146021295204576, 46.214515925410836], [6.146402290511126, 46.21435366775216], [6.146289261007742, 46.21420716451941], [6.146448299047578, 46.21415185593938], [6.146977939349711, 46.21394604440935], [6.147535757177286, 46.21370501538074], [6.147909780825624, 46.21355211965993], [6.148046291080968, 46.21372507054712], [6.148303008789096, 46.21359476338817], [6.148611116002387, 46.2134779086233], [6.148457511378124, 46.21329891505071], [6.1488722042694866, 46.21316321528688], [6.14911053487924, 46.21309216518357], [6.1491994320236625, 46.21324549725659], [6.148977936017631, 46.213333474048426], [6.149400178072363, 46.213890613968054], [6.149150595665274, 46.214004271054485], [6.1493800903193865, 46.214311525735475], [6.149756503396057, 46.21417259628044], [6.150810934622865, 46.21403564757951], [6.150900364503847, 46.21422695090703], [6.150809602481924, 46.21448592322202], [6.150484819694935, 46.21516883556373], [6.150552582805488, 46.21521286578781], [6.1506029588714535, 46.21527471814571], [6.150718016496567, 46.21528746632861], [6.150718469107313, 46.21528477244813], [6.151086739464021, 46.21533224066228], [6.15124492169364, 46.216281977319305], [6.155766068490644, 46.217358831696124], [6.161900290885797, 46.21522384980327]]]}}, {\"id\": \"6\", \"type\": \"Feature\", \"properties\": {\"AreaPerRoom\": 24.85254844361987, \"INAEND\": \"nein\", \"OS_UUID\": \"{5DF8DDBE-8D41-42A3-8F30-F9E716E39C75}\", \"PLZ\": 1208, \"RentPerArea\": 36.85780559644569, \"RentPerRoom\": 909.2452484023913, \"STATUS\": \"real\", \"SurfaceArea\": 88.07142857142857, \"UUID\": \"{6C0C2A10-B4FA-43B9-A9B2-8DACE70978A5}\", \"ZUSZIFF\": 0, \"ZipCode\": 1208, \"x\": 6.16757285189, \"y\": 46.19844559371096}, \"geometry\": {\"type\": \"Polygon\", \"coordinates\": [[[6.171730143568038, 46.20588244174642], [6.172083793580334, 46.206003730283484], [6.173177568371618, 46.20638128153867], [6.173818357439963, 46.20660204124529], [6.174208117877839, 46.20673560357121], [6.174250875376878, 46.20675363544339], [6.174429929643957, 46.206831214754516], [6.1748759726252604, 46.2070260436041], [6.174830976926013, 46.20683273878932], [6.174902332460119, 46.2068246042486], [6.1749820683498875, 46.206800450305934], [6.17505296816405, 46.206765077340656], [6.175108017894135, 46.206713062739084], [6.175435283437712, 46.206301040501785], [6.175845404283118, 46.20578658988655], [6.175797525243801, 46.20579549159897], [6.175663737694222, 46.20582045353885], [6.175654088577848, 46.20581746655852], [6.175066502629833, 46.20543625293117], [6.174682786602374, 46.205187323640146], [6.174186153345242, 46.2046750515905], [6.173982927269384, 46.20446540715588], [6.17458324424305, 46.204187117002114], [6.174956938739663, 46.204014327814406], [6.174885942256731, 46.2039530742802], [6.174794483946599, 46.203873507974876], [6.174759356070169, 46.20387462591548], [6.174743052336585, 46.20386249555962], [6.174737429436937, 46.20385856395648], [6.174498428148944, 46.20368908609848], [6.1744804576394525, 46.203676199292225], [6.174507097284227, 46.20366174308429], [6.174225645732208, 46.203406571558205], [6.174144051245268, 46.20344956131151], [6.174077326708518, 46.20340582686246], [6.173390308887341, 46.20295590582899], [6.1734162027988155, 46.20293451400156], [6.173649363603956, 46.20275926239722], [6.173853209675174, 46.202608143912116], [6.173733668006063, 46.202477700011045], [6.1740020573751355, 46.20233082265058], [6.174038282799641, 46.202311435820825], [6.1740750196684635, 46.20229178480936], [6.17447902947573, 46.20207409239177], [6.174502782573101, 46.20206059349464], [6.174591729720062, 46.202013898254364], [6.174675441743091, 46.20196833186684], [6.174690004473214, 46.20196056886839], [6.174798456703391, 46.201899715156905], [6.174817738731075, 46.20188903607694], [6.174846648290801, 46.20187164529264], [6.174971950384035, 46.20180439453843], [6.175025639161017, 46.20177449685298], [6.175239086828023, 46.2016559438431], [6.175397117835508, 46.20156802470447], [6.17574811655833, 46.20137293693728], [6.175811910059291, 46.201337493036824], [6.175822533983342, 46.20133194399466], [6.175540850269989, 46.20106526624513], [6.175117324841584, 46.2006627764368], [6.175082461931739, 46.200630267501886], [6.174977404220789, 46.20052895673419], [6.174817187727398, 46.20035972312076], [6.174699955146733, 46.200235963704785], [6.174694625543913, 46.200231135705074], [6.17442246347899, 46.199945488582195], [6.174318499017213, 46.19983627227034], [6.174218289754851, 46.19957110296207], [6.174300364893977, 46.19955734912027], [6.174380515012136, 46.199542242124096], [6.174430486986079, 46.19953281572636], [6.174441158703038, 46.199530776092566], [6.174509745567309, 46.19951759968394], [6.174601766704407, 46.19949901785013], [6.174649801906189, 46.1994892997518], [6.174680381300952, 46.199483074731795], [6.174688403879566, 46.19948129329004], [6.174696015307633, 46.19947880549321], [6.174703097962093, 46.19947565500746], [6.174709534219907, 46.199471885498795], [6.174714981866788, 46.199467727049274], [6.174719636453081, 46.199463127869265], [6.174723431332476, 46.19945816818317], [6.174726300276793, 46.199452910226356], [6.174728101429243, 46.199447325419335], [6.174728881586532, 46.19944163020884], [6.174728625915056, 46.19943590539968], [6.174727345069154, 46.199430250075565], [6.174686422645056, 46.19930114679054], [6.174647316082475, 46.199177542867204], [6.174665659264831, 46.199174329620455], [6.174575119773339, 46.19888832450999], [6.174554196900569, 46.19882358323245], [6.174451805643234, 46.19850738700591], [6.174357460762575, 46.19831273723224], [6.174353842421164, 46.19830675881314], [6.174296352103414, 46.1982216348286], [6.174279066811949, 46.19819607020879], [6.174087149012955, 46.19791900476158], [6.17391342264723, 46.19767875077551], [6.173860071982531, 46.197605098864216], [6.173683128911929, 46.19734168674215], [6.17365467345484, 46.197300081479625], [6.173453815674321, 46.19699990990538], [6.173380388877294, 46.196901570371196], [6.173344032703089, 46.196852643006544], [6.173144057420305, 46.19658485112734], [6.173048856072689, 46.19647580384534], [6.17258980803523, 46.19595364429664], [6.172568500696393, 46.19592839413026], [6.17246445411031, 46.19580092963116], [6.172166365826845, 46.19547731625373], [6.171798623916713, 46.19508509316009], [6.17123794594276, 46.1945059254976], [6.171335817290883, 46.19445835256987], [6.171335098996671, 46.19443301858542], [6.171341858716796, 46.19440811948948], [6.171355812888368, 46.19438470471731], [6.171376381315109, 46.194363766389955], [6.1714026750552495, 46.194346203191195], [6.171813243055407, 46.1941997590873], [6.172086508688382, 46.19409676478133], [6.172374642554653, 46.19396162933208], [6.172632999593378, 46.193892375194125], [6.172590669953427, 46.19380742942859], [6.172573550899337, 46.19380264893268], [6.1725618490877645, 46.19378776288814], [6.172511016678925, 46.19372304535762], [6.172402572987971, 46.19363996645826], [6.172178494732944, 46.19346498274011], [6.171992305129735, 46.19348333278897], [6.171750751943976, 46.19362212129097], [6.171620504684582, 46.19360196307228], [6.171321399225403, 46.19373481410195], [6.171092949778737, 46.19348123725843], [6.170986283862486, 46.19352934989226], [6.170681742940275, 46.19331118302803], [6.170950270538601, 46.19314400924847], [6.170611774063382, 46.19288317572271], [6.170815385670452, 46.19274979312589], [6.170734808008469, 46.19267746203985], [6.170140485221945, 46.192817157473876], [6.1694091183785424, 46.192209070327095], [6.168516961720581, 46.19276679649954], [6.167901920680074, 46.19312207964358], [6.167099790337728, 46.19246461545204], [6.166370954409867, 46.192907675613625], [6.1661481456530165, 46.19274527149783], [6.165813152132359, 46.19249525895581], [6.166221267292364, 46.19226155672796], [6.165712447325734, 46.19186162177542], [6.165004134485511, 46.191895497119795], [6.164745912014097, 46.192029791058225], [6.164504502716407, 46.19214365371244], [6.164863929503885, 46.19243645594738], [6.164573047293395, 46.192600519937464], [6.164883712548732, 46.19286300094345], [6.164665852504209, 46.19298845686137], [6.165001456932012, 46.19340927468237], [6.165081387988075, 46.19368437215116], [6.164467756128255, 46.19389455273723], [6.164257041444774, 46.19358370855986], [6.163292510625524, 46.19402129725972], [6.162531059683574, 46.19434034862607], [6.162377653763596, 46.19430290480231], [6.1619590270754045, 46.19388349653311], [6.161073844924565, 46.19427326496082], [6.160633525482006, 46.19410269116323], [6.16045123081468, 46.194334893154604], [6.160997337253002, 46.194897981360874], [6.160515352082318, 46.19510386486567], [6.159592340475188, 46.195527570170086], [6.158416661346365, 46.19601697445483], [6.158633404463256, 46.19624790772557], [6.157427145611421, 46.19668253337095], [6.157663809227189, 46.19697361345944], [6.157994693513934, 46.197380165998375], [6.158146097205111, 46.197561253873985], [6.158248921689559, 46.197684327614844], [6.157883281113985, 46.1978293438942], [6.1576318853670475, 46.19793587253069], [6.158002782135092, 46.19839148906131], [6.157838250204055, 46.198429476973864], [6.1577753542712825, 46.198322447677], [6.157570712350205, 46.1982607540663], [6.157462410153629, 46.198145282762745], [6.157429292284582, 46.19815911258664], [6.157285025688423, 46.19799187890545], [6.157352457239966, 46.19757846810809], [6.157611130952985, 46.19747093414304], [6.157780284774523, 46.19740051163046], [6.1575309921982155, 46.197095442312104], [6.157252470417411, 46.19675477294485], [6.156783519595079, 46.19693512107394], [6.157243616579087, 46.19748593230314], [6.156940285815757, 46.1976081716538], [6.1563383427757685, 46.19836680588026], [6.156461405542278, 46.19873379872015], [6.156660601005687, 46.19876988152549], [6.157161951768068, 46.199314684071815], [6.157528885227491, 46.199675853675174], [6.160083962098276, 46.19999092951577], [6.160346975602746, 46.19999669904627], [6.160632051947679, 46.19994576819123], [6.160694675271868, 46.19973217394633], [6.162022565868855, 46.19994422926177], [6.162215755633376, 46.19977222837942], [6.162577721108348, 46.19977342630307], [6.163244108190118, 46.19977819104707], [6.163860749227137, 46.19979370770017], [6.16385772954951, 46.19974509091719], [6.164680168303727, 46.19976299139964], [6.166480789547218, 46.199811335902524], [6.166751958768967, 46.19996144591074], [6.167172871282058, 46.19996680240547], [6.167536154107039, 46.20006359007614], [6.167521130487879, 46.20044644980947], [6.167817723358154, 46.20045141066963], [6.16781033574333, 46.2006677900226], [6.167512651511047, 46.200662906827326], [6.167505352819275, 46.20084881507589], [6.167586886756711, 46.2008811145034], [6.167751314845037, 46.20088584591955], [6.167749086104945, 46.20098012508319], [6.168029268664907, 46.20113748590499], [6.167589281623467, 46.20148391692405], [6.169605816830616, 46.20265939366966], [6.168180363000916, 46.20365300540344], [6.168713779835216, 46.20388457819904], [6.1685839632005735, 46.20398314311564], [6.168851111258526, 46.204168982744314], [6.168989320475483, 46.204070583941814], [6.169640079638045, 46.204566358659285], [6.170855324239918, 46.20537986147289], [6.171415111621838, 46.20572325956943], [6.171730143568038, 46.20588244174642]]]}}, {\"id\": \"7\", \"type\": \"Feature\", \"properties\": {\"AreaPerRoom\": 27.183621933621936, \"INAEND\": \"nein\", \"OS_UUID\": \"{5DF8DDBE-8D41-42A3-8F30-F9E716E39C75}\", \"PLZ\": 1209, \"RentPerArea\": 37.278601640570365, \"RentPerRoom\": 999.2236652236652, \"STATUS\": \"real\", \"SurfaceArea\": 129.66666666666666, \"UUID\": \"{3D367D5E-04A6-4FF4-9C6D-DD16E3D70903}\", \"ZUSZIFF\": 0, \"ZipCode\": 1209, \"x\": 6.123191030789287, \"y\": 46.22147417789295}, \"geometry\": {\"type\": \"Polygon\", \"coordinates\": [[[6.12173948482506, 46.215670728575404], [6.119254435742948, 46.216208469102895], [6.119244113819005, 46.216209221120636], [6.119233908806679, 46.2162104963235], [6.119223860012959, 46.21621227717731], [6.119214019265298, 46.21621456428803], [6.1192044515662545, 46.216217349418976], [6.119195196659467, 46.21622059704726], [6.119186306154097, 46.216224316773335], [6.119177832750725, 46.216228473225854], [6.119169815974784, 46.21623303987652], [6.118668399563882, 46.216396812283115], [6.118650699648757, 46.216402507206396], [6.117294807913498, 46.21653319866094], [6.115812854066276, 46.21696595132478], [6.113782723712378, 46.2175172175521], [6.112348414491514, 46.217907299649575], [6.111048195933712, 46.218277618626544], [6.110630547537338, 46.21840030775912], [6.110858022852346, 46.21869779472883], [6.111192858513672, 46.218882742302085], [6.111719828397902, 46.21921029967443], [6.112612819106758, 46.21966287607931], [6.113716928908296, 46.22022238687783], [6.113831732136397, 46.220273352448054], [6.1139409663993, 46.22026295669424], [6.11450592780667, 46.22056241751117], [6.115010192551541, 46.22083165378489], [6.115454614500279, 46.22105681214932], [6.115757745954558, 46.22120301140256], [6.116043790906638, 46.22133660287916], [6.1164219758171505, 46.22151047256587], [6.116687978357922, 46.22164006686716], [6.116952898158539, 46.22177639551458], [6.117286260847432, 46.22196863079732], [6.117300500139903, 46.221990210099634], [6.1174317616174605, 46.222070946383226], [6.117667137668594, 46.221927996959806], [6.117793720856417, 46.222023648881496], [6.117781298915874, 46.22211560463705], [6.11778124493124, 46.222119427682244], [6.1177815280816255, 46.22212324567617], [6.117782148804134, 46.222127040630134], [6.117783094140529, 46.222130812392514], [6.117784377704617, 46.22213453413189], [6.117785974016821, 46.22213818755635], [6.117787883077205, 46.222141772665886], [6.117790077439748, 46.22214535211747], [6.117792585424497, 46.22214882727674], [6.117795407250035, 46.2221521891493], [6.117798517436705, 46.22215541944325], [6.117801915984534, 46.22215851815855], [6.117805577632382, 46.22216145800883], [6.117809489421844, 46.222164238842524], [6.118562221051586, 46.22264043380509], [6.1185177717038535, 46.2226549387033], [6.118517627051461, 46.22265555779654], [6.118564923866038, 46.22268553981569], [6.119815033829383, 46.22347317572538], [6.119870101729723, 46.22350828624197], [6.119879188812576, 46.22351361061224], [6.120071838598369, 46.22367649180466], [6.120240651868609, 46.223793390054986], [6.12076757041847, 46.22415824953827], [6.121754722469281, 46.22484034510883], [6.122090918923164, 46.22514774094702], [6.1219723452063, 46.22525173823839], [6.121671120357454, 46.22550472496051], [6.121291525642989, 46.225844650802266], [6.121264734014548, 46.22587503546301], [6.121239300429162, 46.22590768518922], [6.121220853910327, 46.22594086630764], [6.121210422157826, 46.225975499502155], [6.121214590890292, 46.22601156267817], [6.121225003835081, 46.22604671807638], [6.121244272910329, 46.2260801684675], [6.121316709328364, 46.22615990756319], [6.121435707892678, 46.2262910583713], [6.121888033460128, 46.22670716069518], [6.121980308698755, 46.22675517386302], [6.122060847178507, 46.226736491129735], [6.122133406696537, 46.226696131759184], [6.122731532446687, 46.22636530976296], [6.1230606441469355, 46.22617913218127], [6.123250733786689, 46.22608587277812], [6.123468770417901, 46.226011922119746], [6.123557985723949, 46.2259806538448], [6.123839026799586, 46.22587538067912], [6.12452398752315, 46.22652586948016], [6.124873621017343, 46.22635872907212], [6.125158607317045, 46.22662884814858], [6.125201542579699, 46.226669563807214], [6.125387061358113, 46.2268427350496], [6.125331934788127, 46.22687255705742], [6.125493753357899, 46.22711462031639], [6.125780727020342, 46.22734835951978], [6.126170453978015, 46.227103480593925], [6.126783110583752, 46.22762659145317], [6.126977277258321, 46.227791988239964], [6.127686442204647, 46.22735306455255], [6.12861114820204, 46.227978754674105], [6.128719659136444, 46.22805646040461], [6.130178274951892, 46.227029256304704], [6.128475474578159, 46.22585493571655], [6.128114414252344, 46.22612029019671], [6.127950972302365, 46.22617858141385], [6.1277854708184, 46.22615560675108], [6.127636773117343, 46.22607011884458], [6.12887238889047, 46.225032010520735], [6.129367218157654, 46.22531548491585], [6.130070091651317, 46.22479165149885], [6.131007571909458, 46.22410076142577], [6.131470929609312, 46.224129790576264], [6.132154050212059, 46.22458295478285], [6.1322195669662705, 46.22468852657283], [6.132182850222683, 46.22480317141429], [6.132755371036243, 46.22515014819214], [6.133327460878989, 46.22473787215595], [6.1339259067148735, 46.224312672627285], [6.133838534396479, 46.224239426817064], [6.1335616450447725, 46.22400928872442], [6.133461139669184, 46.223926992859155], [6.133167747922873, 46.22368678437991], [6.133215894950638, 46.22365580728727], [6.132913273002822, 46.22337094791524], [6.132956701862748, 46.223340501146], [6.133246375736602, 46.2231372390861], [6.133578369387882, 46.22290425422817], [6.133751734059128, 46.22278290285957], [6.133836227542506, 46.222723762728336], [6.133508413799031, 46.22244789844831], [6.133462203878806, 46.22240902846176], [6.133149128704138, 46.22214516440842], [6.132963411819662, 46.221989070796866], [6.133092647151534, 46.22187064672422], [6.133002615863049, 46.22180416208505], [6.132809130520946, 46.221661266691754], [6.132527939465565, 46.22145337032872], [6.1324658918917345, 46.221493273057824], [6.132200560624883, 46.22129648159385], [6.132349926169725, 46.221200693573984], [6.132123144906312, 46.221032490275626], [6.132110396659427, 46.22102306693281], [6.132016638165603, 46.2210627102636], [6.131758859566143, 46.221235110319746], [6.131698549236247, 46.22128037688207], [6.131326854565611, 46.221573769065294], [6.131296954400393, 46.22159737235602], [6.130962020969322, 46.221810766274835], [6.130902282121709, 46.22183329498424], [6.130758108212429, 46.221648403233566], [6.130656047614338, 46.221580463742754], [6.1306335669532785, 46.22148367587196], [6.130621367379404, 46.22146061047861], [6.13060827538292, 46.22145309031492], [6.130592320419995, 46.221447120415526], [6.130523120904033, 46.2214254186602], [6.130573125463144, 46.22135061352796], [6.1305821346271205, 46.22133657487885], [6.130675850011305, 46.22119533066239], [6.130256005910155, 46.22085273095232], [6.130435853812477, 46.22074748324535], [6.12957541410085, 46.22013021784972], [6.12998257742178, 46.21977839426781], [6.1295316188643625, 46.219521251982215], [6.129043677497891, 46.21981500653299], [6.128824170579614, 46.22000085348994], [6.128247584208584, 46.2196591168818], [6.1275085543148755, 46.21916875123309], [6.12673180695725, 46.21853390229109], [6.12609916200272, 46.21801354463774], [6.125726615046068, 46.21828928366187], [6.125149156890031, 46.21782957170055], [6.124564601479784, 46.21750841583684], [6.123392909000264, 46.21743988534888], [6.122338010727786, 46.216738965061666], [6.1206238746323045, 46.217768983959026], [6.119725745640853, 46.216991416951736], [6.1217829620786475, 46.215738910438375], [6.12173948482506, 46.215670728575404]]]}}, {\"id\": \"8\", \"type\": \"Feature\", \"properties\": {\"AreaPerRoom\": 25.27799284049284, \"INAEND\": \"nein\", \"OS_UUID\": \"{5DF8DDBE-8D41-42A3-8F30-F9E716E39C75}\", \"PLZ\": 1204, \"RentPerArea\": 44.574250296415975, \"RentPerRoom\": 1117.3373174444603, \"STATUS\": \"real\", \"SurfaceArea\": 88.07142857142857, \"UUID\": \"{FCB46C5D-6DDB-47B4-BC27-AA674D0CB3A9}\", \"ZUSZIFF\": 0, \"ZipCode\": 1204, \"x\": 6.145689822511712, \"y\": 46.202708295777356}, \"geometry\": {\"type\": \"Polygon\", \"coordinates\": [[[6.149882480692948, 46.20684167156055], [6.1543369071268765, 46.204406087109675], [6.154829979074138, 46.20388761677938], [6.154615662796335, 46.203385315182935], [6.1543345899531, 46.20326787443851], [6.15424917991516, 46.20304980913591], [6.154332953440174, 46.20291518990989], [6.155219390117905, 46.20273235883263], [6.155153212751576, 46.20257166075528], [6.154630179585022, 46.20242293890976], [6.154337949130759, 46.20173396585996], [6.154642380983079, 46.201391764740144], [6.154517639119049, 46.201096158343866], [6.153988481622829, 46.201210160414725], [6.1536216852278915, 46.20106311373869], [6.153370892276107, 46.20049444748854], [6.153174040261686, 46.200338188250726], [6.153193094512815, 46.200052756663304], [6.152084867129296, 46.19926031601468], [6.151649959424929, 46.199538404022995], [6.15133698694153, 46.19974510664873], [6.151241500101975, 46.19966887563483], [6.15103861252523, 46.19979424292019], [6.150379658200804, 46.1993213327707], [6.150564192161862, 46.19920884748179], [6.149936827138188, 46.19874782023386], [6.150049721516062, 46.19867484112347], [6.150362090659372, 46.19868120674986], [6.1508302000256325, 46.19836940482011], [6.1505755633972585, 46.19819242733076], [6.149849261690869, 46.19868301448071], [6.149848605311746, 46.198683375851445], [6.149649677568854, 46.19853886340892], [6.14866525758099, 46.19845306339169], [6.148388820112856, 46.198487013904746], [6.1482184605137595, 46.19855625714534], [6.147816702901426, 46.19881211871988], [6.147740103365184, 46.198922460898956], [6.14717439395128, 46.198513459361465], [6.14554232278907, 46.19952570953804], [6.1444562571868655, 46.20020349200164], [6.1450167262583655, 46.20073684623907], [6.144311682491659, 46.20107812429446], [6.144191919761681, 46.20108527920155], [6.144068839605751, 46.20105815398989], [6.143967646170153, 46.20098248102303], [6.143631497040784, 46.20072376975089], [6.143358179641415, 46.20090029868508], [6.1431075884813895, 46.20071173572888], [6.143054551476031, 46.20052262509858], [6.143017083868169, 46.1994769792256], [6.142632499185402, 46.19940663297626], [6.142662421074678, 46.19934985584908], [6.142652934296133, 46.198721318355155], [6.142706141913501, 46.19871823189823], [6.142687061509746, 46.198496168903894], [6.142601009781365, 46.198312193822936], [6.142581600140447, 46.19828994659448], [6.142443862543394, 46.19813061367174], [6.142440953332669, 46.19813036432081], [6.142149142115803, 46.19811832007699], [6.142036095178119, 46.198022815006425], [6.1416000221638, 46.19802632208232], [6.141626901854484, 46.19854054809273], [6.141615980633787, 46.198705694312174], [6.1415706525282925, 46.198846162493744], [6.141447342035385, 46.19902944059992], [6.141099402067911, 46.199526202894184], [6.140735744430322, 46.200100399055906], [6.1410266628454, 46.20016496907072], [6.141027216827623, 46.200165101398326], [6.14045342826462, 46.20096967268282], [6.140244453690344, 46.20102743863524], [6.140217205588165, 46.20103990953826], [6.140201759579123, 46.20104647939291], [6.140200047657661, 46.201047089468325], [6.140198236403322, 46.201047518463795], [6.140196416704388, 46.201047758428516], [6.140194460744818, 46.20104773591674], [6.140192653498876, 46.201047454208286], [6.140190863715211, 46.201046983767284], [6.14018932433981, 46.2010463362716], [6.140188033440353, 46.201045592670525], [6.14018677231243, 46.201044687469064], [6.140185889194168, 46.201043687653076], [6.140185127165167, 46.2010425002972], [6.140184779429446, 46.20104132670643], [6.14000038996689, 46.20106843505558], [6.13965738453329, 46.201004261361014], [6.139224235620209, 46.2011327592706], [6.1393141608064346, 46.20127362381831], [6.139368664415036, 46.20125490832992], [6.139439674680661, 46.20143963943301], [6.139264684854484, 46.20159281056077], [6.138820640445584, 46.20157624244845], [6.138604684758314, 46.20149385321198], [6.138504069962904, 46.201572594669685], [6.138162607983589, 46.20157440805566], [6.138157200142278, 46.20162283867974], [6.137639262616235, 46.20160839206448], [6.136780601145053, 46.20155842390128], [6.136801562182385, 46.20137017295368], [6.135025114959015, 46.20134100499925], [6.135013252281325, 46.20140833526411], [6.134906046680717, 46.20232945301328], [6.13529907089111, 46.20237142995401], [6.135261992134166, 46.20261022770351], [6.13525751093515, 46.20262960911857], [6.1351882410407645, 46.2030713636546], [6.135171888124315, 46.20315411664103], [6.134082490940982, 46.20308116531098], [6.133941757171043, 46.20367711754078], [6.133966214682448, 46.203687647778615], [6.134022966750856, 46.2037125865346], [6.134079253184848, 46.20373803269766], [6.134135048077377, 46.20376398596898], [6.1341904235333695, 46.20379014129015], [6.134245294926447, 46.20381678558252], [6.134299675211302, 46.2038439189965], [6.134353551218929, 46.20387155037749], [6.13440689768903, 46.2038996524436], [6.134459714406502, 46.20392823418997], [6.134512001587516, 46.20395728662301], [6.1354622690291984, 46.20449460925539], [6.13607151607959, 46.20483715505025], [6.136692526478892, 46.205109747808606], [6.136698463116525, 46.20511129179655], [6.136704454586073, 46.20511271046109], [6.13671051405701, 46.20511399495736], [6.1367166281444385, 46.205115163124525], [6.136722784324555, 46.20511619682449], [6.136728982382071, 46.20511710505154], [6.136735222316945, 46.205117887805635], [6.136745189870711, 46.20511884852519], [6.136755204468917, 46.205119467906684], [6.136765265680751, 46.2051197639388], [6.136775321904025, 46.20511972702923], [6.136785373138552, 46.205119357178035], [6.136795380521071, 46.205118653936744], [6.136805331097182, 46.20511761715593], [6.137906537122609, 46.204987412221655], [6.138925188356532, 46.20485319570047], [6.1398323120561695, 46.20499060527977], [6.140910482658437, 46.204992863285675], [6.141854532984931, 46.205114945803324], [6.142709142531864, 46.20532714898293], [6.143766599182222, 46.205592307984354], [6.14480922438223, 46.20586746230218], [6.1463596918770085, 46.20623957149851], [6.1477093059186885, 46.2064777377474], [6.149191318806715, 46.20665662740449], [6.149882480692948, 46.20684167156055]]]}}]}, \"$schema\": \"https://vega.github.io/schema/vega-lite/v4.17.0.json\"}, {\"mode\": \"vega-lite\"});\n",
       "</script>"
      ],
      "text/plain": [
       "alt.LayerChart(...)"
      ]
     },
     "execution_count": 279,
     "metadata": {},
     "output_type": "execute_result"
    }
   ],
   "source": [
    "## Now we make heatmap for rent prices per room\n",
    "## Again Zipcodes 1204 and 1206 are the most expensive for the average rent price of room\n",
    "alt_rentPerRoom = alt.Chart(alt_gen).mark_geoshape(\n",
    "    stroke = 'white'\n",
    ").encode(\n",
    "    latitude = 'properties.y:Q',\n",
    "    longitude = 'properties.x:Q',\n",
    "    color = 'properties.RentPerRoom:Q'\n",
    ").properties(\n",
    "    width = 700,\n",
    "    height = 600\n",
    ")\n",
    "\n",
    "text  = alt.Chart(alt_gen).mark_text(\n",
    "        color = 'black',\n",
    "        fontWeight = 'bold'\n",
    ").encode(\n",
    "    longitude = 'properties.x:Q',\n",
    "    latitude = 'properties.y:Q',\n",
    "    text = 'properties.ZipCode:Q',\n",
    ")\n",
    "chart = alt_rentPerRoom + text\n",
    "chart"
   ]
  },
  {
   "cell_type": "code",
   "execution_count": 280,
   "id": "8454cfbf",
   "metadata": {},
   "outputs": [
    {
     "data": {
      "text/html": [
       "\n",
       "<div id=\"altair-viz-8fe5060d72e8478fa47fd3fc32eaf4e7\"></div>\n",
       "<script type=\"text/javascript\">\n",
       "  var VEGA_DEBUG = (typeof VEGA_DEBUG == \"undefined\") ? {} : VEGA_DEBUG;\n",
       "  (function(spec, embedOpt){\n",
       "    let outputDiv = document.currentScript.previousElementSibling;\n",
       "    if (outputDiv.id !== \"altair-viz-8fe5060d72e8478fa47fd3fc32eaf4e7\") {\n",
       "      outputDiv = document.getElementById(\"altair-viz-8fe5060d72e8478fa47fd3fc32eaf4e7\");\n",
       "    }\n",
       "    const paths = {\n",
       "      \"vega\": \"https://cdn.jsdelivr.net/npm//vega@5?noext\",\n",
       "      \"vega-lib\": \"https://cdn.jsdelivr.net/npm//vega-lib?noext\",\n",
       "      \"vega-lite\": \"https://cdn.jsdelivr.net/npm//vega-lite@4.17.0?noext\",\n",
       "      \"vega-embed\": \"https://cdn.jsdelivr.net/npm//vega-embed@6?noext\",\n",
       "    };\n",
       "\n",
       "    function maybeLoadScript(lib, version) {\n",
       "      var key = `${lib.replace(\"-\", \"\")}_version`;\n",
       "      return (VEGA_DEBUG[key] == version) ?\n",
       "        Promise.resolve(paths[lib]) :\n",
       "        new Promise(function(resolve, reject) {\n",
       "          var s = document.createElement('script');\n",
       "          document.getElementsByTagName(\"head\")[0].appendChild(s);\n",
       "          s.async = true;\n",
       "          s.onload = () => {\n",
       "            VEGA_DEBUG[key] = version;\n",
       "            return resolve(paths[lib]);\n",
       "          };\n",
       "          s.onerror = () => reject(`Error loading script: ${paths[lib]}`);\n",
       "          s.src = paths[lib];\n",
       "        });\n",
       "    }\n",
       "\n",
       "    function showError(err) {\n",
       "      outputDiv.innerHTML = `<div class=\"error\" style=\"color:red;\">${err}</div>`;\n",
       "      throw err;\n",
       "    }\n",
       "\n",
       "    function displayChart(vegaEmbed) {\n",
       "      vegaEmbed(outputDiv, spec, embedOpt)\n",
       "        .catch(err => showError(`Javascript Error: ${err.message}<br>This usually means there's a typo in your chart specification. See the javascript console for the full traceback.`));\n",
       "    }\n",
       "\n",
       "    if(typeof define === \"function\" && define.amd) {\n",
       "      requirejs.config({paths});\n",
       "      require([\"vega-embed\"], displayChart, err => showError(`Error loading script: ${err.message}`));\n",
       "    } else {\n",
       "      maybeLoadScript(\"vega\", \"5\")\n",
       "        .then(() => maybeLoadScript(\"vega-lite\", \"4.17.0\"))\n",
       "        .then(() => maybeLoadScript(\"vega-embed\", \"6\"))\n",
       "        .catch(showError)\n",
       "        .then(() => displayChart(vegaEmbed));\n",
       "    }\n",
       "  })({\"config\": {\"view\": {\"continuousWidth\": 400, \"continuousHeight\": 300}}, \"layer\": [{\"mark\": {\"type\": \"geoshape\", \"stroke\": \"white\"}, \"encoding\": {\"color\": {\"field\": \"properties.AreaPerRoom\", \"type\": \"quantitative\"}, \"latitude\": {\"field\": \"properties.y\", \"type\": \"quantitative\"}, \"longitude\": {\"field\": \"properties.x\", \"type\": \"quantitative\"}}, \"height\": 600, \"width\": 700}, {\"mark\": {\"type\": \"text\", \"color\": \"black\", \"fontWeight\": \"bold\"}, \"encoding\": {\"latitude\": {\"field\": \"properties.y\", \"type\": \"quantitative\"}, \"longitude\": {\"field\": \"properties.x\", \"type\": \"quantitative\"}, \"text\": {\"field\": \"properties.ZipCode\", \"type\": \"quantitative\"}}}], \"data\": {\"values\": [{\"id\": \"0\", \"type\": \"Feature\", \"properties\": {\"AreaPerRoom\": 22.243253968253967, \"INAEND\": \"nein\", \"OS_UUID\": \"{5DF8DDBE-8D41-42A3-8F30-F9E716E39C75}\", \"PLZ\": 1202, \"RentPerArea\": 37.05922994957778, \"RentPerRoom\": 818.934074074074, \"STATUS\": \"real\", \"SurfaceArea\": 85.26666666666667, \"UUID\": \"{5BCFFFAB-44EC-4FA9-933B-0EFE6BB05565}\", \"ZUSZIFF\": 0, \"ZipCode\": 1202, \"x\": 6.14317016276625, \"y\": 46.22095458497331}, \"geometry\": {\"type\": \"Polygon\", \"coordinates\": [[[6.166700525903562, 46.22446680582352], [6.165925430814878, 46.22245529155333], [6.162738353838119, 46.216614094209106], [6.161900290885797, 46.21522384980327], [6.155766068490644, 46.217358831696124], [6.15124492169364, 46.216281977319305], [6.151086739464021, 46.21533224066228], [6.150718469107313, 46.21528477244813], [6.150718016496567, 46.21528746632861], [6.1506029588714535, 46.21527471814571], [6.150552582805488, 46.21521286578781], [6.150484819694935, 46.21516883556373], [6.150809602481924, 46.21448592322202], [6.150900364503847, 46.21422695090703], [6.150810934622865, 46.21403564757951], [6.149756503396057, 46.21417259628044], [6.1493800903193865, 46.214311525735475], [6.149150595665274, 46.214004271054485], [6.149400178072363, 46.213890613968054], [6.148977936017631, 46.213333474048426], [6.1491994320236625, 46.21324549725659], [6.14911053487924, 46.21309216518357], [6.1488722042694866, 46.21316321528688], [6.148457511378124, 46.21329891505071], [6.148611116002387, 46.2134779086233], [6.148303008789096, 46.21359476338817], [6.148046291080968, 46.21372507054712], [6.147909780825624, 46.21355211965993], [6.147535757177286, 46.21370501538074], [6.146977939349711, 46.21394604440935], [6.146448299047578, 46.21415185593938], [6.146289261007742, 46.21420716451941], [6.146402290511126, 46.21435366775216], [6.146021295204576, 46.214515925410836], [6.145856375540104, 46.21438790060633], [6.14522940525461, 46.21479493016718], [6.145364742012934, 46.21488948153086], [6.145212925268374, 46.21498977457898], [6.145212784247912, 46.21504474360074], [6.144522918221018, 46.21553671631822], [6.140423650527468, 46.2154674096279], [6.140430973491494, 46.21499237073236], [6.14018097268135, 46.21469916632871], [6.140053760653093, 46.21455024426399], [6.140001170860718, 46.214473075947645], [6.1404953480186535, 46.21430989126532], [6.1403441610381035, 46.21346064960516], [6.139858221624356, 46.21273656995751], [6.139154065088508, 46.21182230115527], [6.138298407050297, 46.21211797672612], [6.137900469112568, 46.212056260319166], [6.137611390691518, 46.212102950107685], [6.137077465948877, 46.21271442622174], [6.136787558850348, 46.212579008223905], [6.136628569910238, 46.212345145175135], [6.136172559272179, 46.21165955897472], [6.136502750076257, 46.21151789977493], [6.136418928806876, 46.21141776022332], [6.136792943171154, 46.2112496963773], [6.136555711203606, 46.211003864331104], [6.136433170209131, 46.21087712414066], [6.136013664566503, 46.21087228203182], [6.135918089150844, 46.210766815214654], [6.13622512000883, 46.21063585665597], [6.136631436433396, 46.21046618694217], [6.136553108275449, 46.210387280441594], [6.136454906757292, 46.210277825166884], [6.135873602914887, 46.21050323379267], [6.135521571958792, 46.21038131013049], [6.135201640868713, 46.210336769184885], [6.1351433753546285, 46.210280585555715], [6.135855122795551, 46.209981743105786], [6.135850903665111, 46.209773777258945], [6.135933283290671, 46.20896933067376], [6.13513425831546, 46.20891997684568], [6.135137728516569, 46.20837021956549], [6.134899613772944, 46.20843179594179], [6.134884189651403, 46.208718437242986], [6.133399342743762, 46.2090868755025], [6.133290798266145, 46.20889038815007], [6.133175440742268, 46.20892378138879], [6.133030450124655, 46.20902556757709], [6.132684982968899, 46.20905728712121], [6.132354744606566, 46.20908404471576], [6.132296128003318, 46.20900920502911], [6.132081390802238, 46.209061365573874], [6.132010663425156, 46.20907638102781], [6.13140280815081, 46.209387199254714], [6.131372906522594, 46.20969310578784], [6.130356125188633, 46.21056112386923], [6.1296959109729405, 46.21056408341168], [6.129689670193956, 46.210817992352666], [6.129368755714224, 46.21081975727768], [6.1293752464565685, 46.21104538386917], [6.1296881943296775, 46.211046225553424], [6.129688323822016, 46.211503897297234], [6.12926991321042, 46.21149643380155], [6.129270588872294, 46.21240494462252], [6.129007513851845, 46.21252307940255], [6.129182332847565, 46.21270099684457], [6.1292670997621626, 46.212711337216], [6.129763546568301, 46.21324611208151], [6.129715824584564, 46.21366733135108], [6.129536821100284, 46.213743797461355], [6.128840698336542, 46.21366482430604], [6.128101674764305, 46.21396789524544], [6.127624639855809, 46.214192673840145], [6.1263714555244375, 46.21421715396709], [6.126111951338808, 46.21434243123986], [6.125745936691429, 46.21403192004913], [6.123963949358538, 46.21486731572546], [6.124292379392764, 46.215172266791875], [6.12173948482506, 46.215670728575404], [6.1217829620786475, 46.215738910438375], [6.119725745640853, 46.216991416951736], [6.1206238746323045, 46.217768983959026], [6.122338010727786, 46.216738965061666], [6.123392909000264, 46.21743988534888], [6.124564601479784, 46.21750841583684], [6.125149156890031, 46.21782957170055], [6.125726615046068, 46.21828928366187], [6.12609916200272, 46.21801354463774], [6.12673180695725, 46.21853390229109], [6.1275085543148755, 46.21916875123309], [6.128247584208584, 46.2196591168818], [6.128824170579614, 46.22000085348994], [6.129043677497891, 46.21981500653299], [6.1295316188643625, 46.219521251982215], [6.12998257742178, 46.21977839426781], [6.12957541410085, 46.22013021784972], [6.130435853812477, 46.22074748324535], [6.130256005910155, 46.22085273095232], [6.130675850011305, 46.22119533066239], [6.1305821346271205, 46.22133657487885], [6.130573125463144, 46.22135061352796], [6.130523120904033, 46.2214254186602], [6.130592320419995, 46.221447120415526], [6.13060827538292, 46.22145309031492], [6.130621367379404, 46.22146061047861], [6.1306335669532785, 46.22148367587196], [6.130656047614338, 46.221580463742754], [6.130758108212429, 46.221648403233566], [6.130902282121709, 46.22183329498424], [6.130962020969322, 46.221810766274835], [6.131296954400393, 46.22159737235602], [6.131326854565611, 46.221573769065294], [6.131698549236247, 46.22128037688207], [6.131758859566143, 46.221235110319746], [6.132016638165603, 46.2210627102636], [6.132110396659427, 46.22102306693281], [6.132123144906312, 46.221032490275626], [6.132349926169725, 46.221200693573984], [6.132200560624883, 46.22129648159385], [6.1324658918917345, 46.221493273057824], [6.132527939465565, 46.22145337032872], [6.132809130520946, 46.221661266691754], [6.133002615863049, 46.22180416208505], [6.133092647151534, 46.22187064672422], [6.132963411819662, 46.221989070796866], [6.133149128704138, 46.22214516440842], [6.133462203878806, 46.22240902846176], [6.133508413799031, 46.22244789844831], [6.133836227542506, 46.222723762728336], [6.133751734059128, 46.22278290285957], [6.133578369387882, 46.22290425422817], [6.133246375736602, 46.2231372390861], [6.132956701862748, 46.223340501146], [6.132913273002822, 46.22337094791524], [6.133215894950638, 46.22365580728727], [6.133167747922873, 46.22368678437991], [6.133461139669184, 46.223926992859155], [6.1335616450447725, 46.22400928872442], [6.133838534396479, 46.224239426817064], [6.1339259067148735, 46.224312672627285], [6.133327460878989, 46.22473787215595], [6.132755371036243, 46.22515014819214], [6.132182850222683, 46.22480317141429], [6.1322195669662705, 46.22468852657283], [6.132154050212059, 46.22458295478285], [6.131470929609312, 46.224129790576264], [6.131007571909458, 46.22410076142577], [6.130070091651317, 46.22479165149885], [6.129367218157654, 46.22531548491585], [6.12887238889047, 46.225032010520735], [6.127636773117343, 46.22607011884458], [6.1277854708184, 46.22615560675108], [6.127950972302365, 46.22617858141385], [6.128114414252344, 46.22612029019671], [6.128475474578159, 46.22585493571655], [6.130178274951892, 46.227029256304704], [6.128719659136444, 46.22805646040461], [6.128291220283133, 46.22833716506196], [6.128280479433157, 46.228343913979785], [6.12827043923188, 46.228351174855234], [6.128261152819346, 46.22835889432412], [6.128252659508883, 46.22836705484928], [6.128245025617233, 46.22837559422275], [6.128238251578372, 46.22838449445604], [6.128232403709269, 46.22839369334099], [6.128227482660718, 46.22840316389478], [6.1282235420068565, 46.228412834764576], [6.128220569221961, 46.228422687811204], [6.128218604920385, 46.228432651531364], [6.1282180186219595, 46.22843600055692], [6.12821753578549, 46.228439359780495], [6.1282171825476635, 46.2284427205086], [6.128216932771881, 46.22844609143477], [6.128216786675004, 46.228449463564594], [6.128216770176742, 46.22845283719901], [6.128216857357424, 46.228456212037095], [6.128217067125829, 46.228458265758576], [6.128217315990626, 46.228460310937116], [6.128217616911765, 46.2284623477231], [6.128217943535827, 46.22846439380435], [6.128218322216192, 46.22846643149308], [6.128218752952863, 46.2284684607893], [6.128219209609312, 46.22847049038643], [6.1282216351600916, 46.228479038581], [6.128224789716488, 46.228487460285834], [6.128228686672253, 46.228495737662655], [6.128233287798454, 46.228503843277004], [6.128238594179263, 46.22851173215681], [6.1282445671521355, 46.2285193948565], [6.128251207801167, 46.22852678640412], [6.128258464937347, 46.22853387921468], [6.128266338777628, 46.22854066429368], [6.128292572062664, 46.228559691319724], [6.1285873414942165, 46.22877306379413], [6.128717685463735, 46.228867415201066], [6.128966762790068, 46.229053283773986], [6.129168101846224, 46.22920341123055], [6.129657894999267, 46.22952485527151], [6.129864310098542, 46.22965275507358], [6.129888509372913, 46.22971916262243], [6.130103767762813, 46.22987288654579], [6.130155647299626, 46.23008140552232], [6.130175718532769, 46.23008773806199], [6.130195132204569, 46.23009499864991], [6.130213798459794, 46.23010315025727], [6.130231614266228, 46.230112164699676], [6.130248515905341, 46.230121996254574], [6.130264413737761, 46.230132598899054], [6.130279244044522, 46.230143926910586], [6.130287264534524, 46.2301392515363], [6.130593148085951, 46.230352054661594], [6.1310036667047445, 46.230644611745184], [6.1312112849722515, 46.23030231983167], [6.131733271563243, 46.23025672261161], [6.132606333627516, 46.23031846955386], [6.132768301196214, 46.23053666397635], [6.133545659043099, 46.23100868678071], [6.1331188344125005, 46.231583418844075], [6.133079464599397, 46.231613543837064], [6.133028275072551, 46.231607346732474], [6.132807675810097, 46.23151289206705], [6.132785187130141, 46.23153106647951], [6.132709804178272, 46.23159242568335], [6.132651459704616, 46.2316622680783], [6.132410581588395, 46.23185445196232], [6.132062248074712, 46.23211482043077], [6.1320757847436065, 46.23212553043337], [6.132335890353883, 46.23231860846896], [6.13199723309366, 46.2326029124502], [6.1322378061264144, 46.23277374927408], [6.131869091882621, 46.23305542885684], [6.132281296905785, 46.233306992831224], [6.132567874851152, 46.233082733258584], [6.132954735723063, 46.2327800107455], [6.1330125545433525, 46.23282439525183], [6.1330488855248575, 46.232852282873466], [6.133673136956419, 46.23333147642011], [6.133897047081312, 46.23350334056284], [6.13394060962188, 46.233536781562094], [6.134404837304984, 46.23390851614639], [6.13443857143406, 46.23391122708123], [6.1348472324626115, 46.23394426983077], [6.134913010342367, 46.23395260487865], [6.134971431748845, 46.233968736179364], [6.135986342868699, 46.23424783894683], [6.136307058791734, 46.234192996857594], [6.137361152279174, 46.23340439673771], [6.136226987928987, 46.232812018413455], [6.136178285397783, 46.23278691306672], [6.136144412569067, 46.232769455197825], [6.136129570166179, 46.232761798555046], [6.136508870944273, 46.23241221125093], [6.136902696103201, 46.232048161345354], [6.1369641593596445, 46.23199133523635], [6.137026970605943, 46.2319843312196], [6.137958190701751, 46.23141130436579], [6.138163361109417, 46.23129968718321], [6.1381657070973255, 46.23129645735098], [6.135952666454029, 46.23065735403225], [6.135922702314232, 46.23062669781996], [6.136339444066163, 46.23035658973126], [6.136530326195773, 46.23016492761403], [6.1366038241515675, 46.230068879317955], [6.136659412892164, 46.22993626812098], [6.136730648567559, 46.22968185803575], [6.1368374885098005, 46.229468317393405], [6.1368540874348785, 46.22947188264743], [6.1369523579807925, 46.22922908427932], [6.137182885903188, 46.22891681669002], [6.137304286213043, 46.2286884187906], [6.137440287944309, 46.22849336948692], [6.137511140184805, 46.22842374989215], [6.137839942405474, 46.2282320740275], [6.137917760356688, 46.22819149532505], [6.137943282930694, 46.22818129910944], [6.138239357278175, 46.22812317207785], [6.13824878993166, 46.22812174228859], [6.138258307064494, 46.2281205743805], [6.138267870227604, 46.2281196499168], [6.138277479206077, 46.22811897789191], [6.138287120825032, 46.2281185671509], [6.138296782339895, 46.228118408550024], [6.138306437616136, 46.22811851078513], [6.1383160745545045, 46.228118837729355], [6.13832569294004, 46.22811939837715], [6.138335280243267, 46.2281201745904], [6.138344823074271, 46.22812118420864], [6.138354308903515, 46.228122409093764], [6.138363724556298, 46.22812385809095], [6.13837307003263, 46.22812553120013], [6.13923662833058, 46.228033766459944], [6.139469738922167, 46.22866182066649], [6.138836845488196, 46.22883920369076], [6.138839992219938, 46.22885181752131], [6.138842943693138, 46.22886446509067], [6.138845687377667, 46.22887712826091], [6.138848210098367, 46.22888981587715], [6.138850525030158, 46.228902519094255], [6.13885263217289, 46.2289152379123], [6.138854518351353, 46.22892798117632], [6.138855617965657, 46.22893566815069], [6.138856587765147, 46.228943362627035], [6.138857440924747, 46.22895105576024], [6.13885816405439, 46.228958765389834], [6.1388587703290565, 46.22896648267063], [6.138859247003682, 46.22897419845907], [6.138859607038311, 46.22898191290439], [6.138860371844195, 46.22898950605481], [6.138861006835041, 46.228997106707276], [6.138861537930802, 46.22900471516015], [6.138861952386464, 46.22901232226996], [6.1388622502019805, 46.2290199280366], [6.138862418202206, 46.22902754130526], [6.138862482522196, 46.22903515338001], [6.138862635842198, 46.22904283845442], [6.138862724147039, 46.229050531777006], [6.138862760826774, 46.22905821550825], [6.138862745451315, 46.22906590763697], [6.138862665275602, 46.229073599019486], [6.138862533474765, 46.22908128081073], [6.138862349618663, 46.22908897099934], [6.138858292161593, 46.229297723146125], [6.138858272757521, 46.22930612597958], [6.138858149672676, 46.22931452761916], [6.138857909946881, 46.22932292791558], [6.138857553580033, 46.22933132686889], [6.13885709353226, 46.22933972462828], [6.138856516843377, 46.229348121044545], [6.138855836688462, 46.22935650727251], [6.138851440847144, 46.229415116108974], [6.138851110398954, 46.22942351536078], [6.13885054645333, 46.22943192092064], [6.1388497626154415, 46.22944030595473], [6.138848758455057, 46.22944868845178], [6.138847521441998, 46.22945705027371], [6.138846064536366, 46.22946539156989], [6.138844374562811, 46.22947372118533], [6.138820508996949, 46.22961033342429], [6.1388183145432995, 46.22961970086473], [6.138816042542924, 46.22962905841531], [6.138813718701103, 46.229638415368825], [6.138811330272549, 46.22964776258174], [6.138808877257378, 46.22965710005403], [6.13880635965546, 46.229666427785695], [6.138803777466813, 46.229675745776696], [6.138801143866618, 46.22968504518192], [6.138798445464586, 46.22969434384087], [6.138795708181071, 46.22970364205201], [6.13879293244611, 46.22971292182664], [6.13879009190923, 46.22972220085496], [6.138787212705806, 46.22973147044106], [6.1387842818756875, 46.229740730435786], [6.138781286888726, 46.22974996270107], [6.138778240274921, 46.22975918537494], [6.138775167954768, 46.22976839875586], [6.138772056752913, 46.22977761168894], [6.13876890688444, 46.22978681517984], [6.138765718349332, 46.229796009228565], [6.138762490932468, 46.22980520282944], [6.138766416176324, 46.22981778963991], [6.13860135839524, 46.2301523979076], [6.138532566579507, 46.230291947456536], [6.138638300239124, 46.230274595730194], [6.138709622425034, 46.23026288450564], [6.139346665457331, 46.23015830726284], [6.140227203236955, 46.22996264551253], [6.140975053121007, 46.229772298231275], [6.141941273065969, 46.22953079768996], [6.142864268176139, 46.22929997586196], [6.1429605078290175, 46.229574773524135], [6.143427955269847, 46.230636322361356], [6.1434637128292024, 46.230514852453275], [6.143634023348159, 46.230165866743256], [6.1436604502928445, 46.23012966974803], [6.1436982364098665, 46.23009879423811], [6.143844604980346, 46.230022848569156], [6.143926725420973, 46.22997734884476], [6.144074634510329, 46.22989384521713], [6.144278949181699, 46.22975913044245], [6.144536755865872, 46.229608969242584], [6.145050266126373, 46.22928734350838], [6.1456310190838135, 46.22892455156519], [6.145673919812226, 46.228891664735656], [6.145882675417112, 46.22872741643196], [6.145841680126497, 46.228258778588064], [6.145755719382108, 46.22782324685989], [6.145575562780491, 46.227293158863894], [6.146152263324865, 46.22694546880192], [6.146292978937442, 46.22710083594765], [6.146696749086424, 46.226731190055595], [6.146994665966982, 46.2263535838588], [6.147663190965371, 46.2261941611512], [6.148205921262683, 46.22605326934573], [6.148940759097113, 46.22779216342412], [6.149472143236855, 46.22766396521238], [6.166700525903562, 46.22446680582352]]]}}, {\"id\": \"1\", \"type\": \"Feature\", \"properties\": {\"AreaPerRoom\": 19.320108378619015, \"INAEND\": \"nein\", \"OS_UUID\": \"{5DF8DDBE-8D41-42A3-8F30-F9E716E39C75}\", \"PLZ\": 1203, \"RentPerArea\": 37.527644727390005, \"RentPerRoom\": 716.1314896687237, \"STATUS\": \"real\", \"SurfaceArea\": 64.23404255319149, \"UUID\": \"{54A45D65-97A3-45A1-8DB2-FA3E6E540269}\", \"ZUSZIFF\": 0, \"ZipCode\": 1203, \"x\": 6.122096309702056, \"y\": 46.207852041497006}, \"geometry\": {\"type\": \"Polygon\", \"coordinates\": [[[6.135137728516569, 46.20837021956549], [6.134704800361071, 46.207979612378814], [6.1349654754314065, 46.207884468955875], [6.134659400690358, 46.20751125159497], [6.134348375635405, 46.20761480912324], [6.134253350970387, 46.20750295941275], [6.1346936555686185, 46.20736886749297], [6.134435597641631, 46.20697668122834], [6.134223281173215, 46.20703855431371], [6.134098622790052, 46.206876429350395], [6.13332903250813, 46.2058319731882], [6.133403996099945, 46.20583786966618], [6.13404820680593, 46.20588868516918], [6.134324162118555, 46.20591247841661], [6.134623469431904, 46.2059491904513], [6.134525956430717, 46.20568883721411], [6.134239046938657, 46.20563232222473], [6.134277237665766, 46.20547818889789], [6.1342795370308645, 46.20547632614227], [6.134297471642593, 46.20545252089168], [6.134307674795971, 46.20542690786083], [6.134311953429616, 46.205399786843174], [6.134307015031024, 46.205373368987956], [6.134295577876569, 46.205347775687564], [6.134278533897941, 46.20532363803372], [6.133919214004591, 46.204902110620324], [6.133866005554052, 46.204840676602956], [6.133809794011879, 46.20478019748169], [6.133749776236916, 46.20472174358484], [6.1336833311796, 46.20466654414958], [6.133611749951957, 46.2046147940355], [6.133535293797147, 46.204566406286204], [6.133454478722912, 46.20452147682971], [6.133369816416151, 46.204480281481835], [6.13328277715961, 46.20444148771755], [6.133180229740457, 46.20440044516921], [6.13305488965909, 46.20435347075895], [6.131189630915852, 46.204018375438], [6.131619661827826, 46.20311065433519], [6.129165932634609, 46.203186646068445], [6.1290175517354015, 46.20318953916427], [6.128869109547896, 46.20318905753224], [6.128720774499737, 46.20318520312727], [6.128572689110764, 46.20317797760437], [6.128425034329006, 46.20316740105942], [6.1282779528903895, 46.20315346615457], [6.128131612788187, 46.20313619283692], [6.127972944830777, 46.20311645492487], [6.126800639353945, 46.202963549562604], [6.1265999907607025, 46.20293519740262], [6.126400730910056, 46.20290246157074], [6.126203066674015, 46.20286536247397], [6.126007191317806, 46.20282394735315], [6.125813285368115, 46.202778254305215], [6.125621568210717, 46.20272832188057], [6.125432219716355, 46.20267421516161], [6.125188588233735, 46.202599925988544], [6.1221371744993895, 46.20169078227172], [6.122097295412475, 46.20167888188727], [6.1220575372783035, 46.20166680296263], [6.1220179003149955, 46.201654536503575], [6.12197837156934, 46.201642082359136], [6.1219389769486465, 46.20162944083174], [6.121899690110842, 46.201616629607784], [6.1218605376163024, 46.20160362200686], [6.12182017503033, 46.20158975456208], [6.121779947007765, 46.201575681745304], [6.12173986584901, 46.20156143069087], [6.1216999322076875, 46.2015469744159], [6.1216601326951725, 46.201532330758006], [6.1216204802651815, 46.201517499868636], [6.121580988089198, 46.20150247290466], [6.121408409955136, 46.20143676922101], [6.120606366967337, 46.201131431854556], [6.120420594019835, 46.20106601332749], [6.120229162596841, 46.20100901241533], [6.120032844156306, 46.20096067202552], [6.119832463048495, 46.20092119070436], [6.1196288444866855, 46.20089073102603], [6.119422814548899, 46.200869419593204], [6.119215251993051, 46.200857347642966], [6.119121913450244, 46.20085400677003], [6.118779256232582, 46.20085017844981], [6.118437060019432, 46.200863124662376], [6.118097023339387, 46.200892784325326], [6.117760859648233, 46.2009390155794], [6.1174302068818935, 46.201001585732044], [6.11710674382528, 46.201080181615794], [6.1167920474138775, 46.20117441691225], [6.116205561872635, 46.20136728352163], [6.116155124833479, 46.201384137251914], [6.116104988366233, 46.20140141733699], [6.116055152251208, 46.201419132771605], [6.116005655785149, 46.20143726602304], [6.115956472841777, 46.20145582578243], [6.115907616373641, 46.20147481220196], [6.115859112724228, 46.201494207597236], [6.115809181635124, 46.20151475582969], [6.11575964134597, 46.20153574947012], [6.1157104920746574, 46.20155717952486], [6.115661733820565, 46.20157904599434], [6.115613392708597, 46.201601340188475], [6.115565455565875, 46.20162407095035], [6.1155179487362785, 46.2016472205956], [6.114297515131453, 46.20225017729607], [6.114143533020533, 46.20232298084863], [6.113985369959878, 46.202391335629684], [6.113823288112319, 46.202455118743266], [6.113657588067958, 46.20251422573981], [6.1134885186068715, 46.202568551562244], [6.11331637967034, 46.20261801874654], [6.113141458688195, 46.20266253168935], [6.113047164261744, 46.20268500466281], [6.112555188681228, 46.2028023005831], [6.112389758013883, 46.202837504179676], [6.112221315311896, 46.202864970787054], [6.112050602295798, 46.2028845741589], [6.111878398674668, 46.20289622448738], [6.111705457156285, 46.202899876636344], [6.111532542745485, 46.20289551260949], [6.1113604327425755, 46.20288314155035], [6.110823442695618, 46.20282983215407], [6.110750216203387, 46.203243987990675], [6.110658754308094, 46.203761222497725], [6.110627565850639, 46.203802061165156], [6.110531427821579, 46.203928037630526], [6.110474527717589, 46.20425131897678], [6.110466720696771, 46.204294034294584], [6.110445513894016, 46.20441481086595], [6.110414981094292, 46.20458902716084], [6.1103942573778065, 46.20467939991118], [6.110327549426365, 46.20497125655818], [6.110258872854109, 46.205371808478475], [6.110235802433535, 46.205506247363125], [6.110232494151526, 46.20556795410275], [6.110233481302577, 46.20562356653666], [6.110240581411277, 46.20567772147065], [6.110251163746397, 46.2057224706627], [6.110266435829287, 46.2057662044376], [6.110275717350227, 46.20578463139088], [6.110287704535648, 46.205808470340976], [6.110316433965453, 46.20584768415886], [6.110350375966313, 46.205885699769574], [6.1103917833234185, 46.20592047440311], [6.110439384538645, 46.20595101242158], [6.1104932281464075, 46.20597585689166], [6.110552271198664, 46.2059942038013], [6.1106185802460775, 46.20600632937944], [6.110654522558508, 46.20605318539602], [6.110830907271335, 46.20628523990152], [6.110837900518197, 46.20629443605378], [6.1109873703823245, 46.20649684368201], [6.111010927817886, 46.206525011248324], [6.111162041438755, 46.20670206673366], [6.111590500958087, 46.20729884152098], [6.111932367664888, 46.2077994453079], [6.111970401503282, 46.207855214404724], [6.111983750507674, 46.20787480464791], [6.112040963833606, 46.20795870758645], [6.112125760791577, 46.20811722212415], [6.11228610278388, 46.20837477174714], [6.112401124020081, 46.20854272820648], [6.112470173564273, 46.20862117396847], [6.112486528584838, 46.20863548231596], [6.1126604217876, 46.20881040124579], [6.1128760157581, 46.20903325047959], [6.112902313625098, 46.209054873101515], [6.113030792146907, 46.20917912715438], [6.113191274713388, 46.209334967217295], [6.113193766903273, 46.20933373692766], [6.113495153290494, 46.20962575311883], [6.113502355431797, 46.2096226887889], [6.1135409137135, 46.2096118415137], [6.113555750075527, 46.2096406348528], [6.113572334084999, 46.209668971877754], [6.11359064136746, 46.209696789323274], [6.11361063415456, 46.209724041760644], [6.113632274896983, 46.20975067476655], [6.113655525606645, 46.209776651906466], [6.113680348733658, 46.209801918757115], [6.113977443970713, 46.2100904913907], [6.114145099365808, 46.21025693161031], [6.114264356589447, 46.21038810252939], [6.114268293437568, 46.21038661926497], [6.114340159079022, 46.21046404424714], [6.114355846662541, 46.210480791633344], [6.114409633230314, 46.2105385711081], [6.114507466379823, 46.210648599553664], [6.114513817670129, 46.21065493591925], [6.114520483837886, 46.21066111403547], [6.114527452146509, 46.21066712475582], [6.114534709421479, 46.210672976922694], [6.114542256319824, 46.21067864355297], [6.114550066711275, 46.21068413333686], [6.114558153989522, 46.210689428437746], [6.114567233523331, 46.21069388947393], [6.114576739024715, 46.21069788766947], [6.114586632064639, 46.21070140457964], [6.114596874214073, 46.210704421759615], [6.114607388177108, 46.210706920308546], [6.114618135086683, 46.21070889977032], [6.114629063777005, 46.21071033255378], [6.114640641963291, 46.210711170165595], [6.114652271278775, 46.210711504550346], [6.114663912637421, 46.21071134424634], [6.114675514435351, 46.21071067965126], [6.114687037586588, 46.21070951930332], [6.114698430049346, 46.210707871588866], [6.114709666131169, 46.21070572720952], [6.114720680396815, 46.210703112388366], [6.114731433979285, 46.210700026669436], [6.114912778400715, 46.210952195717084], [6.114627083744452, 46.211078048149226], [6.114631423609263, 46.21107704643564], [6.114635837485553, 46.21107619853737], [6.114640299681026, 46.21107549515611], [6.114644796801973, 46.21107495412846], [6.114649342242179, 46.211074557617835], [6.114653896915561, 46.21107431416245], [6.114658473558908, 46.21107423290866], [6.114662416286014, 46.21107463904562], [6.114666302811121, 46.2110752244608], [6.114670133353279, 46.21107598015982], [6.114673882220049, 46.211076896844425], [6.114677549192497, 46.21107798350893], [6.114681108578228, 46.211079230854914], [6.1146845346848835, 46.21108062958416], [6.1146878406870675, 46.211082170854304], [6.11469098749882, 46.21108386320365], [6.114692278725997, 46.211084589107905], [6.114693543384985, 46.2110853416911], [6.114694781475689, 46.211086120953226], [6.114695980261446, 46.21108691774795], [6.114697152478968, 46.21108774122161], [6.114698298347215, 46.21108858237985], [6.114699404691507, 46.211089450065], [6.1147037466420775, 46.21109315374584], [6.1147078914113395, 46.211096972072525], [6.114711813087928, 46.21110090474111], [6.1147154991539585, 46.211104933610905], [6.114718975520848, 46.21110905898601], [6.1147222162771175, 46.211113280562365], [6.114725208905003, 46.21111758019948], [6.114749843124822, 46.21116662336352], [6.114792186060896, 46.2112734453743], [6.114809054896482, 46.211304502608236], [6.114865653062826, 46.21129314676011], [6.114937038541919, 46.211370682667976], [6.114963725317351, 46.21139876911713], [6.115039797186615, 46.21147438961263], [6.11511556132306, 46.21154615577713], [6.115184926606445, 46.211609812618434], [6.1152647627574135, 46.21168148248747], [6.115310814967195, 46.21172699801393], [6.11540205148441, 46.21181163104047], [6.115450273811709, 46.21185851249206], [6.115511538414898, 46.211918511366655], [6.115636148173499, 46.21204303184885], [6.115659655813015, 46.21206705024698], [6.115719539863347, 46.21212947997108], [6.11574836171139, 46.21216092910269], [6.115777751952374, 46.21219298768145], [6.115793172776977, 46.21220955179318], [6.115859293529306, 46.212283588562], [6.115922823091857, 46.21235813472977], [6.115939329325728, 46.212378031394856], [6.115954568359708, 46.212396212792164], [6.116085656020602, 46.21256193345563], [6.116177463015206, 46.21268503420376], [6.116212165001012, 46.2127315769239], [6.116313132546496, 46.212870241560594], [6.116305936710112, 46.212884228367265], [6.116291558201067, 46.21291219313685], [6.1162747724948305, 46.21294481707344], [6.116356592205048, 46.21305657251373], [6.116485623188017, 46.213233973533534], [6.116644101129195, 46.21345184549121], [6.116803282718988, 46.21367067912599], [6.116938562084659, 46.21385666384439], [6.1170737922979574, 46.21404257584065], [6.1172093118169935, 46.214228886916416], [6.117344832263979, 46.214415197831045], [6.117480191103676, 46.214601263765815], [6.117615631361579, 46.214788284151766], [6.11777367893674, 46.21500450296508], [6.1178167782359845, 46.21506400899744], [6.117872415168879, 46.215139856145306], [6.117880997982688, 46.21515200342625], [6.117889515361633, 46.21516417693134], [6.117897993655931, 46.21517635897509], [6.117906406733705, 46.21518855824872], [6.117914767333231, 46.21520078389821], [6.117923075891322, 46.21521301793475], [6.117931331971065, 46.21522527834723], [6.117943062446078, 46.21524283360147], [6.1179546754446, 46.21526042346708], [6.117966170966635, 46.21527804794415], [6.117977561968722, 46.215295707184325], [6.117988835494053, 46.21531340103596], [6.118000004499318, 46.21533112965074], [6.118011056027692, 46.215348892877074], [6.11831437462989, 46.21583759007369], [6.118432196349249, 46.216027201314645], [6.118785971012726, 46.21597366950741], [6.119254435742948, 46.216208469102895], [6.12173948482506, 46.215670728575404], [6.124292379392764, 46.215172266791875], [6.123963949358538, 46.21486731572546], [6.125745936691429, 46.21403192004913], [6.126111951338808, 46.21434243123986], [6.1263714555244375, 46.21421715396709], [6.127624639855809, 46.214192673840145], [6.128101674764305, 46.21396789524544], [6.128840698336542, 46.21366482430604], [6.129536821100284, 46.213743797461355], [6.129715824584564, 46.21366733135108], [6.129763546568301, 46.21324611208151], [6.1292670997621626, 46.212711337216], [6.129182332847565, 46.21270099684457], [6.129007513851845, 46.21252307940255], [6.129270588872294, 46.21240494462252], [6.12926991321042, 46.21149643380155], [6.129688323822016, 46.211503897297234], [6.1296881943296775, 46.211046225553424], [6.1293752464565685, 46.21104538386917], [6.129368755714224, 46.21081975727768], [6.129689670193956, 46.210817992352666], [6.1296959109729405, 46.21056408341168], [6.130356125188633, 46.21056112386923], [6.131372906522594, 46.20969310578784], [6.13140280815081, 46.209387199254714], [6.132010663425156, 46.20907638102781], [6.132081390802238, 46.209061365573874], [6.132296128003318, 46.20900920502911], [6.132354744606566, 46.20908404471576], [6.132684982968899, 46.20905728712121], [6.133030450124655, 46.20902556757709], [6.133175440742268, 46.20892378138879], [6.133290798266145, 46.20889038815007], [6.133399342743762, 46.2090868755025], [6.134884189651403, 46.208718437242986], [6.134899613772944, 46.20843179594179], [6.135137728516569, 46.20837021956549]]]}}, {\"id\": \"2\", \"type\": \"Feature\", \"properties\": {\"AreaPerRoom\": 27.531853242910934, \"INAEND\": \"nein\", \"OS_UUID\": \"{5DF8DDBE-8D41-42A3-8F30-F9E716E39C75}\", \"PLZ\": 1206, \"RentPerArea\": 39.905645356562005, \"RentPerRoom\": 1103.584284785727, \"STATUS\": \"real\", \"SurfaceArea\": 143.32692307692307, \"UUID\": \"{D924C540-1604-4E4A-9C30-A31E36299921}\", \"ZUSZIFF\": 0, \"ZipCode\": 1206, \"x\": 6.1573566965883915, \"y\": 46.18942238896255}, \"geometry\": {\"type\": \"Polygon\", \"coordinates\": [[[6.153826381810386, 46.17984066282308], [6.153869481466996, 46.18018807039982], [6.154024265254395, 46.18139468494512], [6.154170797076629, 46.182502330473234], [6.154387439980183, 46.18383696273992], [6.154527529150262, 46.184706119242165], [6.15440674565849, 46.1852361039577], [6.154181351602472, 46.185664483967706], [6.153749354764239, 46.186109043472975], [6.153437733198549, 46.1862884878789], [6.153084901830151, 46.186441191073556], [6.152583115023906, 46.1865594374368], [6.1522480180469, 46.18661768489922], [6.151773957276739, 46.186651754932086], [6.15109082803541, 46.18665401692032], [6.149914849976797, 46.18673972183113], [6.149687640202297, 46.186753616596], [6.149770761638963, 46.18745194521467], [6.149650982422172, 46.187560607376355], [6.148963752341505, 46.18760968314787], [6.1490114909205555, 46.18787455532854], [6.149461806147401, 46.18917934668847], [6.1494081039798605, 46.18919879576239], [6.149760538856355, 46.18976558314791], [6.149483406240811, 46.189839509695084], [6.14957885593846, 46.18997771199799], [6.14971770777838, 46.19002221357833], [6.149862194196495, 46.18999237573905], [6.150040360233139, 46.1899401695593], [6.150041917744917, 46.19022006913789], [6.149527729034671, 46.19022849859921], [6.149526411494189, 46.19063126181205], [6.149676769835623, 46.191055713335], [6.1497263220111895, 46.19174462566265], [6.149952632358675, 46.191744422443946], [6.150058838687626, 46.1924711386798], [6.1502323102512655, 46.192613110633964], [6.150348819386863, 46.19273157984942], [6.150420196617563, 46.19284665454036], [6.150542500041663, 46.193065144292355], [6.150611721268436, 46.193265843876254], [6.150627311965667, 46.19347735699532], [6.150594161797494, 46.19366276261846], [6.150516355219648, 46.19382462645666], [6.150401842782986, 46.193971856095], [6.151747304530574, 46.19465543383963], [6.151462633851074, 46.19486358390702], [6.1511545871478805, 46.195197178924], [6.15080706620566, 46.19562741609282], [6.150925327692556, 46.19567163596805], [6.1514096668960985, 46.19585971815223], [6.151218502020956, 46.19608214198403], [6.151076170898756, 46.19602574491789], [6.151000325673546, 46.19599574751801], [6.150950910641038, 46.19597612820271], [6.150776807719655, 46.196032673920776], [6.150585003038751, 46.196139174481175], [6.150191718957349, 46.19642906787624], [6.150325237755585, 46.19651620649121], [6.150517738236707, 46.196552745624615], [6.15085763155386, 46.19679640934262], [6.151019287035964, 46.19691826312658], [6.150736192291279, 46.19712106744332], [6.150281474867976, 46.19741817704987], [6.150657815093966, 46.19767892866817], [6.150411071672832, 46.19785321351504], [6.151466467732607, 46.19860217155433], [6.15190769545718, 46.198925863160134], [6.1515786023178265, 46.19912849590135], [6.151314754166283, 46.19931695554057], [6.151649959424929, 46.199538404022995], [6.152084867129296, 46.19926031601468], [6.152207133383858, 46.19913612383745], [6.152436534837076, 46.199001556180704], [6.1527441498631905, 46.19919705490242], [6.153788589460688, 46.19990875389659], [6.15485022272835, 46.19919536456832], [6.156461405542278, 46.19873379872015], [6.1563383427757685, 46.19836680588026], [6.156940285815757, 46.1976081716538], [6.157243616579087, 46.19748593230314], [6.156783519595079, 46.19693512107394], [6.157252470417411, 46.19675477294485], [6.1575309921982155, 46.197095442312104], [6.157780284774523, 46.19740051163046], [6.157611130952985, 46.19747093414304], [6.157352457239966, 46.19757846810809], [6.157285025688423, 46.19799187890545], [6.157429292284582, 46.19815911258664], [6.157462410153629, 46.198145282762745], [6.157570712350205, 46.1982607540663], [6.1577753542712825, 46.198322447677], [6.157838250204055, 46.198429476973864], [6.158002782135092, 46.19839148906131], [6.1576318853670475, 46.19793587253069], [6.157883281113985, 46.1978293438942], [6.158248921689559, 46.197684327614844], [6.158146097205111, 46.197561253873985], [6.157994693513934, 46.197380165998375], [6.157663809227189, 46.19697361345944], [6.157427145611421, 46.19668253337095], [6.158633404463256, 46.19624790772557], [6.158416661346365, 46.19601697445483], [6.159592340475188, 46.195527570170086], [6.160515352082318, 46.19510386486567], [6.160997337253002, 46.194897981360874], [6.16045123081468, 46.194334893154604], [6.160633525482006, 46.19410269116323], [6.161073844924565, 46.19427326496082], [6.1619590270754045, 46.19388349653311], [6.162377653763596, 46.19430290480231], [6.162531059683574, 46.19434034862607], [6.163292510625524, 46.19402129725972], [6.164257041444774, 46.19358370855986], [6.164467756128255, 46.19389455273723], [6.165081387988075, 46.19368437215116], [6.165001456932012, 46.19340927468237], [6.164665852504209, 46.19298845686137], [6.164883712548732, 46.19286300094345], [6.164573047293395, 46.192600519937464], [6.164863929503885, 46.19243645594738], [6.164504502716407, 46.19214365371244], [6.164745912014097, 46.192029791058225], [6.165004134485511, 46.191895497119795], [6.165712447325734, 46.19186162177542], [6.166221267292364, 46.19226155672796], [6.165813152132359, 46.19249525895581], [6.1661481456530165, 46.19274527149783], [6.166370954409867, 46.192907675613625], [6.167099790337728, 46.19246461545204], [6.167901920680074, 46.19312207964358], [6.168516961720581, 46.19276679649954], [6.167245494508808, 46.191732300616344], [6.1679120844633415, 46.191545571793185], [6.167670765971571, 46.19131158171815], [6.1672786918875495, 46.19101577549166], [6.16705175841359, 46.19087043849926], [6.16789921352841, 46.190261406742444], [6.167600134753113, 46.190059154110585], [6.167454526541173, 46.18996556610976], [6.167420119774256, 46.189930099898056], [6.167394821358576, 46.189903994017676], [6.167367604938867, 46.189865172060266], [6.167349435621954, 46.18981116654194], [6.167352514530125, 46.18978529052483], [6.167358953451553, 46.18973093259327], [6.167393677268414, 46.189609237690405], [6.1675009165074615, 46.18934899996147], [6.167512808645513, 46.189317384357196], [6.16757219491924, 46.189159710336256], [6.167620410385866, 46.189058770037015], [6.167540210390737, 46.188970687474004], [6.16757011704555, 46.18887826773681], [6.167630837843358, 46.18853979151821], [6.167670111593081, 46.18832086568268], [6.16769635755208, 46.188168864005064], [6.167704358745287, 46.18813133864384], [6.167709121360024, 46.188099363787025], [6.167789786037218, 46.1876728448819], [6.167798544402011, 46.18762508072044], [6.16786394794523, 46.18726568571132], [6.167471272237265, 46.187468087598724], [6.167096873167849, 46.18763659641923], [6.1665905643201135, 46.18784554137406], [6.166326013240334, 46.18794125204778], [6.1656478167687885, 46.18812242396959], [6.165045440108769, 46.18817940177919], [6.164742621295414, 46.1881721133589], [6.164225041872851, 46.18812001387009], [6.163899016929331, 46.18806378837092], [6.163564036665212, 46.18797516222799], [6.163264549198416, 46.187842393347594], [6.162971970835258, 46.18768020134362], [6.162549643773086, 46.187317261839326], [6.1624144636775275, 46.187143704763635], [6.162345735020557, 46.186926014541896], [6.162268527585089, 46.18648447825976], [6.162275738092647, 46.18616607364808], [6.162344753486263, 46.18592421136273], [6.162389122706672, 46.18579426006389], [6.162374458795004, 46.185320503360764], [6.16226090375323, 46.18491003551483], [6.161971707914025, 46.18435606900914], [6.161329500341682, 46.183511997350955], [6.160026501698797, 46.181503256209304], [6.1598162141111725, 46.18101036695252], [6.159715227676383, 46.18055128525302], [6.159694091276504, 46.179885013371965], [6.1596327096988555, 46.17917321115996], [6.159473809919843, 46.178852922577455], [6.1593334933836825, 46.17867328442572], [6.159097207028841, 46.17843856747409], [6.158771267395115, 46.17820518067757], [6.1583819260603505, 46.17802495489217], [6.15773675455156, 46.1778240084511], [6.15722390139957, 46.177774178568484], [6.157051145054, 46.1777735558609], [6.1568786207954505, 46.177779575159086], [6.156706821216282, 46.17779221507411], [6.156536303861359, 46.177811445962], [6.156367575121836, 46.17783721060975], [6.15620115518738, 46.177869415977256], [6.15603756425165, 46.17790796902728], [6.15587729704096, 46.17795275844205], [6.15572083597485, 46.17800364577597], [6.155568677063069, 46.17806046574995], [6.1554212776901025, 46.17812304365061], [6.155279082299467, 46.17819120461916], [6.155142549562748, 46.17826471997938], [6.155012072995184, 46.17834337830842], [6.154888072864468, 46.17842693250135], [6.154770917866766, 46.1785151258703], [6.154646154439431, 46.17863593584709], [6.154527742466301, 46.178759795957426], [6.154415866853419, 46.17888655538142], [6.1543106613560195, 46.179016035725496], [6.154212259309542, 46.179148076584326], [6.1541207944784215, 46.179282499563165], [6.154036387470785, 46.17941913511313], [6.15395913342692, 46.17955779540062], [6.153889165911089, 46.179698311022385], [6.153826381810386, 46.17984066282308]]]}}, {\"id\": \"3\", \"type\": \"Feature\", \"properties\": {\"AreaPerRoom\": 20.106477906477906, \"INAEND\": \"nein\", \"OS_UUID\": \"{5DF8DDBE-8D41-42A3-8F30-F9E716E39C75}\", \"PLZ\": 1205, \"RentPerArea\": 35.18185634549229, \"RentPerRoom\": 698.7350493350493, \"STATUS\": \"real\", \"SurfaceArea\": 75.91891891891892, \"UUID\": \"{F97E72AA-A260-4075-B3AE-F87FEDE38726}\", \"ZUSZIFF\": 0, \"ZipCode\": 1205, \"x\": 6.140328436847279, \"y\": 46.19607899458931}, \"geometry\": {\"type\": \"Polygon\", \"coordinates\": [[[6.133941757171043, 46.20367711754078], [6.134082490940982, 46.20308116531098], [6.135171888124315, 46.20315411664103], [6.1351882410407645, 46.2030713636546], [6.13525751093515, 46.20262960911857], [6.135261992134166, 46.20261022770351], [6.13529907089111, 46.20237142995401], [6.134906046680717, 46.20232945301328], [6.135013252281325, 46.20140833526411], [6.135025114959015, 46.20134100499925], [6.136801562182385, 46.20137017295368], [6.136780601145053, 46.20155842390128], [6.137639262616235, 46.20160839206448], [6.138157200142278, 46.20162283867974], [6.138162607983589, 46.20157440805566], [6.138504069962904, 46.201572594669685], [6.138604684758314, 46.20149385321198], [6.138820640445584, 46.20157624244845], [6.139264684854484, 46.20159281056077], [6.139439674680661, 46.20143963943301], [6.139368664415036, 46.20125490832992], [6.1393141608064346, 46.20127362381831], [6.139224235620209, 46.2011327592706], [6.13965738453329, 46.201004261361014], [6.14000038996689, 46.20106843505558], [6.140184779429446, 46.20104132670643], [6.140185127165167, 46.2010425002972], [6.140185889194168, 46.201043687653076], [6.14018677231243, 46.201044687469064], [6.140188033440353, 46.201045592670525], [6.14018932433981, 46.2010463362716], [6.140190863715211, 46.201046983767284], [6.140192653498876, 46.201047454208286], [6.140194460744818, 46.20104773591674], [6.140196416704388, 46.201047758428516], [6.140198236403322, 46.201047518463795], [6.140200047657661, 46.201047089468325], [6.140201759579123, 46.20104647939291], [6.140217205588165, 46.20103990953826], [6.140244453690344, 46.20102743863524], [6.14045342826462, 46.20096967268282], [6.141027216827623, 46.200165101398326], [6.1410266628454, 46.20016496907072], [6.140735744430322, 46.200100399055906], [6.141099402067911, 46.199526202894184], [6.141447342035385, 46.19902944059992], [6.1415706525282925, 46.198846162493744], [6.141615980633787, 46.198705694312174], [6.141626901854484, 46.19854054809273], [6.1416000221638, 46.19802632208232], [6.142036095178119, 46.198022815006425], [6.142149142115803, 46.19811832007699], [6.142440953332669, 46.19813036432081], [6.142443862543394, 46.19813061367174], [6.142581600140447, 46.19828994659448], [6.142601009781365, 46.198312193822936], [6.142687061509746, 46.198496168903894], [6.142706141913501, 46.19871823189823], [6.142652934296133, 46.198721318355155], [6.142662421074678, 46.19934985584908], [6.142632499185402, 46.19940663297626], [6.143017083868169, 46.1994769792256], [6.143054551476031, 46.20052262509858], [6.1431075884813895, 46.20071173572888], [6.143358179641415, 46.20090029868508], [6.143631497040784, 46.20072376975089], [6.143967646170153, 46.20098248102303], [6.144068839605751, 46.20105815398989], [6.144191919761681, 46.20108527920155], [6.144311682491659, 46.20107812429446], [6.1450167262583655, 46.20073684623907], [6.1444562571868655, 46.20020349200164], [6.14554232278907, 46.19952570953804], [6.14717439395128, 46.198513459361465], [6.147740103365184, 46.198922460898956], [6.147816702901426, 46.19881211871988], [6.1482184605137595, 46.19855625714534], [6.148388820112856, 46.198487013904746], [6.14866525758099, 46.19845306339169], [6.149649677568854, 46.19853886340892], [6.149848605311746, 46.198683375851445], [6.149849261690869, 46.19868301448071], [6.1505755633972585, 46.19819242733076], [6.1508302000256325, 46.19836940482011], [6.150362090659372, 46.19868120674986], [6.150049721516062, 46.19867484112347], [6.149936827138188, 46.19874782023386], [6.150564192161862, 46.19920884748179], [6.150379658200804, 46.1993213327707], [6.15103861252523, 46.19979424292019], [6.151241500101975, 46.19966887563483], [6.15133698694153, 46.19974510664873], [6.151649959424929, 46.199538404022995], [6.151314754166283, 46.19931695554057], [6.1515786023178265, 46.19912849590135], [6.15190769545718, 46.198925863160134], [6.151466467732607, 46.19860217155433], [6.150411071672832, 46.19785321351504], [6.150657815093966, 46.19767892866817], [6.150281474867976, 46.19741817704987], [6.150736192291279, 46.19712106744332], [6.151019287035964, 46.19691826312658], [6.15085763155386, 46.19679640934262], [6.150517738236707, 46.196552745624615], [6.150325237755585, 46.19651620649121], [6.150191718957349, 46.19642906787624], [6.150585003038751, 46.196139174481175], [6.150776807719655, 46.196032673920776], [6.150950910641038, 46.19597612820271], [6.151000325673546, 46.19599574751801], [6.151076170898756, 46.19602574491789], [6.151218502020956, 46.19608214198403], [6.1514096668960985, 46.19585971815223], [6.150925327692556, 46.19567163596805], [6.15080706620566, 46.19562741609282], [6.1511545871478805, 46.195197178924], [6.151462633851074, 46.19486358390702], [6.151747304530574, 46.19465543383963], [6.150401842782986, 46.193971856095], [6.150516355219648, 46.19382462645666], [6.150594161797494, 46.19366276261846], [6.150627311965667, 46.19347735699532], [6.150611721268436, 46.193265843876254], [6.150542500041663, 46.193065144292355], [6.150420196617563, 46.19284665454036], [6.150348819386863, 46.19273157984942], [6.1502323102512655, 46.192613110633964], [6.150058838687626, 46.1924711386798], [6.149952632358675, 46.191744422443946], [6.1497263220111895, 46.19174462566265], [6.149676769835623, 46.191055713335], [6.149526411494189, 46.19063126181205], [6.149527729034671, 46.19022849859921], [6.150041917744917, 46.19022006913789], [6.150040360233139, 46.1899401695593], [6.149862194196495, 46.18999237573905], [6.14971770777838, 46.19002221357833], [6.14957885593846, 46.18997771199799], [6.149483406240811, 46.189839509695084], [6.149760538856355, 46.18976558314791], [6.1494081039798605, 46.18919879576239], [6.149461806147401, 46.18917934668847], [6.1490114909205555, 46.18787455532854], [6.148963752341505, 46.18760968314787], [6.149650982422172, 46.187560607376355], [6.149770761638963, 46.18745194521467], [6.149687640202297, 46.186753616596], [6.148863717624061, 46.18680396339284], [6.148191698101628, 46.18686529101959], [6.147472338871547, 46.18683734615432], [6.146709637730465, 46.18679576488785], [6.145964970379387, 46.18675248681797], [6.145400899047802, 46.186763825142755], [6.145259664140527, 46.186772111115715], [6.144835544295698, 46.18680079586047], [6.143913158787938, 46.186934844061575], [6.143568524661664, 46.18703679792576], [6.14275933318733, 46.187344893467944], [6.1419462401500775, 46.188000008990215], [6.141886073809843, 46.188094944522426], [6.141689979997165, 46.18852362880124], [6.141436583381673, 46.189081783866534], [6.140479195676375, 46.19098424158469], [6.139643846635116, 46.19280348240908], [6.139262353449988, 46.19335543464533], [6.138914075899592, 46.19367125065629], [6.138167064021915, 46.194103845723376], [6.136683882152829, 46.19489886330587], [6.135564675470865, 46.19548064032958], [6.135396030482309, 46.195554256564336], [6.134094345970592, 46.196122278135405], [6.133322779520441, 46.196426712906444], [6.132415149834293, 46.197023764015825], [6.13116059037378, 46.197878847927406], [6.130121869991264, 46.19857023226688], [6.128521950196279, 46.19941328322742], [6.127458225490013, 46.199930480183106], [6.126751303194488, 46.20017994090597], [6.125999522816054, 46.200354561278424], [6.12530598766648, 46.200506264996136], [6.1246281930599125, 46.20062624495501], [6.123919867609112, 46.20075646340015], [6.12314998734573, 46.20088585174563], [6.12235144728666, 46.200929907080216], [6.121554327156036, 46.20092061291916], [6.120032844156306, 46.20096067202552], [6.120229162596841, 46.20100901241533], [6.120420594019835, 46.20106601332749], [6.120606366967337, 46.201131431854556], [6.121408409955136, 46.20143676922101], [6.121580988089198, 46.20150247290466], [6.1216204802651815, 46.201517499868636], [6.1216601326951725, 46.201532330758006], [6.1216999322076875, 46.2015469744159], [6.12173986584901, 46.20156143069087], [6.121779947007765, 46.201575681745304], [6.12182017503033, 46.20158975456208], [6.1218605376163024, 46.20160362200686], [6.121899690110842, 46.201616629607784], [6.1219389769486465, 46.20162944083174], [6.12197837156934, 46.201642082359136], [6.1220179003149955, 46.201654536503575], [6.1220575372783035, 46.20166680296263], [6.122097295412475, 46.20167888188727], [6.1221371744993895, 46.20169078227172], [6.125188588233735, 46.202599925988544], [6.125432219716355, 46.20267421516161], [6.125621568210717, 46.20272832188057], [6.125813285368115, 46.202778254305215], [6.126007191317806, 46.20282394735315], [6.126203066674015, 46.20286536247397], [6.126400730910056, 46.20290246157074], [6.1265999907607025, 46.20293519740262], [6.126800639353945, 46.202963549562604], [6.127972944830777, 46.20311645492487], [6.128131612788187, 46.20313619283692], [6.1282779528903895, 46.20315346615457], [6.128425034329006, 46.20316740105942], [6.128572689110764, 46.20317797760437], [6.128720774499737, 46.20318520312727], [6.128869109547896, 46.20318905753224], [6.1290175517354015, 46.20318953916427], [6.129165932634609, 46.203186646068445], [6.131619661827826, 46.20311065433519], [6.131640136909105, 46.203110018839595], [6.131829781248208, 46.20310843697094], [6.132019167850342, 46.20311542579836], [6.132207494530395, 46.203130940045774], [6.132393972054753, 46.20315493459234], [6.132577812914255, 46.20318729236743], [6.13275822980993, 46.2032278873113], [6.1329344626391284, 46.203276539702564], [6.133105764892275, 46.203333042991105], [6.133271416605433, 46.203397163947315], [6.13390900993263, 46.203663216578896], [6.133941757171043, 46.20367711754078]]]}}, {\"id\": \"4\", \"type\": \"Feature\", \"properties\": {\"AreaPerRoom\": 21.860883268778007, \"INAEND\": \"nein\", \"OS_UUID\": \"{5DF8DDBE-8D41-42A3-8F30-F9E716E39C75}\", \"PLZ\": 1207, \"RentPerArea\": 41.64690722209325, \"RentPerRoom\": 904.1794998860789, \"STATUS\": \"real\", \"SurfaceArea\": 100.05263157894737, \"UUID\": \"{B5EA9714-EF37-41F0-B481-F59A93221892}\", \"ZUSZIFF\": 0, \"ZipCode\": 1207, \"x\": 6.162358479628013, \"y\": 46.206612590383116}, \"geometry\": {\"type\": \"Polygon\", \"coordinates\": [[[6.157405499545926, 46.209956107412935], [6.157460039292055, 46.21001241692565], [6.157979921544355, 46.21054930115698], [6.1595144698203335, 46.212228497891324], [6.159806981918908, 46.21254859079025], [6.161900290885797, 46.21522384980327], [6.171632857603126, 46.2121255723639], [6.1722873149284885, 46.211917284280084], [6.172361656856008, 46.21189139814765], [6.172548430425346, 46.21160128764164], [6.172447371890706, 46.2115557095815], [6.172446709433338, 46.21155633192224], [6.172393498403314, 46.211532397162294], [6.172382590555361, 46.21152777636559], [6.172371815619706, 46.21152301311099], [6.172361160221554, 46.21151812524189], [6.172130274412653, 46.21141638945525], [6.172037932326154, 46.21137495740734], [6.171378095224535, 46.21105689892265], [6.171957043918482, 46.21064316009191], [6.172111296548359, 46.210535760703166], [6.172545485223906, 46.21022708679031], [6.172563272684904, 46.210214510955694], [6.17294804160064, 46.20994100721898], [6.172950281728226, 46.209939412927476], [6.173019876104973, 46.209889091879894], [6.172992189542956, 46.209870427900405], [6.172983275945132, 46.20986421010861], [6.172912015131339, 46.209863635669365], [6.173282238395789, 46.20959966620046], [6.173209541619303, 46.20955054723316], [6.17279771197321, 46.209274818904795], [6.172774082999905, 46.20925944822556], [6.172143094436552, 46.208838704549095], [6.1722728803305555, 46.20874668476822], [6.172226562634947, 46.20871566583378], [6.1722201792427525, 46.2087115456367], [6.172179081499833, 46.2086850836597], [6.171903395566851, 46.20850385270872], [6.171833618856823, 46.208445759836174], [6.171829805618895, 46.20844256815064], [6.171150648122585, 46.20787695159365], [6.17088213242035, 46.20765027491624], [6.170754190644786, 46.2066976797716], [6.170784247947754, 46.2066478964791], [6.1710384353682715, 46.206433300410644], [6.171091228273134, 46.206394316698166], [6.171431742958897, 46.20614288513195], [6.171453099935718, 46.20612555429573], [6.171474022098521, 46.206107975659116], [6.171494522402076, 46.206090149367945], [6.171514846506405, 46.20606987397085], [6.171534632367756, 46.2060493406157], [6.171553879776817, 46.20602855829723], [6.171561362952323, 46.20601938465304], [6.171568756281013, 46.206010174012214], [6.1715760340631265, 46.206000917089455], [6.171584332645407, 46.20599011518761], [6.1715924899806724, 46.20597925771834], [6.171600505859496, 46.205968353676056], [6.171615660680607, 46.20596861383316], [6.171619280342832, 46.20596397615768], [6.171625447893937, 46.20596566483866], [6.171624764541887, 46.20596718661677], [6.171627923758792, 46.205967851868785], [6.171631166360876, 46.20596827514414], [6.171634453274747, 46.20596846500081], [6.17164034305778, 46.205968171270726], [6.171646056540834, 46.20596710183773], [6.171651359283235, 46.20596530804972], [6.171656094362463, 46.20596285112216], [6.1716742819956885, 46.20594417112578], [6.171673126555786, 46.205943708311985], [6.17170780190798, 46.205901443972884], [6.171730143568038, 46.20588244174642], [6.171415111621838, 46.20572325956943], [6.170855324239918, 46.20537986147289], [6.169640079638045, 46.204566358659285], [6.168989320475483, 46.204070583941814], [6.168851111258526, 46.204168982744314], [6.1685839632005735, 46.20398314311564], [6.168713779835216, 46.20388457819904], [6.168180363000916, 46.20365300540344], [6.169605816830616, 46.20265939366966], [6.167589281623467, 46.20148391692405], [6.168029268664907, 46.20113748590499], [6.167749086104945, 46.20098012508319], [6.167751314845037, 46.20088584591955], [6.167586886756711, 46.2008811145034], [6.167505352819275, 46.20084881507589], [6.167512651511047, 46.200662906827326], [6.16781033574333, 46.2006677900226], [6.167817723358154, 46.20045141066963], [6.167521130487879, 46.20044644980947], [6.167536154107039, 46.20006359007614], [6.167172871282058, 46.19996680240547], [6.166751958768967, 46.19996144591074], [6.166480789547218, 46.199811335902524], [6.164680168303727, 46.19976299139964], [6.16385772954951, 46.19974509091719], [6.163860749227137, 46.19979370770017], [6.163244108190118, 46.19977819104707], [6.162577721108348, 46.19977342630307], [6.162215755633376, 46.19977222837942], [6.162022565868855, 46.19994422926177], [6.160694675271868, 46.19973217394633], [6.160632051947679, 46.19994576819123], [6.160346975602746, 46.19999669904627], [6.160083962098276, 46.19999092951577], [6.157528885227491, 46.199675853675174], [6.157161951768068, 46.199314684071815], [6.156660601005687, 46.19876988152549], [6.156461405542278, 46.19873379872015], [6.15485022272835, 46.19919536456832], [6.153788589460688, 46.19990875389659], [6.1527441498631905, 46.19919705490242], [6.152436534837076, 46.199001556180704], [6.152207133383858, 46.19913612383745], [6.152084867129296, 46.19926031601468], [6.153193094512815, 46.200052756663304], [6.153174040261686, 46.200338188250726], [6.153370892276107, 46.20049444748854], [6.1536216852278915, 46.20106311373869], [6.153988481622829, 46.201210160414725], [6.154517639119049, 46.201096158343866], [6.154642380983079, 46.201391764740144], [6.154337949130759, 46.20173396585996], [6.154630179585022, 46.20242293890976], [6.155153212751576, 46.20257166075528], [6.155219390117905, 46.20273235883263], [6.154332953440174, 46.20291518990989], [6.15424917991516, 46.20304980913591], [6.1543345899531, 46.20326787443851], [6.154615662796335, 46.203385315182935], [6.154829979074138, 46.20388761677938], [6.1543369071268765, 46.204406087109675], [6.149882480692948, 46.20684167156055], [6.156954163547914, 46.20999623552592], [6.157405499545926, 46.209956107412935]]]}}, {\"id\": \"5\", \"type\": \"Feature\", \"properties\": {\"AreaPerRoom\": 21.283923417851987, \"INAEND\": \"nein\", \"OS_UUID\": \"{5DF8DDBE-8D41-42A3-8F30-F9E716E39C75}\", \"PLZ\": 1201, \"RentPerArea\": 41.40310241507456, \"RentPerRoom\": 882.1095650381365, \"STATUS\": \"real\", \"SurfaceArea\": 82.14285714285714, \"UUID\": \"{5CE53C00-4565-4D02-A695-7DEE2B916405}\", \"ZUSZIFF\": 0, \"ZipCode\": 1201, \"x\": 6.146909938243938, \"y\": 46.2107418106785}, \"geometry\": {\"type\": \"Polygon\", \"coordinates\": [[[6.161900290885797, 46.21522384980327], [6.159806981918908, 46.21254859079025], [6.1595144698203335, 46.212228497891324], [6.157979921544355, 46.21054930115698], [6.157460039292055, 46.21001241692565], [6.157405499545926, 46.209956107412935], [6.156954163547914, 46.20999623552592], [6.149882480692948, 46.20684167156055], [6.149191318806715, 46.20665662740449], [6.1477093059186885, 46.2064777377474], [6.1463596918770085, 46.20623957149851], [6.14480922438223, 46.20586746230218], [6.143766599182222, 46.205592307984354], [6.142709142531864, 46.20532714898293], [6.141854532984931, 46.205114945803324], [6.140910482658437, 46.204992863285675], [6.1398323120561695, 46.20499060527977], [6.138925188356532, 46.20485319570047], [6.137906537122609, 46.204987412221655], [6.136805331097182, 46.20511761715593], [6.136795380521071, 46.205118653936744], [6.136785373138552, 46.205119357178035], [6.136775321904025, 46.20511972702923], [6.136765265680751, 46.2051197639388], [6.136755204468917, 46.205119467906684], [6.136745189870711, 46.20511884852519], [6.136735222316945, 46.205117887805635], [6.136728982382071, 46.20511710505154], [6.136722784324555, 46.20511619682449], [6.1367166281444385, 46.205115163124525], [6.13671051405701, 46.20511399495736], [6.136704454586073, 46.20511271046109], [6.136698463116525, 46.20511129179655], [6.136692526478892, 46.205109747808606], [6.13607151607959, 46.20483715505025], [6.1354622690291984, 46.20449460925539], [6.134512001587516, 46.20395728662301], [6.134459714406502, 46.20392823418997], [6.13440689768903, 46.2038996524436], [6.134353551218929, 46.20387155037749], [6.134299675211302, 46.2038439189965], [6.134245294926447, 46.20381678558252], [6.1341904235333695, 46.20379014129015], [6.134135048077377, 46.20376398596898], [6.134079253184848, 46.20373803269766], [6.134022966750856, 46.2037125865346], [6.133966214682448, 46.203687647778615], [6.133941757171043, 46.20367711754078], [6.13390900993263, 46.203663216578896], [6.133271416605433, 46.203397163947315], [6.133105764892275, 46.203333042991105], [6.1329344626391284, 46.203276539702564], [6.13275822980993, 46.2032278873113], [6.132577812914255, 46.20318729236743], [6.132393972054753, 46.20315493459234], [6.132207494530395, 46.203130940045774], [6.132019167850342, 46.20311542579836], [6.131829781248208, 46.20310843697094], [6.131640136909105, 46.203110018839595], [6.131619661827826, 46.20311065433519], [6.131189630915852, 46.204018375438], [6.13305488965909, 46.20435347075895], [6.133180229740457, 46.20440044516921], [6.13328277715961, 46.20444148771755], [6.133369816416151, 46.204480281481835], [6.133454478722912, 46.20452147682971], [6.133535293797147, 46.204566406286204], [6.133611749951957, 46.2046147940355], [6.1336833311796, 46.20466654414958], [6.133749776236916, 46.20472174358484], [6.133809794011879, 46.20478019748169], [6.133866005554052, 46.204840676602956], [6.133919214004591, 46.204902110620324], [6.134278533897941, 46.20532363803372], [6.134295577876569, 46.205347775687564], [6.134307015031024, 46.205373368987956], [6.134311953429616, 46.205399786843174], [6.134307674795971, 46.20542690786083], [6.134297471642593, 46.20545252089168], [6.1342795370308645, 46.20547632614227], [6.134277237665766, 46.20547818889789], [6.134239046938657, 46.20563232222473], [6.134525956430717, 46.20568883721411], [6.134623469431904, 46.2059491904513], [6.134324162118555, 46.20591247841661], [6.13404820680593, 46.20588868516918], [6.133403996099945, 46.20583786966618], [6.13332903250813, 46.2058319731882], [6.134098622790052, 46.206876429350395], [6.134223281173215, 46.20703855431371], [6.134435597641631, 46.20697668122834], [6.1346936555686185, 46.20736886749297], [6.134253350970387, 46.20750295941275], [6.134348375635405, 46.20761480912324], [6.134659400690358, 46.20751125159497], [6.1349654754314065, 46.207884468955875], [6.134704800361071, 46.207979612378814], [6.135137728516569, 46.20837021956549], [6.13513425831546, 46.20891997684568], [6.135933283290671, 46.20896933067376], [6.135850903665111, 46.209773777258945], [6.135855122795551, 46.209981743105786], [6.1351433753546285, 46.210280585555715], [6.135201640868713, 46.210336769184885], [6.135521571958792, 46.21038131013049], [6.135873602914887, 46.21050323379267], [6.136454906757292, 46.210277825166884], [6.136553108275449, 46.210387280441594], [6.136631436433396, 46.21046618694217], [6.13622512000883, 46.21063585665597], [6.135918089150844, 46.210766815214654], [6.136013664566503, 46.21087228203182], [6.136433170209131, 46.21087712414066], [6.136555711203606, 46.211003864331104], [6.136792943171154, 46.2112496963773], [6.136418928806876, 46.21141776022332], [6.136502750076257, 46.21151789977493], [6.136172559272179, 46.21165955897472], [6.136628569910238, 46.212345145175135], [6.136787558850348, 46.212579008223905], [6.137077465948877, 46.21271442622174], [6.137611390691518, 46.212102950107685], [6.137900469112568, 46.212056260319166], [6.138298407050297, 46.21211797672612], [6.139154065088508, 46.21182230115527], [6.139858221624356, 46.21273656995751], [6.1403441610381035, 46.21346064960516], [6.1404953480186535, 46.21430989126532], [6.140001170860718, 46.214473075947645], [6.140053760653093, 46.21455024426399], [6.14018097268135, 46.21469916632871], [6.140430973491494, 46.21499237073236], [6.140423650527468, 46.2154674096279], [6.144522918221018, 46.21553671631822], [6.145212784247912, 46.21504474360074], [6.145212925268374, 46.21498977457898], [6.145364742012934, 46.21488948153086], [6.14522940525461, 46.21479493016718], [6.145856375540104, 46.21438790060633], [6.146021295204576, 46.214515925410836], [6.146402290511126, 46.21435366775216], [6.146289261007742, 46.21420716451941], [6.146448299047578, 46.21415185593938], [6.146977939349711, 46.21394604440935], [6.147535757177286, 46.21370501538074], [6.147909780825624, 46.21355211965993], [6.148046291080968, 46.21372507054712], [6.148303008789096, 46.21359476338817], [6.148611116002387, 46.2134779086233], [6.148457511378124, 46.21329891505071], [6.1488722042694866, 46.21316321528688], [6.14911053487924, 46.21309216518357], [6.1491994320236625, 46.21324549725659], [6.148977936017631, 46.213333474048426], [6.149400178072363, 46.213890613968054], [6.149150595665274, 46.214004271054485], [6.1493800903193865, 46.214311525735475], [6.149756503396057, 46.21417259628044], [6.150810934622865, 46.21403564757951], [6.150900364503847, 46.21422695090703], [6.150809602481924, 46.21448592322202], [6.150484819694935, 46.21516883556373], [6.150552582805488, 46.21521286578781], [6.1506029588714535, 46.21527471814571], [6.150718016496567, 46.21528746632861], [6.150718469107313, 46.21528477244813], [6.151086739464021, 46.21533224066228], [6.15124492169364, 46.216281977319305], [6.155766068490644, 46.217358831696124], [6.161900290885797, 46.21522384980327]]]}}, {\"id\": \"6\", \"type\": \"Feature\", \"properties\": {\"AreaPerRoom\": 24.85254844361987, \"INAEND\": \"nein\", \"OS_UUID\": \"{5DF8DDBE-8D41-42A3-8F30-F9E716E39C75}\", \"PLZ\": 1208, \"RentPerArea\": 36.85780559644569, \"RentPerRoom\": 909.2452484023913, \"STATUS\": \"real\", \"SurfaceArea\": 88.07142857142857, \"UUID\": \"{6C0C2A10-B4FA-43B9-A9B2-8DACE70978A5}\", \"ZUSZIFF\": 0, \"ZipCode\": 1208, \"x\": 6.16757285189, \"y\": 46.19844559371096}, \"geometry\": {\"type\": \"Polygon\", \"coordinates\": [[[6.171730143568038, 46.20588244174642], [6.172083793580334, 46.206003730283484], [6.173177568371618, 46.20638128153867], [6.173818357439963, 46.20660204124529], [6.174208117877839, 46.20673560357121], [6.174250875376878, 46.20675363544339], [6.174429929643957, 46.206831214754516], [6.1748759726252604, 46.2070260436041], [6.174830976926013, 46.20683273878932], [6.174902332460119, 46.2068246042486], [6.1749820683498875, 46.206800450305934], [6.17505296816405, 46.206765077340656], [6.175108017894135, 46.206713062739084], [6.175435283437712, 46.206301040501785], [6.175845404283118, 46.20578658988655], [6.175797525243801, 46.20579549159897], [6.175663737694222, 46.20582045353885], [6.175654088577848, 46.20581746655852], [6.175066502629833, 46.20543625293117], [6.174682786602374, 46.205187323640146], [6.174186153345242, 46.2046750515905], [6.173982927269384, 46.20446540715588], [6.17458324424305, 46.204187117002114], [6.174956938739663, 46.204014327814406], [6.174885942256731, 46.2039530742802], [6.174794483946599, 46.203873507974876], [6.174759356070169, 46.20387462591548], [6.174743052336585, 46.20386249555962], [6.174737429436937, 46.20385856395648], [6.174498428148944, 46.20368908609848], [6.1744804576394525, 46.203676199292225], [6.174507097284227, 46.20366174308429], [6.174225645732208, 46.203406571558205], [6.174144051245268, 46.20344956131151], [6.174077326708518, 46.20340582686246], [6.173390308887341, 46.20295590582899], [6.1734162027988155, 46.20293451400156], [6.173649363603956, 46.20275926239722], [6.173853209675174, 46.202608143912116], [6.173733668006063, 46.202477700011045], [6.1740020573751355, 46.20233082265058], [6.174038282799641, 46.202311435820825], [6.1740750196684635, 46.20229178480936], [6.17447902947573, 46.20207409239177], [6.174502782573101, 46.20206059349464], [6.174591729720062, 46.202013898254364], [6.174675441743091, 46.20196833186684], [6.174690004473214, 46.20196056886839], [6.174798456703391, 46.201899715156905], [6.174817738731075, 46.20188903607694], [6.174846648290801, 46.20187164529264], [6.174971950384035, 46.20180439453843], [6.175025639161017, 46.20177449685298], [6.175239086828023, 46.2016559438431], [6.175397117835508, 46.20156802470447], [6.17574811655833, 46.20137293693728], [6.175811910059291, 46.201337493036824], [6.175822533983342, 46.20133194399466], [6.175540850269989, 46.20106526624513], [6.175117324841584, 46.2006627764368], [6.175082461931739, 46.200630267501886], [6.174977404220789, 46.20052895673419], [6.174817187727398, 46.20035972312076], [6.174699955146733, 46.200235963704785], [6.174694625543913, 46.200231135705074], [6.17442246347899, 46.199945488582195], [6.174318499017213, 46.19983627227034], [6.174218289754851, 46.19957110296207], [6.174300364893977, 46.19955734912027], [6.174380515012136, 46.199542242124096], [6.174430486986079, 46.19953281572636], [6.174441158703038, 46.199530776092566], [6.174509745567309, 46.19951759968394], [6.174601766704407, 46.19949901785013], [6.174649801906189, 46.1994892997518], [6.174680381300952, 46.199483074731795], [6.174688403879566, 46.19948129329004], [6.174696015307633, 46.19947880549321], [6.174703097962093, 46.19947565500746], [6.174709534219907, 46.199471885498795], [6.174714981866788, 46.199467727049274], [6.174719636453081, 46.199463127869265], [6.174723431332476, 46.19945816818317], [6.174726300276793, 46.199452910226356], [6.174728101429243, 46.199447325419335], [6.174728881586532, 46.19944163020884], [6.174728625915056, 46.19943590539968], [6.174727345069154, 46.199430250075565], [6.174686422645056, 46.19930114679054], [6.174647316082475, 46.199177542867204], [6.174665659264831, 46.199174329620455], [6.174575119773339, 46.19888832450999], [6.174554196900569, 46.19882358323245], [6.174451805643234, 46.19850738700591], [6.174357460762575, 46.19831273723224], [6.174353842421164, 46.19830675881314], [6.174296352103414, 46.1982216348286], [6.174279066811949, 46.19819607020879], [6.174087149012955, 46.19791900476158], [6.17391342264723, 46.19767875077551], [6.173860071982531, 46.197605098864216], [6.173683128911929, 46.19734168674215], [6.17365467345484, 46.197300081479625], [6.173453815674321, 46.19699990990538], [6.173380388877294, 46.196901570371196], [6.173344032703089, 46.196852643006544], [6.173144057420305, 46.19658485112734], [6.173048856072689, 46.19647580384534], [6.17258980803523, 46.19595364429664], [6.172568500696393, 46.19592839413026], [6.17246445411031, 46.19580092963116], [6.172166365826845, 46.19547731625373], [6.171798623916713, 46.19508509316009], [6.17123794594276, 46.1945059254976], [6.171335817290883, 46.19445835256987], [6.171335098996671, 46.19443301858542], [6.171341858716796, 46.19440811948948], [6.171355812888368, 46.19438470471731], [6.171376381315109, 46.194363766389955], [6.1714026750552495, 46.194346203191195], [6.171813243055407, 46.1941997590873], [6.172086508688382, 46.19409676478133], [6.172374642554653, 46.19396162933208], [6.172632999593378, 46.193892375194125], [6.172590669953427, 46.19380742942859], [6.172573550899337, 46.19380264893268], [6.1725618490877645, 46.19378776288814], [6.172511016678925, 46.19372304535762], [6.172402572987971, 46.19363996645826], [6.172178494732944, 46.19346498274011], [6.171992305129735, 46.19348333278897], [6.171750751943976, 46.19362212129097], [6.171620504684582, 46.19360196307228], [6.171321399225403, 46.19373481410195], [6.171092949778737, 46.19348123725843], [6.170986283862486, 46.19352934989226], [6.170681742940275, 46.19331118302803], [6.170950270538601, 46.19314400924847], [6.170611774063382, 46.19288317572271], [6.170815385670452, 46.19274979312589], [6.170734808008469, 46.19267746203985], [6.170140485221945, 46.192817157473876], [6.1694091183785424, 46.192209070327095], [6.168516961720581, 46.19276679649954], [6.167901920680074, 46.19312207964358], [6.167099790337728, 46.19246461545204], [6.166370954409867, 46.192907675613625], [6.1661481456530165, 46.19274527149783], [6.165813152132359, 46.19249525895581], [6.166221267292364, 46.19226155672796], [6.165712447325734, 46.19186162177542], [6.165004134485511, 46.191895497119795], [6.164745912014097, 46.192029791058225], [6.164504502716407, 46.19214365371244], [6.164863929503885, 46.19243645594738], [6.164573047293395, 46.192600519937464], [6.164883712548732, 46.19286300094345], [6.164665852504209, 46.19298845686137], [6.165001456932012, 46.19340927468237], [6.165081387988075, 46.19368437215116], [6.164467756128255, 46.19389455273723], [6.164257041444774, 46.19358370855986], [6.163292510625524, 46.19402129725972], [6.162531059683574, 46.19434034862607], [6.162377653763596, 46.19430290480231], [6.1619590270754045, 46.19388349653311], [6.161073844924565, 46.19427326496082], [6.160633525482006, 46.19410269116323], [6.16045123081468, 46.194334893154604], [6.160997337253002, 46.194897981360874], [6.160515352082318, 46.19510386486567], [6.159592340475188, 46.195527570170086], [6.158416661346365, 46.19601697445483], [6.158633404463256, 46.19624790772557], [6.157427145611421, 46.19668253337095], [6.157663809227189, 46.19697361345944], [6.157994693513934, 46.197380165998375], [6.158146097205111, 46.197561253873985], [6.158248921689559, 46.197684327614844], [6.157883281113985, 46.1978293438942], [6.1576318853670475, 46.19793587253069], [6.158002782135092, 46.19839148906131], [6.157838250204055, 46.198429476973864], [6.1577753542712825, 46.198322447677], [6.157570712350205, 46.1982607540663], [6.157462410153629, 46.198145282762745], [6.157429292284582, 46.19815911258664], [6.157285025688423, 46.19799187890545], [6.157352457239966, 46.19757846810809], [6.157611130952985, 46.19747093414304], [6.157780284774523, 46.19740051163046], [6.1575309921982155, 46.197095442312104], [6.157252470417411, 46.19675477294485], [6.156783519595079, 46.19693512107394], [6.157243616579087, 46.19748593230314], [6.156940285815757, 46.1976081716538], [6.1563383427757685, 46.19836680588026], [6.156461405542278, 46.19873379872015], [6.156660601005687, 46.19876988152549], [6.157161951768068, 46.199314684071815], [6.157528885227491, 46.199675853675174], [6.160083962098276, 46.19999092951577], [6.160346975602746, 46.19999669904627], [6.160632051947679, 46.19994576819123], [6.160694675271868, 46.19973217394633], [6.162022565868855, 46.19994422926177], [6.162215755633376, 46.19977222837942], [6.162577721108348, 46.19977342630307], [6.163244108190118, 46.19977819104707], [6.163860749227137, 46.19979370770017], [6.16385772954951, 46.19974509091719], [6.164680168303727, 46.19976299139964], [6.166480789547218, 46.199811335902524], [6.166751958768967, 46.19996144591074], [6.167172871282058, 46.19996680240547], [6.167536154107039, 46.20006359007614], [6.167521130487879, 46.20044644980947], [6.167817723358154, 46.20045141066963], [6.16781033574333, 46.2006677900226], [6.167512651511047, 46.200662906827326], [6.167505352819275, 46.20084881507589], [6.167586886756711, 46.2008811145034], [6.167751314845037, 46.20088584591955], [6.167749086104945, 46.20098012508319], [6.168029268664907, 46.20113748590499], [6.167589281623467, 46.20148391692405], [6.169605816830616, 46.20265939366966], [6.168180363000916, 46.20365300540344], [6.168713779835216, 46.20388457819904], [6.1685839632005735, 46.20398314311564], [6.168851111258526, 46.204168982744314], [6.168989320475483, 46.204070583941814], [6.169640079638045, 46.204566358659285], [6.170855324239918, 46.20537986147289], [6.171415111621838, 46.20572325956943], [6.171730143568038, 46.20588244174642]]]}}, {\"id\": \"7\", \"type\": \"Feature\", \"properties\": {\"AreaPerRoom\": 27.183621933621936, \"INAEND\": \"nein\", \"OS_UUID\": \"{5DF8DDBE-8D41-42A3-8F30-F9E716E39C75}\", \"PLZ\": 1209, \"RentPerArea\": 37.278601640570365, \"RentPerRoom\": 999.2236652236652, \"STATUS\": \"real\", \"SurfaceArea\": 129.66666666666666, \"UUID\": \"{3D367D5E-04A6-4FF4-9C6D-DD16E3D70903}\", \"ZUSZIFF\": 0, \"ZipCode\": 1209, \"x\": 6.123191030789287, \"y\": 46.22147417789295}, \"geometry\": {\"type\": \"Polygon\", \"coordinates\": [[[6.12173948482506, 46.215670728575404], [6.119254435742948, 46.216208469102895], [6.119244113819005, 46.216209221120636], [6.119233908806679, 46.2162104963235], [6.119223860012959, 46.21621227717731], [6.119214019265298, 46.21621456428803], [6.1192044515662545, 46.216217349418976], [6.119195196659467, 46.21622059704726], [6.119186306154097, 46.216224316773335], [6.119177832750725, 46.216228473225854], [6.119169815974784, 46.21623303987652], [6.118668399563882, 46.216396812283115], [6.118650699648757, 46.216402507206396], [6.117294807913498, 46.21653319866094], [6.115812854066276, 46.21696595132478], [6.113782723712378, 46.2175172175521], [6.112348414491514, 46.217907299649575], [6.111048195933712, 46.218277618626544], [6.110630547537338, 46.21840030775912], [6.110858022852346, 46.21869779472883], [6.111192858513672, 46.218882742302085], [6.111719828397902, 46.21921029967443], [6.112612819106758, 46.21966287607931], [6.113716928908296, 46.22022238687783], [6.113831732136397, 46.220273352448054], [6.1139409663993, 46.22026295669424], [6.11450592780667, 46.22056241751117], [6.115010192551541, 46.22083165378489], [6.115454614500279, 46.22105681214932], [6.115757745954558, 46.22120301140256], [6.116043790906638, 46.22133660287916], [6.1164219758171505, 46.22151047256587], [6.116687978357922, 46.22164006686716], [6.116952898158539, 46.22177639551458], [6.117286260847432, 46.22196863079732], [6.117300500139903, 46.221990210099634], [6.1174317616174605, 46.222070946383226], [6.117667137668594, 46.221927996959806], [6.117793720856417, 46.222023648881496], [6.117781298915874, 46.22211560463705], [6.11778124493124, 46.222119427682244], [6.1177815280816255, 46.22212324567617], [6.117782148804134, 46.222127040630134], [6.117783094140529, 46.222130812392514], [6.117784377704617, 46.22213453413189], [6.117785974016821, 46.22213818755635], [6.117787883077205, 46.222141772665886], [6.117790077439748, 46.22214535211747], [6.117792585424497, 46.22214882727674], [6.117795407250035, 46.2221521891493], [6.117798517436705, 46.22215541944325], [6.117801915984534, 46.22215851815855], [6.117805577632382, 46.22216145800883], [6.117809489421844, 46.222164238842524], [6.118562221051586, 46.22264043380509], [6.1185177717038535, 46.2226549387033], [6.118517627051461, 46.22265555779654], [6.118564923866038, 46.22268553981569], [6.119815033829383, 46.22347317572538], [6.119870101729723, 46.22350828624197], [6.119879188812576, 46.22351361061224], [6.120071838598369, 46.22367649180466], [6.120240651868609, 46.223793390054986], [6.12076757041847, 46.22415824953827], [6.121754722469281, 46.22484034510883], [6.122090918923164, 46.22514774094702], [6.1219723452063, 46.22525173823839], [6.121671120357454, 46.22550472496051], [6.121291525642989, 46.225844650802266], [6.121264734014548, 46.22587503546301], [6.121239300429162, 46.22590768518922], [6.121220853910327, 46.22594086630764], [6.121210422157826, 46.225975499502155], [6.121214590890292, 46.22601156267817], [6.121225003835081, 46.22604671807638], [6.121244272910329, 46.2260801684675], [6.121316709328364, 46.22615990756319], [6.121435707892678, 46.2262910583713], [6.121888033460128, 46.22670716069518], [6.121980308698755, 46.22675517386302], [6.122060847178507, 46.226736491129735], [6.122133406696537, 46.226696131759184], [6.122731532446687, 46.22636530976296], [6.1230606441469355, 46.22617913218127], [6.123250733786689, 46.22608587277812], [6.123468770417901, 46.226011922119746], [6.123557985723949, 46.2259806538448], [6.123839026799586, 46.22587538067912], [6.12452398752315, 46.22652586948016], [6.124873621017343, 46.22635872907212], [6.125158607317045, 46.22662884814858], [6.125201542579699, 46.226669563807214], [6.125387061358113, 46.2268427350496], [6.125331934788127, 46.22687255705742], [6.125493753357899, 46.22711462031639], [6.125780727020342, 46.22734835951978], [6.126170453978015, 46.227103480593925], [6.126783110583752, 46.22762659145317], [6.126977277258321, 46.227791988239964], [6.127686442204647, 46.22735306455255], [6.12861114820204, 46.227978754674105], [6.128719659136444, 46.22805646040461], [6.130178274951892, 46.227029256304704], [6.128475474578159, 46.22585493571655], [6.128114414252344, 46.22612029019671], [6.127950972302365, 46.22617858141385], [6.1277854708184, 46.22615560675108], [6.127636773117343, 46.22607011884458], [6.12887238889047, 46.225032010520735], [6.129367218157654, 46.22531548491585], [6.130070091651317, 46.22479165149885], [6.131007571909458, 46.22410076142577], [6.131470929609312, 46.224129790576264], [6.132154050212059, 46.22458295478285], [6.1322195669662705, 46.22468852657283], [6.132182850222683, 46.22480317141429], [6.132755371036243, 46.22515014819214], [6.133327460878989, 46.22473787215595], [6.1339259067148735, 46.224312672627285], [6.133838534396479, 46.224239426817064], [6.1335616450447725, 46.22400928872442], [6.133461139669184, 46.223926992859155], [6.133167747922873, 46.22368678437991], [6.133215894950638, 46.22365580728727], [6.132913273002822, 46.22337094791524], [6.132956701862748, 46.223340501146], [6.133246375736602, 46.2231372390861], [6.133578369387882, 46.22290425422817], [6.133751734059128, 46.22278290285957], [6.133836227542506, 46.222723762728336], [6.133508413799031, 46.22244789844831], [6.133462203878806, 46.22240902846176], [6.133149128704138, 46.22214516440842], [6.132963411819662, 46.221989070796866], [6.133092647151534, 46.22187064672422], [6.133002615863049, 46.22180416208505], [6.132809130520946, 46.221661266691754], [6.132527939465565, 46.22145337032872], [6.1324658918917345, 46.221493273057824], [6.132200560624883, 46.22129648159385], [6.132349926169725, 46.221200693573984], [6.132123144906312, 46.221032490275626], [6.132110396659427, 46.22102306693281], [6.132016638165603, 46.2210627102636], [6.131758859566143, 46.221235110319746], [6.131698549236247, 46.22128037688207], [6.131326854565611, 46.221573769065294], [6.131296954400393, 46.22159737235602], [6.130962020969322, 46.221810766274835], [6.130902282121709, 46.22183329498424], [6.130758108212429, 46.221648403233566], [6.130656047614338, 46.221580463742754], [6.1306335669532785, 46.22148367587196], [6.130621367379404, 46.22146061047861], [6.13060827538292, 46.22145309031492], [6.130592320419995, 46.221447120415526], [6.130523120904033, 46.2214254186602], [6.130573125463144, 46.22135061352796], [6.1305821346271205, 46.22133657487885], [6.130675850011305, 46.22119533066239], [6.130256005910155, 46.22085273095232], [6.130435853812477, 46.22074748324535], [6.12957541410085, 46.22013021784972], [6.12998257742178, 46.21977839426781], [6.1295316188643625, 46.219521251982215], [6.129043677497891, 46.21981500653299], [6.128824170579614, 46.22000085348994], [6.128247584208584, 46.2196591168818], [6.1275085543148755, 46.21916875123309], [6.12673180695725, 46.21853390229109], [6.12609916200272, 46.21801354463774], [6.125726615046068, 46.21828928366187], [6.125149156890031, 46.21782957170055], [6.124564601479784, 46.21750841583684], [6.123392909000264, 46.21743988534888], [6.122338010727786, 46.216738965061666], [6.1206238746323045, 46.217768983959026], [6.119725745640853, 46.216991416951736], [6.1217829620786475, 46.215738910438375], [6.12173948482506, 46.215670728575404]]]}}, {\"id\": \"8\", \"type\": \"Feature\", \"properties\": {\"AreaPerRoom\": 25.27799284049284, \"INAEND\": \"nein\", \"OS_UUID\": \"{5DF8DDBE-8D41-42A3-8F30-F9E716E39C75}\", \"PLZ\": 1204, \"RentPerArea\": 44.574250296415975, \"RentPerRoom\": 1117.3373174444603, \"STATUS\": \"real\", \"SurfaceArea\": 88.07142857142857, \"UUID\": \"{FCB46C5D-6DDB-47B4-BC27-AA674D0CB3A9}\", \"ZUSZIFF\": 0, \"ZipCode\": 1204, \"x\": 6.145689822511712, \"y\": 46.202708295777356}, \"geometry\": {\"type\": \"Polygon\", \"coordinates\": [[[6.149882480692948, 46.20684167156055], [6.1543369071268765, 46.204406087109675], [6.154829979074138, 46.20388761677938], [6.154615662796335, 46.203385315182935], [6.1543345899531, 46.20326787443851], [6.15424917991516, 46.20304980913591], [6.154332953440174, 46.20291518990989], [6.155219390117905, 46.20273235883263], [6.155153212751576, 46.20257166075528], [6.154630179585022, 46.20242293890976], [6.154337949130759, 46.20173396585996], [6.154642380983079, 46.201391764740144], [6.154517639119049, 46.201096158343866], [6.153988481622829, 46.201210160414725], [6.1536216852278915, 46.20106311373869], [6.153370892276107, 46.20049444748854], [6.153174040261686, 46.200338188250726], [6.153193094512815, 46.200052756663304], [6.152084867129296, 46.19926031601468], [6.151649959424929, 46.199538404022995], [6.15133698694153, 46.19974510664873], [6.151241500101975, 46.19966887563483], [6.15103861252523, 46.19979424292019], [6.150379658200804, 46.1993213327707], [6.150564192161862, 46.19920884748179], [6.149936827138188, 46.19874782023386], [6.150049721516062, 46.19867484112347], [6.150362090659372, 46.19868120674986], [6.1508302000256325, 46.19836940482011], [6.1505755633972585, 46.19819242733076], [6.149849261690869, 46.19868301448071], [6.149848605311746, 46.198683375851445], [6.149649677568854, 46.19853886340892], [6.14866525758099, 46.19845306339169], [6.148388820112856, 46.198487013904746], [6.1482184605137595, 46.19855625714534], [6.147816702901426, 46.19881211871988], [6.147740103365184, 46.198922460898956], [6.14717439395128, 46.198513459361465], [6.14554232278907, 46.19952570953804], [6.1444562571868655, 46.20020349200164], [6.1450167262583655, 46.20073684623907], [6.144311682491659, 46.20107812429446], [6.144191919761681, 46.20108527920155], [6.144068839605751, 46.20105815398989], [6.143967646170153, 46.20098248102303], [6.143631497040784, 46.20072376975089], [6.143358179641415, 46.20090029868508], [6.1431075884813895, 46.20071173572888], [6.143054551476031, 46.20052262509858], [6.143017083868169, 46.1994769792256], [6.142632499185402, 46.19940663297626], [6.142662421074678, 46.19934985584908], [6.142652934296133, 46.198721318355155], [6.142706141913501, 46.19871823189823], [6.142687061509746, 46.198496168903894], [6.142601009781365, 46.198312193822936], [6.142581600140447, 46.19828994659448], [6.142443862543394, 46.19813061367174], [6.142440953332669, 46.19813036432081], [6.142149142115803, 46.19811832007699], [6.142036095178119, 46.198022815006425], [6.1416000221638, 46.19802632208232], [6.141626901854484, 46.19854054809273], [6.141615980633787, 46.198705694312174], [6.1415706525282925, 46.198846162493744], [6.141447342035385, 46.19902944059992], [6.141099402067911, 46.199526202894184], [6.140735744430322, 46.200100399055906], [6.1410266628454, 46.20016496907072], [6.141027216827623, 46.200165101398326], [6.14045342826462, 46.20096967268282], [6.140244453690344, 46.20102743863524], [6.140217205588165, 46.20103990953826], [6.140201759579123, 46.20104647939291], [6.140200047657661, 46.201047089468325], [6.140198236403322, 46.201047518463795], [6.140196416704388, 46.201047758428516], [6.140194460744818, 46.20104773591674], [6.140192653498876, 46.201047454208286], [6.140190863715211, 46.201046983767284], [6.14018932433981, 46.2010463362716], [6.140188033440353, 46.201045592670525], [6.14018677231243, 46.201044687469064], [6.140185889194168, 46.201043687653076], [6.140185127165167, 46.2010425002972], [6.140184779429446, 46.20104132670643], [6.14000038996689, 46.20106843505558], [6.13965738453329, 46.201004261361014], [6.139224235620209, 46.2011327592706], [6.1393141608064346, 46.20127362381831], [6.139368664415036, 46.20125490832992], [6.139439674680661, 46.20143963943301], [6.139264684854484, 46.20159281056077], [6.138820640445584, 46.20157624244845], [6.138604684758314, 46.20149385321198], [6.138504069962904, 46.201572594669685], [6.138162607983589, 46.20157440805566], [6.138157200142278, 46.20162283867974], [6.137639262616235, 46.20160839206448], [6.136780601145053, 46.20155842390128], [6.136801562182385, 46.20137017295368], [6.135025114959015, 46.20134100499925], [6.135013252281325, 46.20140833526411], [6.134906046680717, 46.20232945301328], [6.13529907089111, 46.20237142995401], [6.135261992134166, 46.20261022770351], [6.13525751093515, 46.20262960911857], [6.1351882410407645, 46.2030713636546], [6.135171888124315, 46.20315411664103], [6.134082490940982, 46.20308116531098], [6.133941757171043, 46.20367711754078], [6.133966214682448, 46.203687647778615], [6.134022966750856, 46.2037125865346], [6.134079253184848, 46.20373803269766], [6.134135048077377, 46.20376398596898], [6.1341904235333695, 46.20379014129015], [6.134245294926447, 46.20381678558252], [6.134299675211302, 46.2038439189965], [6.134353551218929, 46.20387155037749], [6.13440689768903, 46.2038996524436], [6.134459714406502, 46.20392823418997], [6.134512001587516, 46.20395728662301], [6.1354622690291984, 46.20449460925539], [6.13607151607959, 46.20483715505025], [6.136692526478892, 46.205109747808606], [6.136698463116525, 46.20511129179655], [6.136704454586073, 46.20511271046109], [6.13671051405701, 46.20511399495736], [6.1367166281444385, 46.205115163124525], [6.136722784324555, 46.20511619682449], [6.136728982382071, 46.20511710505154], [6.136735222316945, 46.205117887805635], [6.136745189870711, 46.20511884852519], [6.136755204468917, 46.205119467906684], [6.136765265680751, 46.2051197639388], [6.136775321904025, 46.20511972702923], [6.136785373138552, 46.205119357178035], [6.136795380521071, 46.205118653936744], [6.136805331097182, 46.20511761715593], [6.137906537122609, 46.204987412221655], [6.138925188356532, 46.20485319570047], [6.1398323120561695, 46.20499060527977], [6.140910482658437, 46.204992863285675], [6.141854532984931, 46.205114945803324], [6.142709142531864, 46.20532714898293], [6.143766599182222, 46.205592307984354], [6.14480922438223, 46.20586746230218], [6.1463596918770085, 46.20623957149851], [6.1477093059186885, 46.2064777377474], [6.149191318806715, 46.20665662740449], [6.149882480692948, 46.20684167156055]]]}}]}, \"$schema\": \"https://vega.github.io/schema/vega-lite/v4.17.0.json\"}, {\"mode\": \"vega-lite\"});\n",
       "</script>"
      ],
      "text/plain": [
       "alt.LayerChart(...)"
      ]
     },
     "execution_count": 280,
     "metadata": {},
     "output_type": "execute_result"
    }
   ],
   "source": [
    "## Our intention to show distribution of apt regarding the size of rooms in heatmap\n",
    "## df['AreaPerRoom'] = df['SurfaceArea'] / df['NumRooms']\n",
    "## We realize the biggest biggest apts for their rooms size are located in ZipCode 1206 and 1209\n",
    "alt_AreaPerRoom = alt.Chart(alt_gen).mark_geoshape(\n",
    "    stroke = 'white'\n",
    ").encode(\n",
    "    latitude = 'properties.y:Q',\n",
    "    longitude = 'properties.x:Q',\n",
    "    color = 'properties.AreaPerRoom:Q'\n",
    ").properties(\n",
    "    width = 700,\n",
    "    height = 600\n",
    ")\n",
    "\n",
    "text  = alt.Chart(alt_gen).mark_text(\n",
    "        color = 'black',\n",
    "        fontWeight = 'bold'\n",
    ").encode(\n",
    "    longitude = 'properties.x:Q',\n",
    "    latitude = 'properties.y:Q',\n",
    "    text = 'properties.ZipCode:Q',\n",
    ")\n",
    "chart = alt_AreaPerRoom + text\n",
    "chart"
   ]
  },
  {
   "cell_type": "code",
   "execution_count": 281,
   "id": "f73164f8",
   "metadata": {},
   "outputs": [],
   "source": [
    "#export DataFrame to CSV file\n",
    "df.to_csv(r'/Users/bkhan/switchdrive/2nd semester courses/CIP/scrapings/Homegate scraping/Homegate_stage.csv', index=False)"
   ]
  },
  {
   "cell_type": "code",
   "execution_count": null,
   "id": "06541d3a",
   "metadata": {},
   "outputs": [],
   "source": []
  }
 ],
 "metadata": {
  "kernelspec": {
   "display_name": "Python 3 (ipykernel)",
   "language": "python",
   "name": "python3"
  },
  "language_info": {
   "codemirror_mode": {
    "name": "ipython",
    "version": 3
   },
   "file_extension": ".py",
   "mimetype": "text/x-python",
   "name": "python",
   "nbconvert_exporter": "python",
   "pygments_lexer": "ipython3",
   "version": "3.9.7"
  }
 },
 "nbformat": 4,
 "nbformat_minor": 5
}
